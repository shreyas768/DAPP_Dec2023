{
 "cells": [
  {
   "cell_type": "markdown",
   "id": "643265cf",
   "metadata": {},
   "source": [
    "#### List: Most general version of sequence in Python\n",
    "#### Unlike Strings, Lists are mutable ( means elements inside a list can be reassigned or altered)"
   ]
  },
  {
   "cell_type": "code",
   "execution_count": 1,
   "id": "090a5af3",
   "metadata": {},
   "outputs": [],
   "source": [
    "lst1 = [1,2,3]"
   ]
  },
  {
   "cell_type": "code",
   "execution_count": 2,
   "id": "62c0058d",
   "metadata": {},
   "outputs": [
    {
     "data": {
      "text/plain": [
       "list"
      ]
     },
     "execution_count": 2,
     "metadata": {},
     "output_type": "execute_result"
    }
   ],
   "source": [
    "type(lst1)"
   ]
  },
  {
   "cell_type": "code",
   "execution_count": 3,
   "id": "59930eb9",
   "metadata": {},
   "outputs": [
    {
     "data": {
      "text/plain": [
       "3"
      ]
     },
     "execution_count": 3,
     "metadata": {},
     "output_type": "execute_result"
    }
   ],
   "source": [
    "len(lst1)"
   ]
  },
  {
   "cell_type": "code",
   "execution_count": 4,
   "id": "61a3c4d6",
   "metadata": {},
   "outputs": [],
   "source": [
    "lst2 = ['string one', 23, 100.43, True]"
   ]
  },
  {
   "cell_type": "code",
   "execution_count": 5,
   "id": "ad2dac6e",
   "metadata": {},
   "outputs": [
    {
     "data": {
      "text/plain": [
       "list"
      ]
     },
     "execution_count": 5,
     "metadata": {},
     "output_type": "execute_result"
    }
   ],
   "source": [
    "type(lst2)"
   ]
  },
  {
   "cell_type": "code",
   "execution_count": 6,
   "id": "75d595e6",
   "metadata": {},
   "outputs": [
    {
     "data": {
      "text/plain": [
       "'string one'"
      ]
     },
     "execution_count": 6,
     "metadata": {},
     "output_type": "execute_result"
    }
   ],
   "source": [
    "lst2[0]"
   ]
  },
  {
   "cell_type": "code",
   "execution_count": 7,
   "id": "da0958ee",
   "metadata": {},
   "outputs": [
    {
     "data": {
      "text/plain": [
       "str"
      ]
     },
     "execution_count": 7,
     "metadata": {},
     "output_type": "execute_result"
    }
   ],
   "source": [
    "type(lst2[0])"
   ]
  },
  {
   "cell_type": "code",
   "execution_count": 8,
   "id": "a39dfd97",
   "metadata": {},
   "outputs": [
    {
     "data": {
      "text/plain": [
       "100.43"
      ]
     },
     "execution_count": 8,
     "metadata": {},
     "output_type": "execute_result"
    }
   ],
   "source": [
    "lst2[2]"
   ]
  },
  {
   "cell_type": "code",
   "execution_count": 9,
   "id": "27f6344d",
   "metadata": {},
   "outputs": [
    {
     "name": "stdout",
     "output_type": "stream",
     "text": [
      "string one\n"
     ]
    }
   ],
   "source": [
    "print(lst2[0])"
   ]
  },
  {
   "cell_type": "code",
   "execution_count": 10,
   "id": "6424f6c9",
   "metadata": {},
   "outputs": [
    {
     "data": {
      "text/plain": [
       "['string', 'one']"
      ]
     },
     "execution_count": 10,
     "metadata": {},
     "output_type": "execute_result"
    }
   ],
   "source": [
    "lst2[0].split()"
   ]
  },
  {
   "cell_type": "code",
   "execution_count": 11,
   "id": "9eade0c4",
   "metadata": {},
   "outputs": [
    {
     "data": {
      "text/plain": [
       "'string'"
      ]
     },
     "execution_count": 11,
     "metadata": {},
     "output_type": "execute_result"
    }
   ],
   "source": [
    "lst2[0].split()[0]"
   ]
  },
  {
   "cell_type": "code",
   "execution_count": 12,
   "id": "86636840",
   "metadata": {},
   "outputs": [
    {
     "data": {
      "text/plain": [
       "'ing'"
      ]
     },
     "execution_count": 12,
     "metadata": {},
     "output_type": "execute_result"
    }
   ],
   "source": [
    "lst2[0].split()[0][-3:6]"
   ]
  },
  {
   "cell_type": "code",
   "execution_count": 13,
   "id": "00fda005",
   "metadata": {},
   "outputs": [
    {
     "data": {
      "text/plain": [
       "['string one', 23, 100.43]"
      ]
     },
     "execution_count": 13,
     "metadata": {},
     "output_type": "execute_result"
    }
   ],
   "source": [
    "lst2[-4:-1] #slicing alt approach lst2[0:3]"
   ]
  },
  {
   "cell_type": "code",
   "execution_count": 14,
   "id": "429c2063",
   "metadata": {},
   "outputs": [
    {
     "data": {
      "text/plain": [
       "['string one', 23, 100.43, True, 'new element']"
      ]
     },
     "execution_count": 14,
     "metadata": {},
     "output_type": "execute_result"
    }
   ],
   "source": [
    "#concatenate lists\n",
    "\n",
    "lst2 + ['new element']"
   ]
  },
  {
   "cell_type": "code",
   "execution_count": 15,
   "id": "432b651c",
   "metadata": {},
   "outputs": [
    {
     "data": {
      "text/plain": [
       "['string one', 23, 100.43, True]"
      ]
     },
     "execution_count": 15,
     "metadata": {},
     "output_type": "execute_result"
    }
   ],
   "source": [
    "lst2"
   ]
  },
  {
   "cell_type": "code",
   "execution_count": 16,
   "id": "e8fb276e",
   "metadata": {},
   "outputs": [],
   "source": [
    "lst2 = lst2 + ['new element added permanently']"
   ]
  },
  {
   "cell_type": "code",
   "execution_count": 17,
   "id": "26a31160",
   "metadata": {},
   "outputs": [
    {
     "data": {
      "text/plain": [
       "['string one', 23, 100.43, True, 'new element added permanently']"
      ]
     },
     "execution_count": 17,
     "metadata": {},
     "output_type": "execute_result"
    }
   ],
   "source": [
    "lst2"
   ]
  },
  {
   "cell_type": "code",
   "execution_count": 18,
   "id": "1371e153",
   "metadata": {},
   "outputs": [
    {
     "data": {
      "text/plain": [
       "['string one',\n",
       " 23,\n",
       " 100.43,\n",
       " True,\n",
       " 'new element added permanently',\n",
       " 'string one',\n",
       " 23,\n",
       " 100.43,\n",
       " True,\n",
       " 'new element added permanently']"
      ]
     },
     "execution_count": 18,
     "metadata": {},
     "output_type": "execute_result"
    }
   ],
   "source": [
    "#* for duplication\n",
    "lst2 * 2"
   ]
  },
  {
   "cell_type": "code",
   "execution_count": 19,
   "id": "4db8a40e",
   "metadata": {},
   "outputs": [
    {
     "data": {
      "text/plain": [
       "['string one', 23, 100.43, True, 'new element added permanently']"
      ]
     },
     "execution_count": 19,
     "metadata": {},
     "output_type": "execute_result"
    }
   ],
   "source": [
    "lst2"
   ]
  },
  {
   "cell_type": "markdown",
   "id": "8c6d1dc1",
   "metadata": {},
   "source": [
    "## Basic List Methods"
   ]
  },
  {
   "cell_type": "code",
   "execution_count": 20,
   "id": "a78477e2",
   "metadata": {},
   "outputs": [],
   "source": [
    "lst1 = [1,2,3]"
   ]
  },
  {
   "cell_type": "code",
   "execution_count": 21,
   "id": "424951f2",
   "metadata": {},
   "outputs": [],
   "source": [
    "#append method: add an item permanently to the list\n",
    "lst1.append('appended element')"
   ]
  },
  {
   "cell_type": "code",
   "execution_count": 22,
   "id": "e3c823ae",
   "metadata": {},
   "outputs": [
    {
     "data": {
      "text/plain": [
       "[1, 2, 3, 'appended element']"
      ]
     },
     "execution_count": 22,
     "metadata": {},
     "output_type": "execute_result"
    }
   ],
   "source": [
    "lst1"
   ]
  },
  {
   "cell_type": "code",
   "execution_count": 23,
   "id": "0a958769",
   "metadata": {},
   "outputs": [
    {
     "data": {
      "text/plain": [
       "'appended element'"
      ]
     },
     "execution_count": 23,
     "metadata": {},
     "output_type": "execute_result"
    }
   ],
   "source": [
    "lst1.pop() #default index is -1"
   ]
  },
  {
   "cell_type": "code",
   "execution_count": 24,
   "id": "df3b4071",
   "metadata": {
    "scrolled": true
   },
   "outputs": [
    {
     "data": {
      "text/plain": [
       "[1, 2, 3]"
      ]
     },
     "execution_count": 24,
     "metadata": {},
     "output_type": "execute_result"
    }
   ],
   "source": [
    "lst1"
   ]
  },
  {
   "cell_type": "code",
   "execution_count": 25,
   "id": "600f6779",
   "metadata": {},
   "outputs": [],
   "source": [
    "xy = lst1.pop(1) #or -2"
   ]
  },
  {
   "cell_type": "code",
   "execution_count": 26,
   "id": "4a4ef8b3",
   "metadata": {},
   "outputs": [
    {
     "data": {
      "text/plain": [
       "[1, 3]"
      ]
     },
     "execution_count": 26,
     "metadata": {},
     "output_type": "execute_result"
    }
   ],
   "source": [
    "lst1"
   ]
  },
  {
   "cell_type": "code",
   "execution_count": 27,
   "id": "91d13b8d",
   "metadata": {},
   "outputs": [
    {
     "data": {
      "text/plain": [
       "2"
      ]
     },
     "execution_count": 27,
     "metadata": {},
     "output_type": "execute_result"
    }
   ],
   "source": [
    "xy"
   ]
  },
  {
   "cell_type": "code",
   "execution_count": 28,
   "id": "e92e1f9e",
   "metadata": {},
   "outputs": [
    {
     "data": {
      "text/plain": [
       "5"
      ]
     },
     "execution_count": 28,
     "metadata": {},
     "output_type": "execute_result"
    }
   ],
   "source": [
    "len(lst2)"
   ]
  },
  {
   "cell_type": "code",
   "execution_count": 29,
   "id": "f8a539d9",
   "metadata": {},
   "outputs": [
    {
     "ename": "IndexError",
     "evalue": "list index out of range",
     "output_type": "error",
     "traceback": [
      "\u001b[1;31m---------------------------------------------------------------------------\u001b[0m",
      "\u001b[1;31mIndexError\u001b[0m                                Traceback (most recent call last)",
      "Cell \u001b[1;32mIn[29], line 1\u001b[0m\n\u001b[1;32m----> 1\u001b[0m lst2[\u001b[38;5;241m10\u001b[39m]\n",
      "\u001b[1;31mIndexError\u001b[0m: list index out of range"
     ]
    }
   ],
   "source": [
    "lst2[10]  #Error if no element at that index"
   ]
  },
  {
   "cell_type": "code",
   "execution_count": 30,
   "id": "b84685b4",
   "metadata": {},
   "outputs": [],
   "source": [
    "new_lst = ['e','x','j','p','u']"
   ]
  },
  {
   "cell_type": "code",
   "execution_count": 31,
   "id": "c9a4bbc1",
   "metadata": {},
   "outputs": [
    {
     "data": {
      "text/plain": [
       "['e', 'x', 'j', 'p', 'u']"
      ]
     },
     "execution_count": 31,
     "metadata": {},
     "output_type": "execute_result"
    }
   ],
   "source": [
    "new_lst"
   ]
  },
  {
   "cell_type": "code",
   "execution_count": 32,
   "id": "98494c85",
   "metadata": {},
   "outputs": [],
   "source": [
    "#reverse order\n",
    "new_lst.reverse()"
   ]
  },
  {
   "cell_type": "code",
   "execution_count": 33,
   "id": "5691611a",
   "metadata": {},
   "outputs": [
    {
     "data": {
      "text/plain": [
       "['u', 'p', 'j', 'x', 'e']"
      ]
     },
     "execution_count": 33,
     "metadata": {},
     "output_type": "execute_result"
    }
   ],
   "source": [
    "new_lst"
   ]
  },
  {
   "cell_type": "code",
   "execution_count": 39,
   "id": "7bf91bb6",
   "metadata": {},
   "outputs": [],
   "source": [
    "#sort function\n",
    "sorted1 = new_lst.sort() #inplace changes"
   ]
  },
  {
   "cell_type": "code",
   "execution_count": 35,
   "id": "b2e0ac24",
   "metadata": {},
   "outputs": [
    {
     "data": {
      "text/plain": [
       "['e', 'j', 'p', 'u', 'x']"
      ]
     },
     "execution_count": 35,
     "metadata": {},
     "output_type": "execute_result"
    }
   ],
   "source": [
    "new_lst"
   ]
  },
  {
   "cell_type": "code",
   "execution_count": 40,
   "id": "92784d36",
   "metadata": {},
   "outputs": [],
   "source": [
    "sorted1"
   ]
  },
  {
   "cell_type": "code",
   "execution_count": 41,
   "id": "4ed851cd",
   "metadata": {},
   "outputs": [
    {
     "data": {
      "text/plain": [
       "NoneType"
      ]
     },
     "execution_count": 41,
     "metadata": {},
     "output_type": "execute_result"
    }
   ],
   "source": [
    "type(sorted1)"
   ]
  },
  {
   "cell_type": "code",
   "execution_count": 42,
   "id": "c328c0b3",
   "metadata": {},
   "outputs": [],
   "source": [
    "num = [10,2,99,56,21,43]"
   ]
  },
  {
   "cell_type": "code",
   "execution_count": 43,
   "id": "bb5e49c8",
   "metadata": {},
   "outputs": [
    {
     "data": {
      "text/plain": [
       "[10, 2, 99, 56, 21, 43]"
      ]
     },
     "execution_count": 43,
     "metadata": {},
     "output_type": "execute_result"
    }
   ],
   "source": [
    "num"
   ]
  },
  {
   "cell_type": "code",
   "execution_count": 44,
   "id": "a14a53c0",
   "metadata": {},
   "outputs": [],
   "source": [
    "num.sort()"
   ]
  },
  {
   "cell_type": "code",
   "execution_count": 45,
   "id": "c1a755f1",
   "metadata": {},
   "outputs": [
    {
     "data": {
      "text/plain": [
       "[2, 10, 21, 43, 56, 99]"
      ]
     },
     "execution_count": 45,
     "metadata": {},
     "output_type": "execute_result"
    }
   ],
   "source": [
    "num"
   ]
  },
  {
   "cell_type": "markdown",
   "id": "a4b50a48",
   "metadata": {},
   "source": [
    "## Nested Lists"
   ]
  },
  {
   "cell_type": "code",
   "execution_count": 46,
   "id": "e0eb1ac4",
   "metadata": {},
   "outputs": [],
   "source": [
    "lst1 = [1,2,3]\n",
    "lst2 = [4,5,6]\n",
    "lst3 = [7,8,9]"
   ]
  },
  {
   "cell_type": "code",
   "execution_count": 48,
   "id": "b0ab5ecb",
   "metadata": {},
   "outputs": [],
   "source": [
    "mat1 = [lst1,lst2,lst3]"
   ]
  },
  {
   "cell_type": "code",
   "execution_count": 49,
   "id": "49b86d36",
   "metadata": {},
   "outputs": [
    {
     "data": {
      "text/plain": [
       "[[1, 2, 3], [4, 5, 6], [7, 8, 9]]"
      ]
     },
     "execution_count": 49,
     "metadata": {},
     "output_type": "execute_result"
    }
   ],
   "source": [
    "mat1"
   ]
  },
  {
   "cell_type": "code",
   "execution_count": 51,
   "id": "764b1130",
   "metadata": {},
   "outputs": [
    {
     "data": {
      "text/plain": [
       "5"
      ]
     },
     "execution_count": 51,
     "metadata": {},
     "output_type": "execute_result"
    }
   ],
   "source": [
    "mat1[1][1]"
   ]
  },
  {
   "cell_type": "markdown",
   "id": "e1da4567",
   "metadata": {},
   "source": [
    "## List comprehensions"
   ]
  },
  {
   "cell_type": "code",
   "execution_count": 56,
   "id": "4f6a5d92",
   "metadata": {},
   "outputs": [
    {
     "data": {
      "text/plain": [
       "[3, 6, 9]"
      ]
     },
     "execution_count": 56,
     "metadata": {},
     "output_type": "execute_result"
    }
   ],
   "source": [
    "[hello[2] for hello in mat1]\n"
   ]
  },
  {
   "cell_type": "code",
   "execution_count": 54,
   "id": "e91e74d3",
   "metadata": {},
   "outputs": [
    {
     "data": {
      "text/plain": [
       "[1.0, 2.0, 2.6457513110645907]"
      ]
     },
     "execution_count": 54,
     "metadata": {},
     "output_type": "execute_result"
    }
   ],
   "source": [
    "[hello[0]**0.5 for hello in mat1]"
   ]
  },
  {
   "cell_type": "markdown",
   "id": "f989bedf",
   "metadata": {},
   "source": [
    "## Exercises"
   ]
  },
  {
   "cell_type": "code",
   "execution_count": 58,
   "id": "bd1221f0",
   "metadata": {},
   "outputs": [],
   "source": [
    "a1 = [True, False, 45.6, 500, 'hello DAPP', 98]\n",
    "\n",
    "#grab element at index 0 and 1\n",
    "#grab element at index -3 and do a cube root\n",
    "#slice a1 by pruning 2 elements at the start and also at the end\n",
    "#get me length of string at index -2 \n",
    "#using various techniques, get me this list: [500, True, False, 'hello DAPP']"
   ]
  },
  {
   "cell_type": "code",
   "execution_count": 73,
   "id": "fd8d612d",
   "metadata": {},
   "outputs": [
    {
     "data": {
      "text/plain": [
       "[500]"
      ]
     },
     "execution_count": 73,
     "metadata": {},
     "output_type": "execute_result"
    }
   ],
   "source": [
    "[a1[-3]]"
   ]
  },
  {
   "cell_type": "code",
   "execution_count": 72,
   "id": "eeabdb5a",
   "metadata": {},
   "outputs": [
    {
     "data": {
      "text/plain": [
       "[True, False]"
      ]
     },
     "execution_count": 72,
     "metadata": {},
     "output_type": "execute_result"
    }
   ],
   "source": [
    "a1[0:2]"
   ]
  },
  {
   "cell_type": "code",
   "execution_count": 74,
   "id": "1f5d9b46",
   "metadata": {},
   "outputs": [
    {
     "data": {
      "text/plain": [
       "[500, True, False, 'hello DAPP']"
      ]
     },
     "execution_count": 74,
     "metadata": {},
     "output_type": "execute_result"
    }
   ],
   "source": [
    "[a1[-3]]+a1[0:2]+[a1[-2]]"
   ]
  },
  {
   "cell_type": "code",
   "execution_count": 59,
   "id": "f6b9a696",
   "metadata": {},
   "outputs": [
    {
     "data": {
      "text/plain": [
       "[True, False]"
      ]
     },
     "execution_count": 59,
     "metadata": {},
     "output_type": "execute_result"
    }
   ],
   "source": [
    "a1[0:2]"
   ]
  },
  {
   "cell_type": "code",
   "execution_count": 60,
   "id": "a2f13060",
   "metadata": {},
   "outputs": [
    {
     "data": {
      "text/plain": [
       "7.937005259840997"
      ]
     },
     "execution_count": 60,
     "metadata": {},
     "output_type": "execute_result"
    }
   ],
   "source": [
    "a1[-3]**(1/3)"
   ]
  },
  {
   "cell_type": "code",
   "execution_count": 63,
   "id": "d35f470d",
   "metadata": {},
   "outputs": [],
   "source": [
    "aa1 = a1[2:]"
   ]
  },
  {
   "cell_type": "code",
   "execution_count": 65,
   "id": "26255a0b",
   "metadata": {},
   "outputs": [
    {
     "data": {
      "text/plain": [
       "98"
      ]
     },
     "execution_count": 65,
     "metadata": {},
     "output_type": "execute_result"
    }
   ],
   "source": [
    "aa1.pop()"
   ]
  },
  {
   "cell_type": "code",
   "execution_count": 67,
   "id": "5e27a6e3",
   "metadata": {},
   "outputs": [
    {
     "data": {
      "text/plain": [
       "'hello DAPP'"
      ]
     },
     "execution_count": 67,
     "metadata": {},
     "output_type": "execute_result"
    }
   ],
   "source": [
    "aa1.pop()"
   ]
  },
  {
   "cell_type": "code",
   "execution_count": 68,
   "id": "327a2a68",
   "metadata": {},
   "outputs": [
    {
     "data": {
      "text/plain": [
       "[45.6, 500]"
      ]
     },
     "execution_count": 68,
     "metadata": {},
     "output_type": "execute_result"
    }
   ],
   "source": [
    "aa1"
   ]
  },
  {
   "cell_type": "code",
   "execution_count": 69,
   "id": "be110c77",
   "metadata": {},
   "outputs": [
    {
     "data": {
      "text/plain": [
       "10"
      ]
     },
     "execution_count": 69,
     "metadata": {},
     "output_type": "execute_result"
    }
   ],
   "source": [
    "len(a1[-2])"
   ]
  },
  {
   "cell_type": "code",
   "execution_count": 70,
   "id": "1a89669a",
   "metadata": {},
   "outputs": [
    {
     "data": {
      "text/plain": [
       "[500, True, 'hello DAPP']"
      ]
     },
     "execution_count": 70,
     "metadata": {},
     "output_type": "execute_result"
    }
   ],
   "source": [
    "[a1[3],a1[0],a1[4]]"
   ]
  },
  {
   "cell_type": "code",
   "execution_count": 77,
   "id": "eae64c4a",
   "metadata": {},
   "outputs": [],
   "source": [
    "x12 = ['Hey Shreyas.',[\"Hey What's up?\", 45.98, 23, ['Would you like to come for dinner?', [1000000, ['We all are going'], 91]], 4.11]]\n",
    "\n",
    "#\"Hey Shreyas. What's up? Would you like to come for dinner? We all are going\"\n",
    "#Grab 91"
   ]
  },
  {
   "cell_type": "code",
   "execution_count": 94,
   "id": "f89de13e",
   "metadata": {},
   "outputs": [
    {
     "data": {
      "text/plain": [
       "\"Hey Shreyas. What's up? Would you like to come for dinner? We all are going.\""
      ]
     },
     "execution_count": 94,
     "metadata": {},
     "output_type": "execute_result"
    }
   ],
   "source": [
    "x12[0]+x12[1][0][3:]+' ' + x12[1][3][0]+' ' +x12[-1][-2][-1][-2][0]+'.'"
   ]
  },
  {
   "cell_type": "code",
   "execution_count": 96,
   "id": "6a68a209",
   "metadata": {},
   "outputs": [
    {
     "data": {
      "text/plain": [
       "91"
      ]
     },
     "execution_count": 96,
     "metadata": {},
     "output_type": "execute_result"
    }
   ],
   "source": [
    "x12[1][3][1][2]"
   ]
  },
  {
   "cell_type": "code",
   "execution_count": 97,
   "id": "6ecabde5",
   "metadata": {},
   "outputs": [],
   "source": [
    "x = []"
   ]
  },
  {
   "cell_type": "code",
   "execution_count": 98,
   "id": "645f3f83",
   "metadata": {},
   "outputs": [],
   "source": [
    "x.append(3)"
   ]
  },
  {
   "cell_type": "code",
   "execution_count": 99,
   "id": "4cdf0323",
   "metadata": {},
   "outputs": [
    {
     "data": {
      "text/plain": [
       "[3]"
      ]
     },
     "execution_count": 99,
     "metadata": {},
     "output_type": "execute_result"
    }
   ],
   "source": [
    "x"
   ]
  },
  {
   "cell_type": "code",
   "execution_count": null,
   "id": "4ad6e6b4",
   "metadata": {},
   "outputs": [],
   "source": []
  }
 ],
 "metadata": {
  "kernelspec": {
   "display_name": "Python 3 (ipykernel)",
   "language": "python",
   "name": "python3"
  },
  "language_info": {
   "codemirror_mode": {
    "name": "ipython",
    "version": 3
   },
   "file_extension": ".py",
   "mimetype": "text/x-python",
   "name": "python",
   "nbconvert_exporter": "python",
   "pygments_lexer": "ipython3",
   "version": "3.11.5"
  }
 },
 "nbformat": 4,
 "nbformat_minor": 5
}
