{
 "cells": [
  {
   "cell_type": "markdown",
   "id": "2df137e4",
   "metadata": {},
   "source": [
    "## Construction of Dictionary"
   ]
  },
  {
   "cell_type": "code",
   "execution_count": 1,
   "id": "6bd528d9",
   "metadata": {},
   "outputs": [],
   "source": [
    "d1 = {'key1':'value1','key2': 100.4534}"
   ]
  },
  {
   "cell_type": "code",
   "execution_count": 5,
   "id": "42ef4ea4",
   "metadata": {},
   "outputs": [
    {
     "data": {
      "text/plain": [
       "'value1'"
      ]
     },
     "execution_count": 5,
     "metadata": {},
     "output_type": "execute_result"
    }
   ],
   "source": [
    "d1['key1']"
   ]
  },
  {
   "cell_type": "code",
   "execution_count": 3,
   "id": "4d0cf06d",
   "metadata": {},
   "outputs": [
    {
     "data": {
      "text/plain": [
       "100.4534"
      ]
     },
     "execution_count": 3,
     "metadata": {},
     "output_type": "execute_result"
    }
   ],
   "source": [
    "d1['key2']"
   ]
  },
  {
   "cell_type": "code",
   "execution_count": 6,
   "id": "6e6632eb",
   "metadata": {},
   "outputs": [],
   "source": [
    "d2 = {'k1':123,'k2':[12,54,98], 'k3':[True,23,45.7,'Hello']}"
   ]
  },
  {
   "cell_type": "code",
   "execution_count": 7,
   "id": "1d5fc589",
   "metadata": {},
   "outputs": [
    {
     "data": {
      "text/plain": [
       "[12, 54, 98]"
      ]
     },
     "execution_count": 7,
     "metadata": {},
     "output_type": "execute_result"
    }
   ],
   "source": [
    "d2['k2']"
   ]
  },
  {
   "cell_type": "code",
   "execution_count": 8,
   "id": "8cdfdb7e",
   "metadata": {},
   "outputs": [
    {
     "data": {
      "text/plain": [
       "4.5"
      ]
     },
     "execution_count": 8,
     "metadata": {},
     "output_type": "execute_result"
    }
   ],
   "source": [
    "d2['k2'][1]/d2['k2'][0]"
   ]
  },
  {
   "cell_type": "code",
   "execution_count": 13,
   "id": "70a7aea0",
   "metadata": {},
   "outputs": [
    {
     "data": {
      "text/plain": [
       "9.14"
      ]
     },
     "execution_count": 13,
     "metadata": {},
     "output_type": "execute_result"
    }
   ],
   "source": [
    "d2['k3'][-2]/len(d2['k3'][-1])"
   ]
  },
  {
   "cell_type": "code",
   "execution_count": 14,
   "id": "fbd11e06",
   "metadata": {},
   "outputs": [],
   "source": [
    "d2['k1'] = d2['k1']-23"
   ]
  },
  {
   "cell_type": "code",
   "execution_count": 15,
   "id": "9b13e1af",
   "metadata": {},
   "outputs": [
    {
     "data": {
      "text/plain": [
       "{'k1': 100, 'k2': [12, 54, 98], 'k3': [True, 23, 45.7, 'Hello']}"
      ]
     },
     "execution_count": 15,
     "metadata": {},
     "output_type": "execute_result"
    }
   ],
   "source": [
    "d2"
   ]
  },
  {
   "cell_type": "code",
   "execution_count": 16,
   "id": "8ca2a620",
   "metadata": {},
   "outputs": [],
   "source": [
    "d2['k4'] = 'Cat'"
   ]
  },
  {
   "cell_type": "code",
   "execution_count": 17,
   "id": "7efd1fca",
   "metadata": {},
   "outputs": [
    {
     "data": {
      "text/plain": [
       "{'k1': 100, 'k2': [12, 54, 98], 'k3': [True, 23, 45.7, 'Hello'], 'k4': 'Cat'}"
      ]
     },
     "execution_count": 17,
     "metadata": {},
     "output_type": "execute_result"
    }
   ],
   "source": [
    "d2"
   ]
  },
  {
   "cell_type": "code",
   "execution_count": 18,
   "id": "4239ad44",
   "metadata": {},
   "outputs": [],
   "source": [
    "d3={}"
   ]
  },
  {
   "cell_type": "code",
   "execution_count": 19,
   "id": "981f88b5",
   "metadata": {},
   "outputs": [
    {
     "data": {
      "text/plain": [
       "{}"
      ]
     },
     "execution_count": 19,
     "metadata": {},
     "output_type": "execute_result"
    }
   ],
   "source": [
    "d3"
   ]
  },
  {
   "cell_type": "code",
   "execution_count": 20,
   "id": "1f5fb66d",
   "metadata": {},
   "outputs": [],
   "source": [
    "d3['animal'] = 'Dog'"
   ]
  },
  {
   "cell_type": "code",
   "execution_count": 21,
   "id": "81b83dda",
   "metadata": {},
   "outputs": [
    {
     "data": {
      "text/plain": [
       "{'animal': 'Dog'}"
      ]
     },
     "execution_count": 21,
     "metadata": {},
     "output_type": "execute_result"
    }
   ],
   "source": [
    "d3"
   ]
  },
  {
   "cell_type": "code",
   "execution_count": 22,
   "id": "c003c18f",
   "metadata": {},
   "outputs": [],
   "source": [
    "d3['greetings'] = ['hello','hi']"
   ]
  },
  {
   "cell_type": "code",
   "execution_count": 23,
   "id": "9cddf210",
   "metadata": {},
   "outputs": [
    {
     "data": {
      "text/plain": [
       "{'animal': 'Dog', 'greetings': ['hello', 'hi']}"
      ]
     },
     "execution_count": 23,
     "metadata": {},
     "output_type": "execute_result"
    }
   ],
   "source": [
    "d3"
   ]
  },
  {
   "cell_type": "code",
   "execution_count": 24,
   "id": "a274a0ff",
   "metadata": {},
   "outputs": [],
   "source": [
    "d3['animal'] = 'Cat'"
   ]
  },
  {
   "cell_type": "code",
   "execution_count": 25,
   "id": "887e0a02",
   "metadata": {},
   "outputs": [
    {
     "data": {
      "text/plain": [
       "{'animal': 'Cat', 'greetings': ['hello', 'hi']}"
      ]
     },
     "execution_count": 25,
     "metadata": {},
     "output_type": "execute_result"
    }
   ],
   "source": [
    "d3"
   ]
  },
  {
   "cell_type": "markdown",
   "id": "e1113d6f",
   "metadata": {},
   "source": [
    "## Nested Dictionaries"
   ]
  },
  {
   "cell_type": "code",
   "execution_count": 26,
   "id": "d80114cf",
   "metadata": {},
   "outputs": [],
   "source": [
    "nest_d = {'key1':{'nest_key':{'subnest':['this is subnested value',45]}}}"
   ]
  },
  {
   "cell_type": "code",
   "execution_count": 27,
   "id": "5db2862e",
   "metadata": {},
   "outputs": [
    {
     "data": {
      "text/plain": [
       "{'key1': {'nest_key': {'subnest': ['this is subnested value', 45]}}}"
      ]
     },
     "execution_count": 27,
     "metadata": {},
     "output_type": "execute_result"
    }
   ],
   "source": [
    "nest_d"
   ]
  },
  {
   "cell_type": "code",
   "execution_count": 34,
   "id": "0df18dfc",
   "metadata": {},
   "outputs": [
    {
     "data": {
      "text/plain": [
       "'value'"
      ]
     },
     "execution_count": 34,
     "metadata": {},
     "output_type": "execute_result"
    }
   ],
   "source": [
    "nest_d['key1']['nest_key']['subnest'][0][-5:]"
   ]
  },
  {
   "cell_type": "markdown",
   "id": "b5ecc3a8",
   "metadata": {},
   "source": [
    "## Dictionaries Methods"
   ]
  },
  {
   "cell_type": "code",
   "execution_count": 36,
   "id": "0e36ebfb",
   "metadata": {},
   "outputs": [
    {
     "data": {
      "text/plain": [
       "{'key1': 'value1', 'key2': 100.4534}"
      ]
     },
     "execution_count": 36,
     "metadata": {},
     "output_type": "execute_result"
    }
   ],
   "source": [
    "d1"
   ]
  },
  {
   "cell_type": "code",
   "execution_count": 38,
   "id": "6be02985",
   "metadata": {},
   "outputs": [
    {
     "data": {
      "text/plain": [
       "dict_keys(['key1', 'key2'])"
      ]
     },
     "execution_count": 38,
     "metadata": {},
     "output_type": "execute_result"
    }
   ],
   "source": [
    "d1.keys()"
   ]
  },
  {
   "cell_type": "code",
   "execution_count": 39,
   "id": "871e6d3d",
   "metadata": {},
   "outputs": [
    {
     "data": {
      "text/plain": [
       "dict_values(['value1', 100.4534])"
      ]
     },
     "execution_count": 39,
     "metadata": {},
     "output_type": "execute_result"
    }
   ],
   "source": [
    "d1.values()"
   ]
  },
  {
   "cell_type": "code",
   "execution_count": 40,
   "id": "751ba7a3",
   "metadata": {},
   "outputs": [
    {
     "data": {
      "text/plain": [
       "dict_items([('key1', 'value1'), ('key2', 100.4534)])"
      ]
     },
     "execution_count": 40,
     "metadata": {},
     "output_type": "execute_result"
    }
   ],
   "source": [
    "d1.items()"
   ]
  },
  {
   "cell_type": "code",
   "execution_count": 41,
   "id": "75a478a0",
   "metadata": {},
   "outputs": [],
   "source": [
    "d_exercise = {'a':'hi how was class today?', 'b':[45.98912,342,'class was aweful',['but dinner was great', 100, 231]],\n",
    "             'c':{'d':{'e':{'f':'Tom will be fun', 'g':[\"I will sleep now\"]}}}}"
   ]
  },
  {
   "cell_type": "code",
   "execution_count": 42,
   "id": "2252b92d",
   "metadata": {},
   "outputs": [
    {
     "data": {
      "text/plain": [
       "{'a': 'hi how was class today?',\n",
       " 'b': [45.98912, 342, 'class was aweful', ['but dinner was great', 100, 231]],\n",
       " 'c': {'d': {'e': {'f': 'Tom will be fun', 'g': ['I will sleep now']}}}}"
      ]
     },
     "execution_count": 42,
     "metadata": {},
     "output_type": "execute_result"
    }
   ],
   "source": [
    "d_exercise"
   ]
  },
  {
   "cell_type": "code",
   "execution_count": null,
   "id": "4ae20d60",
   "metadata": {},
   "outputs": [],
   "source": [
    "hi how was class today? class was aweful but dinner was great. I will sleep now"
   ]
  },
  {
   "cell_type": "code",
   "execution_count": 47,
   "id": "4211d479",
   "metadata": {},
   "outputs": [
    {
     "name": "stdout",
     "output_type": "stream",
     "text": [
      "HI HOW WAS CLASS TODAY? CLASS WAS AWEFUL BUT DINNER WAS GREAT. I WILL SLEEP NOW\n"
     ]
    }
   ],
   "source": [
    "va = d_exercise['a']+' '+d_exercise['b'][2]+' '+d_exercise['b'][3][0]+'. '+d_exercise['c']['d']['e']['g'][0]\n",
    "print(va.upper())"
   ]
  },
  {
   "cell_type": "code",
   "execution_count": 48,
   "id": "84a3d551",
   "metadata": {},
   "outputs": [
    {
     "data": {
      "text/plain": [
       "2.31"
      ]
     },
     "execution_count": 48,
     "metadata": {},
     "output_type": "execute_result"
    }
   ],
   "source": [
    "d_exercise['b'][3][2] / d_exercise['b'][3][1]"
   ]
  },
  {
   "cell_type": "code",
   "execution_count": null,
   "id": "18a0b6b8",
   "metadata": {},
   "outputs": [],
   "source": []
  }
 ],
 "metadata": {
  "kernelspec": {
   "display_name": "Python 3 (ipykernel)",
   "language": "python",
   "name": "python3"
  },
  "language_info": {
   "codemirror_mode": {
    "name": "ipython",
    "version": 3
   },
   "file_extension": ".py",
   "mimetype": "text/x-python",
   "name": "python",
   "nbconvert_exporter": "python",
   "pygments_lexer": "ipython3",
   "version": "3.11.5"
  }
 },
 "nbformat": 4,
 "nbformat_minor": 5
}
