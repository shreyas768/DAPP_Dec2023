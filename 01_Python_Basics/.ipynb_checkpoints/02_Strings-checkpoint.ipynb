{
 "cells": [
  {
   "cell_type": "markdown",
   "id": "4157d569",
   "metadata": {},
   "source": [
    "## Creating a String"
   ]
  },
  {
   "cell_type": "code",
   "execution_count": 1,
   "id": "1080481b",
   "metadata": {},
   "outputs": [
    {
     "data": {
      "text/plain": [
       "'hello'"
      ]
     },
     "execution_count": 1,
     "metadata": {},
     "output_type": "execute_result"
    }
   ],
   "source": [
    "'hello' #single word"
   ]
  },
  {
   "cell_type": "code",
   "execution_count": 2,
   "id": "4d577f76",
   "metadata": {},
   "outputs": [
    {
     "data": {
      "text/plain": [
       "'this is also a string'"
      ]
     },
     "execution_count": 2,
     "metadata": {},
     "output_type": "execute_result"
    }
   ],
   "source": [
    "'this is also a string'"
   ]
  },
  {
   "cell_type": "code",
   "execution_count": 3,
   "id": "28cf55a0",
   "metadata": {},
   "outputs": [
    {
     "data": {
      "text/plain": [
       "'We can use double quotes as well'"
      ]
     },
     "execution_count": 3,
     "metadata": {},
     "output_type": "execute_result"
    }
   ],
   "source": [
    "\"We can use double quotes as well\""
   ]
  },
  {
   "cell_type": "code",
   "execution_count": 5,
   "id": "e984e89e",
   "metadata": {},
   "outputs": [
    {
     "ename": "SyntaxError",
     "evalue": "unterminated string literal (detected at line 1) (2402395037.py, line 1)",
     "output_type": "error",
     "traceback": [
      "\u001b[1;36m  Cell \u001b[1;32mIn[5], line 1\u001b[1;36m\u001b[0m\n\u001b[1;33m    'I'm using single quote. this will give an error'\u001b[0m\n\u001b[1;37m                                                    ^\u001b[0m\n\u001b[1;31mSyntaxError\u001b[0m\u001b[1;31m:\u001b[0m unterminated string literal (detected at line 1)\n"
     ]
    }
   ],
   "source": [
    "'I'm using single quote. this will give an error'"
   ]
  },
  {
   "cell_type": "code",
   "execution_count": 7,
   "id": "bb94dc5d",
   "metadata": {},
   "outputs": [
    {
     "data": {
      "text/plain": [
       "\"Rather use double quotes: I'm fine now. single quote got wrapped around with double quotes\""
      ]
     },
     "execution_count": 7,
     "metadata": {},
     "output_type": "execute_result"
    }
   ],
   "source": [
    "\"Rather use double quotes: I'm fine now. single quote got wrapped around with double quotes\""
   ]
  },
  {
   "cell_type": "code",
   "execution_count": 8,
   "id": "2dcd2071",
   "metadata": {},
   "outputs": [],
   "source": [
    "s = 'hello'"
   ]
  },
  {
   "cell_type": "code",
   "execution_count": 9,
   "id": "55fa5e93",
   "metadata": {},
   "outputs": [
    {
     "data": {
      "text/plain": [
       "'hell'"
      ]
     },
     "execution_count": 9,
     "metadata": {},
     "output_type": "execute_result"
    }
   ],
   "source": [
    "s[:4]"
   ]
  },
  {
   "cell_type": "code",
   "execution_count": 10,
   "id": "ed240a58",
   "metadata": {},
   "outputs": [
    {
     "data": {
      "text/plain": [
       "'hell'"
      ]
     },
     "execution_count": 10,
     "metadata": {},
     "output_type": "execute_result"
    }
   ],
   "source": [
    "s[-5:4]"
   ]
  },
  {
   "cell_type": "code",
   "execution_count": 11,
   "id": "b4beaa83",
   "metadata": {},
   "outputs": [
    {
     "data": {
      "text/plain": [
       "'hell'"
      ]
     },
     "execution_count": 11,
     "metadata": {},
     "output_type": "execute_result"
    }
   ],
   "source": [
    "s[0:-1]"
   ]
  },
  {
   "cell_type": "code",
   "execution_count": 12,
   "id": "03479044",
   "metadata": {},
   "outputs": [
    {
     "data": {
      "text/plain": [
       "'hell'"
      ]
     },
     "execution_count": 12,
     "metadata": {},
     "output_type": "execute_result"
    }
   ],
   "source": [
    "s[-5:-1]"
   ]
  },
  {
   "cell_type": "code",
   "execution_count": 13,
   "id": "ffdd67d0",
   "metadata": {},
   "outputs": [
    {
     "data": {
      "text/plain": [
       "'hlo'"
      ]
     },
     "execution_count": 13,
     "metadata": {},
     "output_type": "execute_result"
    }
   ],
   "source": [
    "s[0:5:2]"
   ]
  },
  {
   "cell_type": "code",
   "execution_count": 14,
   "id": "a6cd1133",
   "metadata": {},
   "outputs": [
    {
     "data": {
      "text/plain": [
       "'hlo'"
      ]
     },
     "execution_count": 14,
     "metadata": {},
     "output_type": "execute_result"
    }
   ],
   "source": [
    "s[::2]"
   ]
  },
  {
   "cell_type": "code",
   "execution_count": 15,
   "id": "d9265449",
   "metadata": {},
   "outputs": [],
   "source": [
    "s1 = 'ML course 8th Jan'"
   ]
  },
  {
   "cell_type": "code",
   "execution_count": 16,
   "id": "6ae9903c",
   "metadata": {},
   "outputs": [
    {
     "data": {
      "text/plain": [
       "'course'"
      ]
     },
     "execution_count": 16,
     "metadata": {},
     "output_type": "execute_result"
    }
   ],
   "source": [
    "s1[3:9]"
   ]
  },
  {
   "cell_type": "markdown",
   "id": "9abb36dd",
   "metadata": {},
   "source": [
    "## Printing a string"
   ]
  },
  {
   "cell_type": "code",
   "execution_count": 17,
   "id": "3063fcb7",
   "metadata": {},
   "outputs": [
    {
     "data": {
      "text/plain": [
       "'hello world'"
      ]
     },
     "execution_count": 17,
     "metadata": {},
     "output_type": "execute_result"
    }
   ],
   "source": [
    "'hello world'"
   ]
  },
  {
   "cell_type": "code",
   "execution_count": 18,
   "id": "76d6c277",
   "metadata": {},
   "outputs": [
    {
     "data": {
      "text/plain": [
       "'hello world2'"
      ]
     },
     "execution_count": 18,
     "metadata": {},
     "output_type": "execute_result"
    }
   ],
   "source": [
    "#we can't output multiple strings this way\n",
    "'hello world1'\n",
    "'hello world2'"
   ]
  },
  {
   "cell_type": "code",
   "execution_count": 19,
   "id": "fc4032b4",
   "metadata": {},
   "outputs": [
    {
     "name": "stdout",
     "output_type": "stream",
     "text": [
      "hello world1\n",
      "hello world2\n"
     ]
    }
   ],
   "source": [
    "print('hello world1')\n",
    "print('hello world2')"
   ]
  },
  {
   "cell_type": "code",
   "execution_count": 20,
   "id": "342bf876",
   "metadata": {},
   "outputs": [
    {
     "ename": "SyntaxError",
     "evalue": "unterminated string literal (detected at line 1) (888272247.py, line 1)",
     "output_type": "error",
     "traceback": [
      "\u001b[1;36m  Cell \u001b[1;32mIn[20], line 1\u001b[1;36m\u001b[0m\n\u001b[1;33m    print('hello world1\u001b[0m\n\u001b[1;37m          ^\u001b[0m\n\u001b[1;31mSyntaxError\u001b[0m\u001b[1;31m:\u001b[0m unterminated string literal (detected at line 1)\n"
     ]
    }
   ],
   "source": [
    "print('hello world1\n",
    "      hello world2')"
   ]
  },
  {
   "cell_type": "code",
   "execution_count": 21,
   "id": "dbb2fd8d",
   "metadata": {},
   "outputs": [
    {
     "name": "stdout",
     "output_type": "stream",
     "text": [
      "hello world1 \n",
      "hello world2\n"
     ]
    }
   ],
   "source": [
    "print('hello world1 \\nhello world2')"
   ]
  },
  {
   "cell_type": "code",
   "execution_count": 22,
   "id": "6d80f5e4",
   "metadata": {},
   "outputs": [
    {
     "name": "stdout",
     "output_type": "stream",
     "text": [
      "Use \n",
      " to enter a new line\n"
     ]
    }
   ],
   "source": [
    "print('Use \\n to enter a new line')"
   ]
  },
  {
   "cell_type": "code",
   "execution_count": 23,
   "id": "f588adc3",
   "metadata": {},
   "outputs": [
    {
     "name": "stdout",
     "output_type": "stream",
     "text": [
      "hello\tworld\n"
     ]
    }
   ],
   "source": [
    "print('hello\\tworld')"
   ]
  },
  {
   "cell_type": "code",
   "execution_count": 24,
   "id": "b2ecda2f",
   "metadata": {},
   "outputs": [
    {
     "name": "stdout",
     "output_type": "stream",
     "text": [
      "ML course 8th Jan\n"
     ]
    }
   ],
   "source": [
    "print(s1)"
   ]
  },
  {
   "cell_type": "code",
   "execution_count": 25,
   "id": "677fc812",
   "metadata": {},
   "outputs": [
    {
     "data": {
      "text/plain": [
       "17"
      ]
     },
     "execution_count": 25,
     "metadata": {},
     "output_type": "execute_result"
    }
   ],
   "source": [
    "#length of string\n",
    "len('jdfhjahfjsafjdshl')"
   ]
  },
  {
   "cell_type": "code",
   "execution_count": 26,
   "id": "52ef11df",
   "metadata": {},
   "outputs": [
    {
     "data": {
      "text/plain": [
       "17"
      ]
     },
     "execution_count": 26,
     "metadata": {},
     "output_type": "execute_result"
    }
   ],
   "source": [
    "len(s1)"
   ]
  },
  {
   "cell_type": "code",
   "execution_count": 27,
   "id": "5a7ed016",
   "metadata": {},
   "outputs": [],
   "source": [
    "s2 = 'Hello RBPL'"
   ]
  },
  {
   "cell_type": "code",
   "execution_count": 28,
   "id": "8456dba6",
   "metadata": {},
   "outputs": [
    {
     "name": "stdout",
     "output_type": "stream",
     "text": [
      "Hello RBPL\n"
     ]
    }
   ],
   "source": [
    "#print the object s2\n",
    "print(s2)"
   ]
  },
  {
   "cell_type": "code",
   "execution_count": 29,
   "id": "53224f18",
   "metadata": {},
   "outputs": [
    {
     "data": {
      "text/plain": [
       "'H'"
      ]
     },
     "execution_count": 29,
     "metadata": {},
     "output_type": "execute_result"
    }
   ],
   "source": [
    "#Grab the first element of s2\n",
    "s2[0]"
   ]
  },
  {
   "cell_type": "code",
   "execution_count": 30,
   "id": "a44a47be",
   "metadata": {},
   "outputs": [
    {
     "data": {
      "text/plain": [
       "'L'"
      ]
     },
     "execution_count": 30,
     "metadata": {},
     "output_type": "execute_result"
    }
   ],
   "source": [
    "#Grab the last element of s2\n",
    "s2[-1]"
   ]
  },
  {
   "cell_type": "code",
   "execution_count": 31,
   "id": "75586804",
   "metadata": {},
   "outputs": [
    {
     "data": {
      "text/plain": [
       "10"
      ]
     },
     "execution_count": 31,
     "metadata": {},
     "output_type": "execute_result"
    }
   ],
   "source": [
    "len(s2)"
   ]
  },
  {
   "cell_type": "code",
   "execution_count": 32,
   "id": "87dfd1d5",
   "metadata": {},
   "outputs": [
    {
     "data": {
      "text/plain": [
       "'ello RB'"
      ]
     },
     "execution_count": 32,
     "metadata": {},
     "output_type": "execute_result"
    }
   ],
   "source": [
    "#Grab this: 'ello RB'\n",
    "s2[1:-2]"
   ]
  },
  {
   "cell_type": "code",
   "execution_count": 33,
   "id": "0ba28541",
   "metadata": {},
   "outputs": [
    {
     "data": {
      "text/plain": [
       "'ello RBPL'"
      ]
     },
     "execution_count": 33,
     "metadata": {},
     "output_type": "execute_result"
    }
   ],
   "source": [
    "#Grab everything past the first character all the way to the length of s2 \n",
    "s2[1:]"
   ]
  },
  {
   "cell_type": "code",
   "execution_count": 34,
   "id": "d1744a4f",
   "metadata": {},
   "outputs": [
    {
     "data": {
      "text/plain": [
       "'Hello RBPL'"
      ]
     },
     "execution_count": 34,
     "metadata": {},
     "output_type": "execute_result"
    }
   ],
   "source": [
    "s2"
   ]
  },
  {
   "cell_type": "code",
   "execution_count": 35,
   "id": "f2879ff8",
   "metadata": {},
   "outputs": [
    {
     "data": {
      "text/plain": [
       "'LPBR olleH'"
      ]
     },
     "execution_count": 35,
     "metadata": {},
     "output_type": "execute_result"
    }
   ],
   "source": [
    "#Print s2 backwards\n",
    "s2[::-1]"
   ]
  },
  {
   "cell_type": "code",
   "execution_count": 36,
   "id": "16224d8e",
   "metadata": {},
   "outputs": [
    {
     "data": {
      "text/plain": [
       "'LPBR o'"
      ]
     },
     "execution_count": 36,
     "metadata": {},
     "output_type": "execute_result"
    }
   ],
   "source": [
    "#Grab everything from right to left upto o\n",
    "s2[:3:-1]"
   ]
  },
  {
   "cell_type": "code",
   "execution_count": 37,
   "id": "b35cf812",
   "metadata": {},
   "outputs": [
    {
     "data": {
      "text/plain": [
       "'LPBR o'"
      ]
     },
     "execution_count": 37,
     "metadata": {},
     "output_type": "execute_result"
    }
   ],
   "source": [
    "s3 = s2[::-1]\n",
    "s3[:-4]"
   ]
  },
  {
   "cell_type": "code",
   "execution_count": 38,
   "id": "59cef080",
   "metadata": {},
   "outputs": [
    {
     "data": {
      "text/plain": [
       "'LPBR o'"
      ]
     },
     "execution_count": 38,
     "metadata": {},
     "output_type": "execute_result"
    }
   ],
   "source": [
    "s2[::-1][:-4]"
   ]
  },
  {
   "cell_type": "code",
   "execution_count": 41,
   "id": "7ccce2e0",
   "metadata": {},
   "outputs": [
    {
     "data": {
      "text/plain": [
       "'Hello RBPL'"
      ]
     },
     "execution_count": 41,
     "metadata": {},
     "output_type": "execute_result"
    }
   ],
   "source": [
    "s2"
   ]
  },
  {
   "cell_type": "code",
   "execution_count": 44,
   "id": "e9af8c30",
   "metadata": {},
   "outputs": [
    {
     "data": {
      "text/plain": [
       "'HlR'"
      ]
     },
     "execution_count": 44,
     "metadata": {},
     "output_type": "execute_result"
    }
   ],
   "source": [
    "#Grab everything but last 2 letters with a space of 2 letters between them\n",
    "#'abcdef' ==> 'ad'\n",
    "\n",
    "s2[:-2:3]"
   ]
  },
  {
   "cell_type": "code",
   "execution_count": 42,
   "id": "c7b25538",
   "metadata": {},
   "outputs": [
    {
     "data": {
      "text/plain": [
       "10"
      ]
     },
     "execution_count": 42,
     "metadata": {},
     "output_type": "execute_result"
    }
   ],
   "source": [
    "len(s2)"
   ]
  },
  {
   "cell_type": "code",
   "execution_count": 45,
   "id": "315d3698",
   "metadata": {},
   "outputs": [
    {
     "data": {
      "text/plain": [
       "'HlR'"
      ]
     },
     "execution_count": 45,
     "metadata": {},
     "output_type": "execute_result"
    }
   ],
   "source": [
    "s2[:8:3]"
   ]
  },
  {
   "cell_type": "markdown",
   "id": "75d6e86c",
   "metadata": {},
   "source": [
    "Hello RBPL\n",
    "0123456789\n",
    "9 -> -1\n",
    "8 -> -2\n",
    "7 -> -3\n",
    "6 -> -4\n",
    "5 -> -5\n",
    "0 -> -10"
   ]
  },
  {
   "cell_type": "markdown",
   "id": "f5a6005e",
   "metadata": {},
   "source": [
    "## Properties of string\n",
    "\n",
    "#### Immutability: once created, the element within it cannot be changed or replaced\n",
    "#### Concatenation"
   ]
  },
  {
   "cell_type": "code",
   "execution_count": 46,
   "id": "a774fd57",
   "metadata": {},
   "outputs": [
    {
     "data": {
      "text/plain": [
       "'Hello RBPL'"
      ]
     },
     "execution_count": 46,
     "metadata": {},
     "output_type": "execute_result"
    }
   ],
   "source": [
    "s2"
   ]
  },
  {
   "cell_type": "code",
   "execution_count": 48,
   "id": "ffb85832",
   "metadata": {},
   "outputs": [
    {
     "ename": "TypeError",
     "evalue": "'str' object does not support item assignment",
     "output_type": "error",
     "traceback": [
      "\u001b[1;31m---------------------------------------------------------------------------\u001b[0m",
      "\u001b[1;31mTypeError\u001b[0m                                 Traceback (most recent call last)",
      "Cell \u001b[1;32mIn[48], line 1\u001b[0m\n\u001b[1;32m----> 1\u001b[0m s2[\u001b[38;5;241m0\u001b[39m] \u001b[38;5;241m=\u001b[39m \u001b[38;5;124m'\u001b[39m\u001b[38;5;124mX\u001b[39m\u001b[38;5;124m'\u001b[39m\n",
      "\u001b[1;31mTypeError\u001b[0m: 'str' object does not support item assignment"
     ]
    }
   ],
   "source": [
    "s2[0] = 'X'"
   ]
  },
  {
   "cell_type": "code",
   "execution_count": 49,
   "id": "0db15865",
   "metadata": {},
   "outputs": [
    {
     "data": {
      "text/plain": [
       "'Hello RBPL this is concatenated to s2.'"
      ]
     },
     "execution_count": 49,
     "metadata": {},
     "output_type": "execute_result"
    }
   ],
   "source": [
    "#Concatenate\n",
    "s2 + ' this is concatenated to s2.'"
   ]
  },
  {
   "cell_type": "code",
   "execution_count": 50,
   "id": "e8e88bd1",
   "metadata": {},
   "outputs": [
    {
     "data": {
      "text/plain": [
       "'Hello RBPL'"
      ]
     },
     "execution_count": 50,
     "metadata": {},
     "output_type": "execute_result"
    }
   ],
   "source": [
    "s2"
   ]
  },
  {
   "cell_type": "code",
   "execution_count": 51,
   "id": "4dedea21",
   "metadata": {},
   "outputs": [],
   "source": [
    "s2 = s2 + ' this is concatenated to s2.'"
   ]
  },
  {
   "cell_type": "code",
   "execution_count": 52,
   "id": "ad648c98",
   "metadata": {},
   "outputs": [
    {
     "data": {
      "text/plain": [
       "'Hello RBPL this is concatenated to s2.'"
      ]
     },
     "execution_count": 52,
     "metadata": {},
     "output_type": "execute_result"
    }
   ],
   "source": [
    "s2"
   ]
  },
  {
   "cell_type": "code",
   "execution_count": 55,
   "id": "b0f81008",
   "metadata": {},
   "outputs": [],
   "source": [
    "s5 = s2 + 'this has been assigned to variable s5'"
   ]
  },
  {
   "cell_type": "code",
   "execution_count": 56,
   "id": "cc72abc4",
   "metadata": {},
   "outputs": [
    {
     "data": {
      "text/plain": [
       "'Hello RBPL this is concatenated to s2.this has been assigned to variable s5'"
      ]
     },
     "execution_count": 56,
     "metadata": {},
     "output_type": "execute_result"
    }
   ],
   "source": [
    "s5"
   ]
  },
  {
   "cell_type": "code",
   "execution_count": 57,
   "id": "172b7d39",
   "metadata": {},
   "outputs": [
    {
     "data": {
      "text/plain": [
       "'Hello RBPL this is concatenated to s2.'"
      ]
     },
     "execution_count": 57,
     "metadata": {},
     "output_type": "execute_result"
    }
   ],
   "source": [
    "s2"
   ]
  },
  {
   "cell_type": "code",
   "execution_count": 58,
   "id": "7398b529",
   "metadata": {},
   "outputs": [
    {
     "name": "stdout",
     "output_type": "stream",
     "text": [
      "Hello RBPL this is concatenated to s2.this has been assigned to variable s5\n"
     ]
    }
   ],
   "source": [
    "print(s5)"
   ]
  },
  {
   "cell_type": "code",
   "execution_count": 59,
   "id": "485eef26",
   "metadata": {},
   "outputs": [
    {
     "data": {
      "text/plain": [
       "10"
      ]
     },
     "execution_count": 59,
     "metadata": {},
     "output_type": "execute_result"
    }
   ],
   "source": [
    "2+8"
   ]
  },
  {
   "cell_type": "code",
   "execution_count": 61,
   "id": "caa0b157",
   "metadata": {},
   "outputs": [
    {
     "data": {
      "text/plain": [
       "str"
      ]
     },
     "execution_count": 61,
     "metadata": {},
     "output_type": "execute_result"
    }
   ],
   "source": [
    "type('2')"
   ]
  },
  {
   "cell_type": "code",
   "execution_count": 62,
   "id": "2664ff71",
   "metadata": {},
   "outputs": [
    {
     "data": {
      "text/plain": [
       "int"
      ]
     },
     "execution_count": 62,
     "metadata": {},
     "output_type": "execute_result"
    }
   ],
   "source": [
    "type(2)"
   ]
  },
  {
   "cell_type": "code",
   "execution_count": 63,
   "id": "045e0345",
   "metadata": {},
   "outputs": [
    {
     "data": {
      "text/plain": [
       "'28'"
      ]
     },
     "execution_count": 63,
     "metadata": {},
     "output_type": "execute_result"
    }
   ],
   "source": [
    "'2'+'8'"
   ]
  },
  {
   "cell_type": "code",
   "execution_count": 64,
   "id": "d7c0d46e",
   "metadata": {},
   "outputs": [],
   "source": [
    "x = 2\n",
    "y = 5"
   ]
  },
  {
   "cell_type": "code",
   "execution_count": 65,
   "id": "64225ad4",
   "metadata": {},
   "outputs": [
    {
     "data": {
      "text/plain": [
       "7"
      ]
     },
     "execution_count": 65,
     "metadata": {},
     "output_type": "execute_result"
    }
   ],
   "source": [
    "x+y"
   ]
  },
  {
   "cell_type": "code",
   "execution_count": 66,
   "id": "ebd640f6",
   "metadata": {},
   "outputs": [
    {
     "data": {
      "text/plain": [
       "'25'"
      ]
     },
     "execution_count": 66,
     "metadata": {},
     "output_type": "execute_result"
    }
   ],
   "source": [
    "a = '2'\n",
    "b = '5'\n",
    "a+b"
   ]
  },
  {
   "cell_type": "code",
   "execution_count": 67,
   "id": "9d61e21d",
   "metadata": {},
   "outputs": [
    {
     "ename": "TypeError",
     "evalue": "can only concatenate str (not \"int\") to str",
     "output_type": "error",
     "traceback": [
      "\u001b[1;31m---------------------------------------------------------------------------\u001b[0m",
      "\u001b[1;31mTypeError\u001b[0m                                 Traceback (most recent call last)",
      "Cell \u001b[1;32mIn[67], line 1\u001b[0m\n\u001b[1;32m----> 1\u001b[0m \u001b[38;5;124m'\u001b[39m\u001b[38;5;124m2\u001b[39m\u001b[38;5;124m'\u001b[39m\u001b[38;5;241m+\u001b[39m\u001b[38;5;241m5\u001b[39m\n",
      "\u001b[1;31mTypeError\u001b[0m: can only concatenate str (not \"int\") to str"
     ]
    }
   ],
   "source": [
    "'2'+5"
   ]
  },
  {
   "cell_type": "code",
   "execution_count": 68,
   "id": "5a103fdf",
   "metadata": {},
   "outputs": [
    {
     "name": "stdout",
     "output_type": "stream",
     "text": [
      "25\n"
     ]
    }
   ],
   "source": [
    "print(a+b)"
   ]
  },
  {
   "cell_type": "code",
   "execution_count": 69,
   "id": "e1d2abad",
   "metadata": {},
   "outputs": [
    {
     "data": {
      "text/plain": [
       "20"
      ]
     },
     "execution_count": 69,
     "metadata": {},
     "output_type": "execute_result"
    }
   ],
   "source": [
    "2*10"
   ]
  },
  {
   "cell_type": "code",
   "execution_count": 70,
   "id": "0d54cd44",
   "metadata": {},
   "outputs": [
    {
     "data": {
      "text/plain": [
       "'2222222222'"
      ]
     },
     "execution_count": 70,
     "metadata": {},
     "output_type": "execute_result"
    }
   ],
   "source": [
    "'2'*10  #Multiplication in string is to create repetition"
   ]
  },
  {
   "cell_type": "code",
   "execution_count": 71,
   "id": "8ae0b760",
   "metadata": {},
   "outputs": [
    {
     "data": {
      "text/plain": [
       "'hi hi hi '"
      ]
     },
     "execution_count": 71,
     "metadata": {},
     "output_type": "execute_result"
    }
   ],
   "source": [
    "'hi '*3"
   ]
  },
  {
   "cell_type": "markdown",
   "id": "fa66b2fd",
   "metadata": {},
   "source": [
    "## Built-in String Methods"
   ]
  },
  {
   "cell_type": "markdown",
   "id": "905c01f9",
   "metadata": {},
   "source": [
    "object.method(parameters)"
   ]
  },
  {
   "cell_type": "code",
   "execution_count": 78,
   "id": "5cbdd28a",
   "metadata": {},
   "outputs": [],
   "source": [
    "s2 = 'Hello RBPL this is concatenated to s2.'"
   ]
  },
  {
   "cell_type": "code",
   "execution_count": 79,
   "id": "977f8e09",
   "metadata": {},
   "outputs": [
    {
     "data": {
      "text/plain": [
       "'HELLO RBPL THIS IS CONCATENATED TO S2.'"
      ]
     },
     "execution_count": 79,
     "metadata": {},
     "output_type": "execute_result"
    }
   ],
   "source": [
    "s2.upper()"
   ]
  },
  {
   "cell_type": "code",
   "execution_count": 80,
   "id": "326e2acc",
   "metadata": {},
   "outputs": [
    {
     "data": {
      "text/plain": [
       "<function str.upper()>"
      ]
     },
     "execution_count": 80,
     "metadata": {},
     "output_type": "execute_result"
    }
   ],
   "source": [
    "s2.upper"
   ]
  },
  {
   "cell_type": "code",
   "execution_count": 81,
   "id": "ffcf7e8d",
   "metadata": {},
   "outputs": [
    {
     "data": {
      "text/plain": [
       "'Hello RBPL this is concatenated to s2.'"
      ]
     },
     "execution_count": 81,
     "metadata": {},
     "output_type": "execute_result"
    }
   ],
   "source": [
    "s2"
   ]
  },
  {
   "cell_type": "code",
   "execution_count": 82,
   "id": "b494a098",
   "metadata": {},
   "outputs": [
    {
     "data": {
      "text/plain": [
       "'hello rbpl this is concatenated to s2.'"
      ]
     },
     "execution_count": 82,
     "metadata": {},
     "output_type": "execute_result"
    }
   ],
   "source": [
    "s2.lower()"
   ]
  },
  {
   "cell_type": "code",
   "execution_count": 83,
   "id": "1c85652f",
   "metadata": {},
   "outputs": [
    {
     "data": {
      "text/plain": [
       "['Hello', 'RBPL', 'this', 'is', 'concatenated', 'to', 's2.']"
      ]
     },
     "execution_count": 83,
     "metadata": {},
     "output_type": "execute_result"
    }
   ],
   "source": [
    "s2.split()  #split a string by a blank space (this is default)"
   ]
  },
  {
   "cell_type": "code",
   "execution_count": 87,
   "id": "7f4361c8",
   "metadata": {},
   "outputs": [
    {
     "data": {
      "text/plain": [
       "['Hello R', 'PL this is concatenated to s2.']"
      ]
     },
     "execution_count": 87,
     "metadata": {},
     "output_type": "execute_result"
    }
   ],
   "source": [
    "s2.split('B') #split a string by a specific element (doesnt include the element itself)"
   ]
  },
  {
   "cell_type": "code",
   "execution_count": 88,
   "id": "d431cf5e",
   "metadata": {},
   "outputs": [
    {
     "data": {
      "text/plain": [
       "['Hell', ' RBPL this is c', 'ncatenated t', ' s2.']"
      ]
     },
     "execution_count": 88,
     "metadata": {},
     "output_type": "execute_result"
    }
   ],
   "source": [
    "s2.split('o')"
   ]
  },
  {
   "cell_type": "markdown",
   "id": "e4181886",
   "metadata": {},
   "source": [
    "# Print Formatting"
   ]
  },
  {
   "cell_type": "code",
   "execution_count": 89,
   "id": "3324a9d2",
   "metadata": {},
   "outputs": [
    {
     "data": {
      "text/plain": [
       "'Put a string with curly brackets : This is inserted string'"
      ]
     },
     "execution_count": 89,
     "metadata": {},
     "output_type": "execute_result"
    }
   ],
   "source": [
    "#.format method\n",
    "\n",
    "'Put a string with curly brackets : {}'.format('This is inserted string')"
   ]
  },
  {
   "cell_type": "code",
   "execution_count": 90,
   "id": "5400ca0c",
   "metadata": {},
   "outputs": [
    {
     "data": {
      "text/plain": [
       "'I enjoy Singing,Dancing and Running'"
      ]
     },
     "execution_count": 90,
     "metadata": {},
     "output_type": "execute_result"
    }
   ],
   "source": [
    "'I enjoy {},{} and {}'.format('Singing','Dancing','Running')"
   ]
  },
  {
   "cell_type": "code",
   "execution_count": 91,
   "id": "79a4358b",
   "metadata": {},
   "outputs": [],
   "source": [
    "result = 81**0.5"
   ]
  },
  {
   "cell_type": "code",
   "execution_count": 93,
   "id": "776f3bcb",
   "metadata": {},
   "outputs": [
    {
     "name": "stdout",
     "output_type": "stream",
     "text": [
      "The result was Failed. But in second attempt I got 9.0\n"
     ]
    }
   ],
   "source": [
    "print('The result was {x}. But in second attempt I got {y}'.format(y=result, x='Failed'))"
   ]
  },
  {
   "cell_type": "code",
   "execution_count": 94,
   "id": "23d02d3d",
   "metadata": {},
   "outputs": [
    {
     "data": {
      "text/plain": [
       "'The result was 9.0'"
      ]
     },
     "execution_count": 94,
     "metadata": {},
     "output_type": "execute_result"
    }
   ],
   "source": [
    "# f strings\n",
    "f'The result was {result}'"
   ]
  },
  {
   "cell_type": "code",
   "execution_count": 95,
   "id": "79bc2cdf",
   "metadata": {},
   "outputs": [
    {
     "data": {
      "text/plain": [
       "'His name is Shreyas and he is Instructor of DAPP'"
      ]
     },
     "execution_count": 95,
     "metadata": {},
     "output_type": "execute_result"
    }
   ],
   "source": [
    "x = 'Shreyas'\n",
    "y = 'Instructor of DAPP'\n",
    "\n",
    "\n",
    "f'His name is {x} and he is {y}'"
   ]
  },
  {
   "cell_type": "code",
   "execution_count": 97,
   "id": "d523436d",
   "metadata": {},
   "outputs": [
    {
     "data": {
      "text/plain": [
       "'His name is Shreyas, and he is Instructor of DAPP'"
      ]
     },
     "execution_count": 97,
     "metadata": {},
     "output_type": "execute_result"
    }
   ],
   "source": [
    "'His name is {}, and he is {}'.format(x,y)"
   ]
  },
  {
   "cell_type": "markdown",
   "id": "b50151d9",
   "metadata": {},
   "source": [
    "## Formatting with Placeholders\n",
    "\n",
    "%s to inject stings into print statements. Module, that is %, is called as 'string formatting operator'"
   ]
  },
  {
   "cell_type": "code",
   "execution_count": 101,
   "id": "8db0dcf0",
   "metadata": {},
   "outputs": [
    {
     "data": {
      "text/plain": [
       "\"Let's inject something here\""
      ]
     },
     "execution_count": 101,
     "metadata": {},
     "output_type": "execute_result"
    }
   ],
   "source": [
    "\"Let's inject %s here\"%'something'"
   ]
  },
  {
   "cell_type": "code",
   "execution_count": 102,
   "id": "ad4b2047",
   "metadata": {},
   "outputs": [
    {
     "data": {
      "text/plain": [
       "\"I'm going to put something good here and bad here\""
      ]
     },
     "execution_count": 102,
     "metadata": {},
     "output_type": "execute_result"
    }
   ],
   "source": [
    "\"I'm going to put something %s here and %s here\"%('good','bad')"
   ]
  },
  {
   "cell_type": "code",
   "execution_count": 104,
   "id": "aba6159c",
   "metadata": {},
   "outputs": [
    {
     "data": {
      "text/plain": [
       "\"I'm going to put something bad here and good here\""
      ]
     },
     "execution_count": 104,
     "metadata": {},
     "output_type": "execute_result"
    }
   ],
   "source": [
    "x, y = 'good','bad'\n",
    "\"I'm going to put something %s here and %s here\"%(y,x)"
   ]
  },
  {
   "cell_type": "markdown",
   "id": "dedb2708",
   "metadata": {},
   "source": [
    "## Conversion methods"
   ]
  },
  {
   "cell_type": "code",
   "execution_count": 108,
   "id": "aaaaab51",
   "metadata": {},
   "outputs": [
    {
     "name": "stdout",
     "output_type": "stream",
     "text": [
      "His name is David\n"
     ]
    }
   ],
   "source": [
    "print('His name is %s'%'David')"
   ]
  },
  {
   "cell_type": "code",
   "execution_count": 110,
   "id": "6d3e2cfc",
   "metadata": {},
   "outputs": [
    {
     "name": "stdout",
     "output_type": "stream",
     "text": [
      "His name is 'David'\n"
     ]
    }
   ],
   "source": [
    "print('His name is %r'%'David')  #%r is representation of string"
   ]
  },
  {
   "cell_type": "code",
   "execution_count": 111,
   "id": "9f90c67a",
   "metadata": {},
   "outputs": [
    {
     "name": "stdout",
     "output_type": "stream",
     "text": [
      "His name is David \t tabbed\n"
     ]
    }
   ],
   "source": [
    "print('His name is %s'%'David \\t tabbed')"
   ]
  },
  {
   "cell_type": "code",
   "execution_count": 112,
   "id": "54ef7f86",
   "metadata": {},
   "outputs": [
    {
     "name": "stdout",
     "output_type": "stream",
     "text": [
      "His name is 'David \\t tabbed'\n"
     ]
    }
   ],
   "source": [
    "print('His name is %r'%'David \\t tabbed')"
   ]
  },
  {
   "cell_type": "code",
   "execution_count": 113,
   "id": "20c4cd7c",
   "metadata": {},
   "outputs": [
    {
     "name": "stdout",
     "output_type": "stream",
     "text": [
      "His number is 100\n"
     ]
    }
   ],
   "source": [
    "print('His number is %d'%100.45456)"
   ]
  },
  {
   "cell_type": "code",
   "execution_count": 117,
   "id": "3f3e5ed4",
   "metadata": {},
   "outputs": [
    {
     "name": "stdout",
     "output_type": "stream",
     "text": [
      "His name is 'David'\n"
     ]
    }
   ],
   "source": [
    "x = 'David'\n",
    "print(f\"His name is {x!r}\")"
   ]
  },
  {
   "cell_type": "code",
   "execution_count": null,
   "id": "29fc18ab",
   "metadata": {},
   "outputs": [],
   "source": []
  }
 ],
 "metadata": {
  "kernelspec": {
   "display_name": "Python 3 (ipykernel)",
   "language": "python",
   "name": "python3"
  },
  "language_info": {
   "codemirror_mode": {
    "name": "ipython",
    "version": 3
   },
   "file_extension": ".py",
   "mimetype": "text/x-python",
   "name": "python",
   "nbconvert_exporter": "python",
   "pygments_lexer": "ipython3",
   "version": "3.11.5"
  }
 },
 "nbformat": 4,
 "nbformat_minor": 5
}
