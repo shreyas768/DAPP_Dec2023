{
 "cells": [
  {
   "cell_type": "code",
   "execution_count": 1,
   "id": "3fddf22d",
   "metadata": {},
   "outputs": [],
   "source": [
    "import numpy as np"
   ]
  },
  {
   "cell_type": "markdown",
   "id": "c29c84fe",
   "metadata": {},
   "source": [
    "## empty, zeros, ones, full"
   ]
  },
  {
   "cell_type": "code",
   "execution_count": 6,
   "id": "e903eb06",
   "metadata": {},
   "outputs": [
    {
     "data": {
      "text/plain": [
       "array([[0., 0., 0.],\n",
       "       [0., 0., 0.],\n",
       "       [0., 0., 0.]])"
      ]
     },
     "execution_count": 6,
     "metadata": {},
     "output_type": "execute_result"
    }
   ],
   "source": [
    "arr_empty = np.empty(shape=(3,3))\n",
    "arr_empty"
   ]
  },
  {
   "cell_type": "code",
   "execution_count": 5,
   "id": "a8e2e54b",
   "metadata": {},
   "outputs": [
    {
     "data": {
      "text/plain": [
       "array([[0., 0., 0.],\n",
       "       [0., 0., 0.]])"
      ]
     },
     "execution_count": 5,
     "metadata": {},
     "output_type": "execute_result"
    }
   ],
   "source": [
    "arr_zeros = np.zeros(shape=(2,3))\n",
    "arr_zeros"
   ]
  },
  {
   "cell_type": "code",
   "execution_count": 7,
   "id": "8a19f73e",
   "metadata": {},
   "outputs": [
    {
     "data": {
      "text/plain": [
       "array([[1., 1., 1.],\n",
       "       [1., 1., 1.]])"
      ]
     },
     "execution_count": 7,
     "metadata": {},
     "output_type": "execute_result"
    }
   ],
   "source": [
    "arr_ones = np.ones(shape=(2,3))\n",
    "arr_ones"
   ]
  },
  {
   "cell_type": "code",
   "execution_count": 9,
   "id": "2f294ec6",
   "metadata": {},
   "outputs": [
    {
     "data": {
      "text/plain": [
       "array([[2, 2, 2],\n",
       "       [2, 2, 2]])"
      ]
     },
     "execution_count": 9,
     "metadata": {},
     "output_type": "execute_result"
    }
   ],
   "source": [
    "arr_full_2 = np.full(shape=(2,3), fill_value=2)\n",
    "arr_full_2"
   ]
  },
  {
   "cell_type": "code",
   "execution_count": 10,
   "id": "537c3ef6",
   "metadata": {},
   "outputs": [
    {
     "data": {
      "text/plain": [
       "array([['Machine Learning', 'Machine Learning', 'Machine Learning'],\n",
       "       ['Machine Learning', 'Machine Learning', 'Machine Learning']],\n",
       "      dtype='<U16')"
      ]
     },
     "execution_count": 10,
     "metadata": {},
     "output_type": "execute_result"
    }
   ],
   "source": [
    "arr_full_str = np.full(shape=(2,3), fill_value='Machine Learning')\n",
    "arr_full_str"
   ]
  },
  {
   "cell_type": "markdown",
   "id": "2e4829fa",
   "metadata": {},
   "source": [
    "## np.arange"
   ]
  },
  {
   "cell_type": "code",
   "execution_count": 12,
   "id": "b66cc185",
   "metadata": {},
   "outputs": [
    {
     "data": {
      "text/plain": [
       "[0, 1, 2, 3, 4, 5, 6, 7, 8, 9]"
      ]
     },
     "execution_count": 12,
     "metadata": {},
     "output_type": "execute_result"
    }
   ],
   "source": [
    "list(range(10))"
   ]
  },
  {
   "cell_type": "code",
   "execution_count": 13,
   "id": "0e6a9af9",
   "metadata": {},
   "outputs": [
    {
     "data": {
      "text/plain": [
       "array([0, 1, 2, 3, 4, 5, 6, 7, 8, 9])"
      ]
     },
     "execution_count": 13,
     "metadata": {},
     "output_type": "execute_result"
    }
   ],
   "source": [
    "np.arange(10)"
   ]
  },
  {
   "cell_type": "code",
   "execution_count": 18,
   "id": "81c50e52",
   "metadata": {},
   "outputs": [
    {
     "data": {
      "text/plain": [
       "array([ 5, 15, 25])"
      ]
     },
     "execution_count": 18,
     "metadata": {},
     "output_type": "execute_result"
    }
   ],
   "source": [
    "np.arange( start = 5,step = 10, stop= 26)"
   ]
  },
  {
   "cell_type": "code",
   "execution_count": 19,
   "id": "d73a77b5",
   "metadata": {},
   "outputs": [
    {
     "data": {
      "text/plain": [
       "array([5])"
      ]
     },
     "execution_count": 19,
     "metadata": {},
     "output_type": "execute_result"
    }
   ],
   "source": [
    "np.arange(5,10,26)"
   ]
  },
  {
   "cell_type": "code",
   "execution_count": 20,
   "id": "d939194f",
   "metadata": {},
   "outputs": [
    {
     "data": {
      "text/plain": [
       "array([ 5, 15, 25])"
      ]
     },
     "execution_count": 20,
     "metadata": {},
     "output_type": "execute_result"
    }
   ],
   "source": [
    "np.arange(5,26,10)"
   ]
  },
  {
   "cell_type": "code",
   "execution_count": 21,
   "id": "763a1397",
   "metadata": {},
   "outputs": [
    {
     "data": {
      "text/plain": [
       "array([ 5. ,  7.5, 10. , 12.5, 15. , 17.5, 20. , 22.5, 25. ])"
      ]
     },
     "execution_count": 21,
     "metadata": {},
     "output_type": "execute_result"
    }
   ],
   "source": [
    "np.arange( start = 5,step = 2.5, stop= 26)"
   ]
  },
  {
   "cell_type": "code",
   "execution_count": 22,
   "id": "3261ae9c",
   "metadata": {},
   "outputs": [
    {
     "data": {
      "text/plain": [
       "array([ 5., 15., 25.])"
      ]
     },
     "execution_count": 22,
     "metadata": {},
     "output_type": "execute_result"
    }
   ],
   "source": [
    "np.arange( start = 5,step = 10, stop= 26, dtype= float)"
   ]
  },
  {
   "cell_type": "markdown",
   "id": "9fef5936",
   "metadata": {},
   "source": [
    "## linspace"
   ]
  },
  {
   "cell_type": "code",
   "execution_count": 23,
   "id": "5fe2580e",
   "metadata": {},
   "outputs": [
    {
     "data": {
      "text/plain": [
       "array([ 0.        ,  0.71428571,  1.42857143,  2.14285714,  2.85714286,\n",
       "        3.57142857,  4.28571429,  5.        ,  5.71428571,  6.42857143,\n",
       "        7.14285714,  7.85714286,  8.57142857,  9.28571429, 10.        ])"
      ]
     },
     "execution_count": 23,
     "metadata": {},
     "output_type": "execute_result"
    }
   ],
   "source": [
    "np.linspace(0,10,15)"
   ]
  },
  {
   "cell_type": "markdown",
   "id": "a3572db0",
   "metadata": {},
   "source": [
    "## Generating Random Numbers"
   ]
  },
  {
   "cell_type": "code",
   "execution_count": 24,
   "id": "70033019",
   "metadata": {},
   "outputs": [
    {
     "data": {
      "text/plain": [
       "array([0.84514936, 0.4496943 , 0.44555321])"
      ]
     },
     "execution_count": 24,
     "metadata": {},
     "output_type": "execute_result"
    }
   ],
   "source": [
    "np.random.rand(3)   #random samples from uniform distribution over [0,1)"
   ]
  },
  {
   "cell_type": "code",
   "execution_count": 25,
   "id": "5176df91",
   "metadata": {},
   "outputs": [
    {
     "data": {
      "text/plain": [
       "array([[0.36285571, 0.93605998, 0.02232472, 0.26122195, 0.46335088],\n",
       "       [0.15818445, 0.20921662, 0.23222965, 0.85224371, 0.30123692],\n",
       "       [0.66637943, 0.62010136, 0.89879641, 0.75375452, 0.7299438 ],\n",
       "       [0.75930195, 0.83671739, 0.49905138, 0.30614898, 0.12630643],\n",
       "       [0.5616584 , 0.14742833, 0.03802335, 0.13320247, 0.35709558]])"
      ]
     },
     "execution_count": 25,
     "metadata": {},
     "output_type": "execute_result"
    }
   ],
   "source": [
    "np.random.rand(5,5)"
   ]
  },
  {
   "cell_type": "code",
   "execution_count": 28,
   "id": "8c0f3f37",
   "metadata": {},
   "outputs": [
    {
     "data": {
      "text/plain": [
       "array([[ 0.50721957,  1.4470234 ,  0.3060729 , -0.29085326,  1.65209848,\n",
       "        -0.57741469, -1.70721693, -1.63911249,  0.17141302, -0.58363441],\n",
       "       [-0.74830384,  1.06368181,  1.20047139,  1.62810914, -0.94824847,\n",
       "        -1.26977568,  0.89012296, -0.46888612,  0.45604366, -0.28102013],\n",
       "       [-1.86115096,  0.0871151 , -1.08144246,  0.57528372, -1.70754072,\n",
       "         0.88316137, -0.28654061,  2.31536551,  0.89791284,  0.70554306],\n",
       "       [ 1.10627428,  0.25916683, -0.20697041, -0.10289898,  1.35607582,\n",
       "        -2.18256522,  0.96015091,  2.13882893,  0.27628163, -0.39088034],\n",
       "       [ 0.15801379,  0.92763473, -0.63051836, -0.35287626,  0.86765115,\n",
       "         0.62394184, -1.00711952, -1.02384802,  0.9711302 , -0.06505313],\n",
       "       [ 0.32682646, -0.77876738,  0.14295083, -0.36432957, -2.17658132,\n",
       "         0.47248597,  1.32478053, -0.02900339, -0.0396277 ,  1.06237244],\n",
       "       [-0.01739658, -0.74645351, -1.05499536, -0.94698864,  0.51148913,\n",
       "         1.87144147, -0.27860017,  0.40967775, -1.19410987, -0.39396908],\n",
       "       [ 0.26152938,  0.67070821,  0.39169607, -1.70019216,  1.58501381,\n",
       "        -0.48720328, -0.41635577,  0.21405128, -1.25602795, -1.06131719],\n",
       "       [ 0.0937096 ,  0.31879263,  1.56381363,  0.60202898,  1.95003891,\n",
       "         0.69683628, -0.1877256 ,  1.71895948,  0.68630023, -0.76263852],\n",
       "       [-1.57733747, -0.26436368,  0.48804832, -0.51766661, -1.36791887,\n",
       "        -0.42426222,  1.6784539 ,  0.84222481,  0.17218161,  1.97521525]])"
      ]
     },
     "execution_count": 28,
     "metadata": {},
     "output_type": "execute_result"
    }
   ],
   "source": [
    "np.random.randn(10,10)  #standard normal distribution"
   ]
  },
  {
   "cell_type": "code",
   "execution_count": 36,
   "id": "43e0d402",
   "metadata": {},
   "outputs": [
    {
     "data": {
      "text/plain": [
       "8"
      ]
     },
     "execution_count": 36,
     "metadata": {},
     "output_type": "execute_result"
    }
   ],
   "source": [
    "np.random.randint(1,10) "
   ]
  },
  {
   "cell_type": "code",
   "execution_count": 38,
   "id": "9835f452",
   "metadata": {},
   "outputs": [
    {
     "data": {
      "text/plain": [
       "array([5, 3, 9, 2, 8])"
      ]
     },
     "execution_count": 38,
     "metadata": {},
     "output_type": "execute_result"
    }
   ],
   "source": [
    "np.random.randint(1,10,5)"
   ]
  },
  {
   "cell_type": "markdown",
   "id": "aed7abbc",
   "metadata": {},
   "source": [
    "## seed"
   ]
  },
  {
   "cell_type": "code",
   "execution_count": 69,
   "id": "7f8697a6",
   "metadata": {},
   "outputs": [
    {
     "data": {
      "text/plain": [
       "array([98, 82, 61, 95])"
      ]
     },
     "execution_count": 69,
     "metadata": {},
     "output_type": "execute_result"
    }
   ],
   "source": [
    "np.random.seed(50)  #random_state\n",
    "np.random.randint(50,100,4)"
   ]
  },
  {
   "cell_type": "markdown",
   "id": "006b92cc",
   "metadata": {},
   "source": [
    "# Reshape"
   ]
  },
  {
   "cell_type": "code",
   "execution_count": 75,
   "id": "b2265f61",
   "metadata": {},
   "outputs": [],
   "source": [
    "arr = np.arange(40)"
   ]
  },
  {
   "cell_type": "code",
   "execution_count": 79,
   "id": "fce74e9f",
   "metadata": {},
   "outputs": [
    {
     "data": {
      "text/plain": [
       "array([[ 0,  1,  2,  3,  4],\n",
       "       [ 5,  6,  7,  8,  9],\n",
       "       [10, 11, 12, 13, 14],\n",
       "       [15, 16, 17, 18, 19],\n",
       "       [20, 21, 22, 23, 24],\n",
       "       [25, 26, 27, 28, 29],\n",
       "       [30, 31, 32, 33, 34],\n",
       "       [35, 36, 37, 38, 39]])"
      ]
     },
     "execution_count": 79,
     "metadata": {},
     "output_type": "execute_result"
    }
   ],
   "source": [
    "arr.reshape(8,5)"
   ]
  },
  {
   "cell_type": "code",
   "execution_count": 80,
   "id": "fa480b80",
   "metadata": {},
   "outputs": [
    {
     "data": {
      "text/plain": [
       "array([[ 0.        ,  0.71428571,  1.42857143,  2.14285714,  2.85714286],\n",
       "       [ 3.57142857,  4.28571429,  5.        ,  5.71428571,  6.42857143],\n",
       "       [ 7.14285714,  7.85714286,  8.57142857,  9.28571429, 10.        ]])"
      ]
     },
     "execution_count": 80,
     "metadata": {},
     "output_type": "execute_result"
    }
   ],
   "source": [
    "lin1 = np.linspace(0,10,15)\n",
    "lin1.reshape(3,5)"
   ]
  },
  {
   "cell_type": "code",
   "execution_count": 83,
   "id": "1e0e4e00",
   "metadata": {},
   "outputs": [
    {
     "data": {
      "text/plain": [
       "array([[25. , 27.5, 30. ],\n",
       "       [32.5, 35. , 37.5],\n",
       "       [40. , 42.5, 45. ]])"
      ]
     },
     "execution_count": 83,
     "metadata": {},
     "output_type": "execute_result"
    }
   ],
   "source": [
    "np.arange(start=25,step = 2.5, stop=46, dtype=float).reshape(3,3)"
   ]
  },
  {
   "cell_type": "code",
   "execution_count": null,
   "id": "c455391b",
   "metadata": {},
   "outputs": [],
   "source": []
  }
 ],
 "metadata": {
  "kernelspec": {
   "display_name": "Python 3 (ipykernel)",
   "language": "python",
   "name": "python3"
  },
  "language_info": {
   "codemirror_mode": {
    "name": "ipython",
    "version": 3
   },
   "file_extension": ".py",
   "mimetype": "text/x-python",
   "name": "python",
   "nbconvert_exporter": "python",
   "pygments_lexer": "ipython3",
   "version": "3.11.5"
  }
 },
 "nbformat": 4,
 "nbformat_minor": 5
}
