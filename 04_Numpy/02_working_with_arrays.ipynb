{
 "cells": [
  {
   "cell_type": "code",
   "execution_count": 1,
   "id": "8e8e3524",
   "metadata": {},
   "outputs": [],
   "source": [
    "import numpy as np"
   ]
  },
  {
   "cell_type": "markdown",
   "id": "dc0ac74a",
   "metadata": {},
   "source": [
    "# Slicing\n",
    "\n",
    "\n",
    "#### Basic Slicing"
   ]
  },
  {
   "cell_type": "code",
   "execution_count": 2,
   "id": "add80ba3",
   "metadata": {},
   "outputs": [
    {
     "data": {
      "text/plain": [
       "array([[1, 2, 3],\n",
       "       [4, 5, 6]])"
      ]
     },
     "execution_count": 2,
     "metadata": {},
     "output_type": "execute_result"
    }
   ],
   "source": [
    "mat_A = np.array([[1,2,3],[4,5,6]])\n",
    "mat_A"
   ]
  },
  {
   "cell_type": "code",
   "execution_count": 5,
   "id": "ca6fb22f",
   "metadata": {},
   "outputs": [
    {
     "data": {
      "text/plain": [
       "array([[1, 2],\n",
       "       [4, 5]])"
      ]
     },
     "execution_count": 5,
     "metadata": {},
     "output_type": "execute_result"
    }
   ],
   "source": [
    "mat_A[:,:2]"
   ]
  },
  {
   "cell_type": "code",
   "execution_count": 6,
   "id": "0a40b10c",
   "metadata": {},
   "outputs": [
    {
     "data": {
      "text/plain": [
       "array([[2, 3],\n",
       "       [5, 6]])"
      ]
     },
     "execution_count": 6,
     "metadata": {},
     "output_type": "execute_result"
    }
   ],
   "source": [
    "mat_A[:,1:]"
   ]
  },
  {
   "cell_type": "code",
   "execution_count": 7,
   "id": "70930b25",
   "metadata": {},
   "outputs": [
    {
     "data": {
      "text/plain": [
       "array([[5, 6]])"
      ]
     },
     "execution_count": 7,
     "metadata": {},
     "output_type": "execute_result"
    }
   ],
   "source": [
    "mat_A[1:,1:]"
   ]
  },
  {
   "cell_type": "markdown",
   "id": "70c44fb2",
   "metadata": {},
   "source": [
    "#### Stepwise Slicing"
   ]
  },
  {
   "cell_type": "code",
   "execution_count": 8,
   "id": "8a365690",
   "metadata": {},
   "outputs": [
    {
     "data": {
      "text/plain": [
       "array([[1, 2, 1, 4, 9],\n",
       "       [3, 2, 7, 5, 9],\n",
       "       [1, 4, 2, 6, 8]])"
      ]
     },
     "execution_count": 8,
     "metadata": {},
     "output_type": "execute_result"
    }
   ],
   "source": [
    "mat_B = np.array([[1,2,1,4,9],[3,2,7,5,9],[1,4,2,6,8]])\n",
    "mat_B"
   ]
  },
  {
   "cell_type": "markdown",
   "id": "23ff9ab4",
   "metadata": {},
   "source": [
    "#sytax [start:stop:step]\n",
    "\n",
    "[1,2,8]\n",
    "[3,7,9]\n",
    "[1,1,9]"
   ]
  },
  {
   "cell_type": "code",
   "execution_count": 19,
   "id": "3ac98696",
   "metadata": {},
   "outputs": [
    {
     "data": {
      "text/plain": [
       "array([[1, 2, 8],\n",
       "       [3, 7, 9],\n",
       "       [1, 1, 9]])"
      ]
     },
     "execution_count": 19,
     "metadata": {},
     "output_type": "execute_result"
    }
   ],
   "source": [
    "mat_B[::-1,::2]"
   ]
  },
  {
   "cell_type": "markdown",
   "id": "cc96d6cf",
   "metadata": {},
   "source": [
    "# Conditional Slicing"
   ]
  },
  {
   "cell_type": "code",
   "execution_count": 22,
   "id": "a3da30e7",
   "metadata": {},
   "outputs": [
    {
     "data": {
      "text/plain": [
       "array([[3, 1, 5, 6, 2],\n",
       "       [8, 4, 4, 1, 0],\n",
       "       [3, 8, 5, 9, 2]])"
      ]
     },
     "execution_count": 22,
     "metadata": {},
     "output_type": "execute_result"
    }
   ],
   "source": [
    "mat_C = np.array([[3,1,5,6,2],[8,4,4,1,0],[3,8,5,9,2]])\n",
    "mat_C"
   ]
  },
  {
   "cell_type": "code",
   "execution_count": 23,
   "id": "ad5b031c",
   "metadata": {},
   "outputs": [
    {
     "data": {
      "text/plain": [
       "array([1, 4, 8])"
      ]
     },
     "execution_count": 23,
     "metadata": {},
     "output_type": "execute_result"
    }
   ],
   "source": [
    "mat_C[:,1]"
   ]
  },
  {
   "cell_type": "code",
   "execution_count": 24,
   "id": "ba9eac6e",
   "metadata": {},
   "outputs": [
    {
     "data": {
      "text/plain": [
       "array([False,  True,  True])"
      ]
     },
     "execution_count": 24,
     "metadata": {},
     "output_type": "execute_result"
    }
   ],
   "source": [
    "mat_C[:,1] > 3"
   ]
  },
  {
   "cell_type": "code",
   "execution_count": 25,
   "id": "3448f892",
   "metadata": {},
   "outputs": [
    {
     "data": {
      "text/plain": [
       "array([[False, False,  True,  True, False],\n",
       "       [ True,  True,  True, False, False],\n",
       "       [False,  True,  True,  True, False]])"
      ]
     },
     "execution_count": 25,
     "metadata": {},
     "output_type": "execute_result"
    }
   ],
   "source": [
    "mat_C[:,:] > 3"
   ]
  },
  {
   "cell_type": "code",
   "execution_count": 26,
   "id": "93d0ba0c",
   "metadata": {},
   "outputs": [
    {
     "data": {
      "text/plain": [
       "array([6, 2, 8, 4, 4, 0, 8, 2])"
      ]
     },
     "execution_count": 26,
     "metadata": {},
     "output_type": "execute_result"
    }
   ],
   "source": [
    "mat_C[mat_C[:,:]%2 == 0 ]"
   ]
  },
  {
   "cell_type": "code",
   "execution_count": 27,
   "id": "3a3cff31",
   "metadata": {},
   "outputs": [
    {
     "data": {
      "text/plain": [
       "array([2, 4, 4, 0, 2])"
      ]
     },
     "execution_count": 27,
     "metadata": {},
     "output_type": "execute_result"
    }
   ],
   "source": [
    "mat_C[(mat_C[:,:]%2 == 0) & (mat_C[:,:] < 5) ]"
   ]
  },
  {
   "cell_type": "code",
   "execution_count": 28,
   "id": "b1e81086",
   "metadata": {},
   "outputs": [
    {
     "data": {
      "text/plain": [
       "array([3, 1, 6, 2, 8, 4, 4, 1, 0, 3, 8, 2])"
      ]
     },
     "execution_count": 28,
     "metadata": {},
     "output_type": "execute_result"
    }
   ],
   "source": [
    "mat_C[(mat_C[:,:]%2 == 0) | (mat_C[:,:] < 5) ]"
   ]
  },
  {
   "cell_type": "markdown",
   "id": "5a3b0428",
   "metadata": {},
   "source": [
    "# Shape"
   ]
  },
  {
   "cell_type": "code",
   "execution_count": 44,
   "id": "31913915",
   "metadata": {},
   "outputs": [
    {
     "data": {
      "text/plain": [
       "(3, 5)"
      ]
     },
     "execution_count": 44,
     "metadata": {},
     "output_type": "execute_result"
    }
   ],
   "source": [
    "mat_C.shape"
   ]
  },
  {
   "cell_type": "markdown",
   "id": "d47a56d8",
   "metadata": {},
   "source": [
    "# Exercise"
   ]
  },
  {
   "cell_type": "code",
   "execution_count": 30,
   "id": "0f8caeb7",
   "metadata": {},
   "outputs": [],
   "source": [
    "array_1 = np.array([10,11,12,13,14])\n",
    "array_2 = np.array([[20,30,40,50,60],[43,21,34,78,42],[12,32,65,45,34]])\n",
    "array_3 = np.array([[[1,2,3,4,5],[11,12,13,14,15]],[[21,22,23,24,25],[31,32,33,34,35]]])"
   ]
  },
  {
   "cell_type": "code",
   "execution_count": 35,
   "id": "a19543d8",
   "metadata": {},
   "outputs": [
    {
     "data": {
      "text/plain": [
       "array([78, 42])"
      ]
     },
     "execution_count": 35,
     "metadata": {},
     "output_type": "execute_result"
    }
   ],
   "source": [
    "#slice last two column of 2nd row of array_2\n",
    "array_2[1,-2:]"
   ]
  },
  {
   "cell_type": "code",
   "execution_count": 37,
   "id": "703e9240",
   "metadata": {},
   "outputs": [
    {
     "data": {
      "text/plain": [
       "array([43, 21, 34])"
      ]
     },
     "execution_count": 37,
     "metadata": {},
     "output_type": "execute_result"
    }
   ],
   "source": [
    "#slice 2nd row of array_2 excluding the last two columns\n",
    "array_2[1,:-2]"
   ]
  },
  {
   "cell_type": "code",
   "execution_count": 38,
   "id": "a3cda171",
   "metadata": {},
   "outputs": [
    {
     "data": {
      "text/plain": [
       "array([[20, 40, 60],\n",
       "       [43, 34, 42],\n",
       "       [12, 65, 34]])"
      ]
     },
     "execution_count": 38,
     "metadata": {},
     "output_type": "execute_result"
    }
   ],
   "source": [
    "#slice 1st, 3rd, 5th columns of array_2\n",
    "array_2[:,::2]"
   ]
  },
  {
   "cell_type": "code",
   "execution_count": null,
   "id": "5ad41486",
   "metadata": {},
   "outputs": [],
   "source": [
    "#use conditional slicing to check individual elements of  array satisfy this conditon :greater than 20\n",
    "#display resultant arrays\n",
    "#use conditional slicing to check individual elements of  array satisfy either of these conditons :1. greater than 20, 2. odd \n",
    "#use conditional slicing to check individual elements of  array satisfy both of these conditons :1. greater than 20, 2. odd "
   ]
  },
  {
   "cell_type": "code",
   "execution_count": 39,
   "id": "0da5e036",
   "metadata": {},
   "outputs": [
    {
     "data": {
      "text/plain": [
       "array([[False,  True,  True,  True,  True],\n",
       "       [ True,  True,  True,  True,  True],\n",
       "       [False,  True,  True,  True,  True]])"
      ]
     },
     "execution_count": 39,
     "metadata": {},
     "output_type": "execute_result"
    }
   ],
   "source": [
    "array_2 > 20"
   ]
  },
  {
   "cell_type": "code",
   "execution_count": 40,
   "id": "674aba9f",
   "metadata": {},
   "outputs": [
    {
     "data": {
      "text/plain": [
       "array([30, 40, 50, 60, 43, 21, 34, 78, 42, 32, 65, 45, 34])"
      ]
     },
     "execution_count": 40,
     "metadata": {},
     "output_type": "execute_result"
    }
   ],
   "source": [
    "array_2[array_2>20]"
   ]
  },
  {
   "cell_type": "code",
   "execution_count": 41,
   "id": "74431e07",
   "metadata": {},
   "outputs": [
    {
     "data": {
      "text/plain": [
       "array([30, 40, 50, 60, 43, 21, 34, 78, 42, 32, 65, 45, 34])"
      ]
     },
     "execution_count": 41,
     "metadata": {},
     "output_type": "execute_result"
    }
   ],
   "source": [
    "array_2[(array_2>20) | (array_2%2 ==1)]"
   ]
  },
  {
   "cell_type": "code",
   "execution_count": 46,
   "id": "6699557a",
   "metadata": {},
   "outputs": [
    {
     "data": {
      "text/plain": [
       "array([43, 21, 65, 45])"
      ]
     },
     "execution_count": 46,
     "metadata": {},
     "output_type": "execute_result"
    }
   ],
   "source": [
    "array_2[(array_2>20) & (array_2%2 ==1)]"
   ]
  },
  {
   "cell_type": "code",
   "execution_count": 50,
   "id": "f5b535c6",
   "metadata": {},
   "outputs": [
    {
     "data": {
      "text/plain": [
       "(5,)"
      ]
     },
     "execution_count": 50,
     "metadata": {},
     "output_type": "execute_result"
    }
   ],
   "source": [
    "array_1.shape"
   ]
  },
  {
   "cell_type": "code",
   "execution_count": null,
   "id": "e8250b4b",
   "metadata": {},
   "outputs": [],
   "source": []
  }
 ],
 "metadata": {
  "kernelspec": {
   "display_name": "Python 3 (ipykernel)",
   "language": "python",
   "name": "python3"
  },
  "language_info": {
   "codemirror_mode": {
    "name": "ipython",
    "version": 3
   },
   "file_extension": ".py",
   "mimetype": "text/x-python",
   "name": "python",
   "nbconvert_exporter": "python",
   "pygments_lexer": "ipython3",
   "version": "3.11.5"
  }
 },
 "nbformat": 4,
 "nbformat_minor": 5
}
