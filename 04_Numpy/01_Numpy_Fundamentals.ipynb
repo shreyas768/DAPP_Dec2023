{
 "cells": [
  {
   "cell_type": "markdown",
   "id": "b78e0387",
   "metadata": {},
   "source": [
    "# Importing Numpy Libraries"
   ]
  },
  {
   "cell_type": "code",
   "execution_count": 1,
   "id": "231db522",
   "metadata": {},
   "outputs": [],
   "source": [
    "import numpy as np"
   ]
  },
  {
   "cell_type": "code",
   "execution_count": 2,
   "id": "1b780886",
   "metadata": {},
   "outputs": [],
   "source": [
    "lst = [1,2,3]"
   ]
  },
  {
   "cell_type": "code",
   "execution_count": 3,
   "id": "10539815",
   "metadata": {},
   "outputs": [],
   "source": [
    "arr = np.array(lst)"
   ]
  },
  {
   "cell_type": "code",
   "execution_count": 4,
   "id": "2a0bda5a",
   "metadata": {},
   "outputs": [
    {
     "data": {
      "text/plain": [
       "array([1, 2, 3])"
      ]
     },
     "execution_count": 4,
     "metadata": {},
     "output_type": "execute_result"
    }
   ],
   "source": [
    "arr"
   ]
  },
  {
   "cell_type": "code",
   "execution_count": 5,
   "id": "98259db5",
   "metadata": {},
   "outputs": [
    {
     "data": {
      "text/plain": [
       "numpy.ndarray"
      ]
     },
     "execution_count": 5,
     "metadata": {},
     "output_type": "execute_result"
    }
   ],
   "source": [
    "type(arr)"
   ]
  },
  {
   "cell_type": "code",
   "execution_count": 8,
   "id": "2fc6315c",
   "metadata": {},
   "outputs": [
    {
     "data": {
      "text/plain": [
       "array([[1, 2, 3],\n",
       "       [4, 5, 6]])"
      ]
     },
     "execution_count": 8,
     "metadata": {},
     "output_type": "execute_result"
    }
   ],
   "source": [
    "arr_a = np.array([[1,2,3],[4,5,6]])\n",
    "arr_a"
   ]
  },
  {
   "cell_type": "markdown",
   "id": "57b86d47",
   "metadata": {},
   "source": [
    "# Indexing"
   ]
  },
  {
   "cell_type": "code",
   "execution_count": 9,
   "id": "c2a5843f",
   "metadata": {},
   "outputs": [
    {
     "data": {
      "text/plain": [
       "array([4, 5, 6])"
      ]
     },
     "execution_count": 9,
     "metadata": {},
     "output_type": "execute_result"
    }
   ],
   "source": [
    "arr_a[1]"
   ]
  },
  {
   "cell_type": "code",
   "execution_count": 10,
   "id": "9c0c6b9c",
   "metadata": {},
   "outputs": [
    {
     "data": {
      "text/plain": [
       "6"
      ]
     },
     "execution_count": 10,
     "metadata": {},
     "output_type": "execute_result"
    }
   ],
   "source": [
    "arr_a[1][2]"
   ]
  },
  {
   "cell_type": "code",
   "execution_count": 11,
   "id": "6fbf2694",
   "metadata": {},
   "outputs": [
    {
     "data": {
      "text/plain": [
       "6"
      ]
     },
     "execution_count": 11,
     "metadata": {},
     "output_type": "execute_result"
    }
   ],
   "source": [
    "arr_a[1,2]"
   ]
  },
  {
   "cell_type": "code",
   "execution_count": 14,
   "id": "a891facf",
   "metadata": {},
   "outputs": [
    {
     "data": {
      "text/plain": [
       "array([2, 5])"
      ]
     },
     "execution_count": 14,
     "metadata": {},
     "output_type": "execute_result"
    }
   ],
   "source": [
    "arr_a[:,1]"
   ]
  },
  {
   "cell_type": "code",
   "execution_count": 15,
   "id": "994db094",
   "metadata": {},
   "outputs": [
    {
     "data": {
      "text/plain": [
       "array([4, 5, 6])"
      ]
     },
     "execution_count": 15,
     "metadata": {},
     "output_type": "execute_result"
    }
   ],
   "source": [
    "arr_a[-1]"
   ]
  },
  {
   "cell_type": "markdown",
   "id": "ffa32be2",
   "metadata": {},
   "source": [
    "# Assigning Values"
   ]
  },
  {
   "cell_type": "code",
   "execution_count": 16,
   "id": "1ac60a2b",
   "metadata": {},
   "outputs": [
    {
     "data": {
      "text/plain": [
       "array([[1, 2, 3],\n",
       "       [4, 5, 6]])"
      ]
     },
     "execution_count": 16,
     "metadata": {},
     "output_type": "execute_result"
    }
   ],
   "source": [
    "arr_a"
   ]
  },
  {
   "cell_type": "code",
   "execution_count": 18,
   "id": "623902fc",
   "metadata": {},
   "outputs": [],
   "source": [
    "arr_a[0,2] = 18"
   ]
  },
  {
   "cell_type": "code",
   "execution_count": 19,
   "id": "ca4ef96f",
   "metadata": {},
   "outputs": [
    {
     "data": {
      "text/plain": [
       "array([[ 1,  2, 18],\n",
       "       [ 4,  5,  6]])"
      ]
     },
     "execution_count": 19,
     "metadata": {},
     "output_type": "execute_result"
    }
   ],
   "source": [
    "arr_a"
   ]
  },
  {
   "cell_type": "code",
   "execution_count": 20,
   "id": "edc32daa",
   "metadata": {},
   "outputs": [
    {
     "data": {
      "text/plain": [
       "array([[9, 9, 9],\n",
       "       [4, 5, 6]])"
      ]
     },
     "execution_count": 20,
     "metadata": {},
     "output_type": "execute_result"
    }
   ],
   "source": [
    "arr_a[0] = 9\n",
    "arr_a"
   ]
  },
  {
   "cell_type": "code",
   "execution_count": 21,
   "id": "18e09dbd",
   "metadata": {},
   "outputs": [],
   "source": [
    "arr_a[:,1] = 5"
   ]
  },
  {
   "cell_type": "code",
   "execution_count": 22,
   "id": "e33f03a4",
   "metadata": {},
   "outputs": [
    {
     "data": {
      "text/plain": [
       "array([[9, 5, 9],\n",
       "       [4, 5, 6]])"
      ]
     },
     "execution_count": 22,
     "metadata": {},
     "output_type": "execute_result"
    }
   ],
   "source": [
    "arr_a"
   ]
  },
  {
   "cell_type": "code",
   "execution_count": 25,
   "id": "36826f87",
   "metadata": {},
   "outputs": [
    {
     "data": {
      "text/plain": [
       "array([[1, 9, 7],\n",
       "       [4, 5, 6]])"
      ]
     },
     "execution_count": 25,
     "metadata": {},
     "output_type": "execute_result"
    }
   ],
   "source": [
    "lst_a = [1,9,7]\n",
    "arr_a[0] = lst_a\n",
    "arr_a"
   ]
  },
  {
   "cell_type": "code",
   "execution_count": 26,
   "id": "8ea3e3e6",
   "metadata": {},
   "outputs": [
    {
     "data": {
      "text/plain": [
       "array([[1, 9, 2],\n",
       "       [4, 5, 3]])"
      ]
     },
     "execution_count": 26,
     "metadata": {},
     "output_type": "execute_result"
    }
   ],
   "source": [
    "lst_b = [2,3]\n",
    "arr_a[:,2] = lst_b\n",
    "arr_a"
   ]
  },
  {
   "cell_type": "code",
   "execution_count": 27,
   "id": "d15245e7",
   "metadata": {},
   "outputs": [
    {
     "data": {
      "text/plain": [
       "array([[8, 8, 8],\n",
       "       [8, 8, 8]])"
      ]
     },
     "execution_count": 27,
     "metadata": {},
     "output_type": "execute_result"
    }
   ],
   "source": [
    "arr_a[:] = 8\n",
    "arr_a"
   ]
  },
  {
   "cell_type": "markdown",
   "id": "b4a5ff87",
   "metadata": {},
   "source": [
    "# Elementwise Properties"
   ]
  },
  {
   "cell_type": "code",
   "execution_count": 28,
   "id": "1f25eaa2",
   "metadata": {},
   "outputs": [],
   "source": [
    "arr_a = np.array([7,8,9])\n",
    "arr_b = np.array([[1,2,3],[4,5,6]])"
   ]
  },
  {
   "cell_type": "code",
   "execution_count": 29,
   "id": "86b52c60",
   "metadata": {},
   "outputs": [
    {
     "data": {
      "text/plain": [
       "array([7, 8, 9])"
      ]
     },
     "execution_count": 29,
     "metadata": {},
     "output_type": "execute_result"
    }
   ],
   "source": [
    "arr_a"
   ]
  },
  {
   "cell_type": "code",
   "execution_count": 30,
   "id": "aba48c16",
   "metadata": {},
   "outputs": [
    {
     "data": {
      "text/plain": [
       "array([[1, 2, 3],\n",
       "       [4, 5, 6]])"
      ]
     },
     "execution_count": 30,
     "metadata": {},
     "output_type": "execute_result"
    }
   ],
   "source": [
    "arr_b"
   ]
  },
  {
   "cell_type": "code",
   "execution_count": 31,
   "id": "b506e6b3",
   "metadata": {},
   "outputs": [
    {
     "data": {
      "text/plain": [
       "array([[ 2,  4,  6],\n",
       "       [ 8, 10, 12]])"
      ]
     },
     "execution_count": 31,
     "metadata": {},
     "output_type": "execute_result"
    }
   ],
   "source": [
    "arr_b*2"
   ]
  },
  {
   "cell_type": "code",
   "execution_count": 32,
   "id": "2d888845",
   "metadata": {},
   "outputs": [
    {
     "data": {
      "text/plain": [
       "[1, 2, 3, 2]"
      ]
     },
     "execution_count": 32,
     "metadata": {},
     "output_type": "execute_result"
    }
   ],
   "source": [
    "lst_a = [1,2,3]\n",
    "lst_a+[2]"
   ]
  },
  {
   "cell_type": "code",
   "execution_count": 35,
   "id": "3c901f39",
   "metadata": {},
   "outputs": [
    {
     "data": {
      "text/plain": [
       "array([ 9, 10, 11])"
      ]
     },
     "execution_count": 35,
     "metadata": {},
     "output_type": "execute_result"
    }
   ],
   "source": [
    "arr_a + 2"
   ]
  },
  {
   "cell_type": "code",
   "execution_count": 37,
   "id": "d2a1b552",
   "metadata": {},
   "outputs": [
    {
     "data": {
      "text/plain": [
       "array([28, 40, 54])"
      ]
     },
     "execution_count": 37,
     "metadata": {},
     "output_type": "execute_result"
    }
   ],
   "source": [
    "arr_b[1]*arr_a"
   ]
  },
  {
   "cell_type": "code",
   "execution_count": 42,
   "id": "05a177cf",
   "metadata": {},
   "outputs": [],
   "source": [
    "arr_x = np.array([[1],[2]])\n",
    "mat_C = np.array([[1,2,3],[4,5,6]])"
   ]
  },
  {
   "cell_type": "code",
   "execution_count": 44,
   "id": "38616eb1",
   "metadata": {},
   "outputs": [
    {
     "data": {
      "text/plain": [
       "array([[1],\n",
       "       [2]])"
      ]
     },
     "execution_count": 44,
     "metadata": {},
     "output_type": "execute_result"
    }
   ],
   "source": [
    "arr_x"
   ]
  },
  {
   "cell_type": "code",
   "execution_count": 45,
   "id": "ea0ee351",
   "metadata": {},
   "outputs": [
    {
     "data": {
      "text/plain": [
       "array([[1, 2, 3],\n",
       "       [4, 5, 6]])"
      ]
     },
     "execution_count": 45,
     "metadata": {},
     "output_type": "execute_result"
    }
   ],
   "source": [
    "mat_C"
   ]
  },
  {
   "cell_type": "code",
   "execution_count": 47,
   "id": "58ce8670",
   "metadata": {},
   "outputs": [
    {
     "data": {
      "text/plain": [
       "array([[2, 3, 4],\n",
       "       [6, 7, 8]])"
      ]
     },
     "execution_count": 47,
     "metadata": {},
     "output_type": "execute_result"
    }
   ],
   "source": [
    "np.add(arr_x,mat_C)"
   ]
  },
  {
   "cell_type": "markdown",
   "id": "e2a6dc8e",
   "metadata": {},
   "source": [
    "# Data Types"
   ]
  },
  {
   "cell_type": "code",
   "execution_count": 38,
   "id": "79420b99",
   "metadata": {},
   "outputs": [
    {
     "data": {
      "text/plain": [
       "array([[1., 2., 3.],\n",
       "       [4., 5., 6.]], dtype=float16)"
      ]
     },
     "execution_count": 38,
     "metadata": {},
     "output_type": "execute_result"
    }
   ],
   "source": [
    "np.array([[1,2,3],[4,5,6]],dtype = np.float16)"
   ]
  },
  {
   "cell_type": "code",
   "execution_count": 39,
   "id": "798c0f20",
   "metadata": {},
   "outputs": [
    {
     "data": {
      "text/plain": [
       "array([[1.+0.j, 2.+0.j, 3.+0.j],\n",
       "       [4.+0.j, 5.+0.j, 6.+0.j]], dtype=complex64)"
      ]
     },
     "execution_count": 39,
     "metadata": {},
     "output_type": "execute_result"
    }
   ],
   "source": [
    "np.array([[1,2,3],[4,5,6]],dtype = np.complex64)"
   ]
  },
  {
   "cell_type": "code",
   "execution_count": 40,
   "id": "b6a720fd",
   "metadata": {},
   "outputs": [
    {
     "data": {
      "text/plain": [
       "array([['1', '2', '3'],\n",
       "       ['4', '5', '6']], dtype='<U1')"
      ]
     },
     "execution_count": 40,
     "metadata": {},
     "output_type": "execute_result"
    }
   ],
   "source": [
    "np.array([[1,2,3],[4,5,6]],dtype = str)"
   ]
  },
  {
   "cell_type": "code",
   "execution_count": null,
   "id": "4ef19516",
   "metadata": {},
   "outputs": [],
   "source": []
  }
 ],
 "metadata": {
  "kernelspec": {
   "display_name": "Python 3 (ipykernel)",
   "language": "python",
   "name": "python3"
  },
  "language_info": {
   "codemirror_mode": {
    "name": "ipython",
    "version": 3
   },
   "file_extension": ".py",
   "mimetype": "text/x-python",
   "name": "python",
   "nbconvert_exporter": "python",
   "pygments_lexer": "ipython3",
   "version": "3.11.5"
  }
 },
 "nbformat": 4,
 "nbformat_minor": 5
}
