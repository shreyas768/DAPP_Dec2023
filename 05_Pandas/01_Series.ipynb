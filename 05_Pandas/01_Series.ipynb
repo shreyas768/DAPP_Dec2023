{
 "cells": [
  {
   "cell_type": "code",
   "execution_count": 1,
   "id": "004819cd",
   "metadata": {},
   "outputs": [],
   "source": [
    "import numpy as np\n",
    "import pandas as pd"
   ]
  },
  {
   "cell_type": "markdown",
   "id": "0678c29d",
   "metadata": {},
   "source": [
    "# Creating a series from python objects"
   ]
  },
  {
   "cell_type": "code",
   "execution_count": 3,
   "id": "7b5582da",
   "metadata": {},
   "outputs": [],
   "source": [
    "#help(pd.Series)"
   ]
  },
  {
   "cell_type": "markdown",
   "id": "9a52f510",
   "metadata": {},
   "source": [
    "#### List"
   ]
  },
  {
   "cell_type": "code",
   "execution_count": 13,
   "id": "094fb5fd",
   "metadata": {},
   "outputs": [],
   "source": [
    "my_i = ['USA','Canada','Mexico']\n",
    "my_d = [1776,1867,1821]"
   ]
  },
  {
   "cell_type": "code",
   "execution_count": 15,
   "id": "f99ffb6a",
   "metadata": {},
   "outputs": [],
   "source": [
    "my_s = pd.Series(index = my_i, data = my_d)"
   ]
  },
  {
   "cell_type": "code",
   "execution_count": 16,
   "id": "a1ffe715",
   "metadata": {},
   "outputs": [
    {
     "data": {
      "text/plain": [
       "USA       1776\n",
       "Canada    1867\n",
       "Mexico    1821\n",
       "dtype: int64"
      ]
     },
     "execution_count": 16,
     "metadata": {},
     "output_type": "execute_result"
    }
   ],
   "source": [
    "my_s"
   ]
  },
  {
   "cell_type": "code",
   "execution_count": 18,
   "id": "94fd96dd",
   "metadata": {},
   "outputs": [],
   "source": [
    "my_r = np.random.randint(0,100,5)"
   ]
  },
  {
   "cell_type": "code",
   "execution_count": 19,
   "id": "131ff502",
   "metadata": {},
   "outputs": [],
   "source": [
    "my_n = ['Ram','Rahul','Shreyas','Subrat','Rohit']"
   ]
  },
  {
   "cell_type": "code",
   "execution_count": 20,
   "id": "f7668591",
   "metadata": {},
   "outputs": [],
   "source": [
    "ages = pd.Series(data=my_r,index=my_n)"
   ]
  },
  {
   "cell_type": "code",
   "execution_count": 21,
   "id": "7e811ac0",
   "metadata": {},
   "outputs": [
    {
     "data": {
      "text/plain": [
       "Ram        24\n",
       "Rahul      72\n",
       "Shreyas    76\n",
       "Subrat      8\n",
       "Rohit      67\n",
       "dtype: int32"
      ]
     },
     "execution_count": 21,
     "metadata": {},
     "output_type": "execute_result"
    }
   ],
   "source": [
    "ages"
   ]
  },
  {
   "cell_type": "markdown",
   "id": "9e654a65",
   "metadata": {},
   "source": [
    "#### Dictionaries"
   ]
  },
  {
   "cell_type": "code",
   "execution_count": 22,
   "id": "e0979b68",
   "metadata": {},
   "outputs": [],
   "source": [
    "ages = {'Ram':24,'Rahul':72,'Shreyas':76,'Subrat':8,'Rohit':67}"
   ]
  },
  {
   "cell_type": "code",
   "execution_count": 23,
   "id": "d9b41863",
   "metadata": {},
   "outputs": [
    {
     "data": {
      "text/plain": [
       "Ram        24\n",
       "Rahul      72\n",
       "Shreyas    76\n",
       "Subrat      8\n",
       "Rohit      67\n",
       "dtype: int64"
      ]
     },
     "execution_count": 23,
     "metadata": {},
     "output_type": "execute_result"
    }
   ],
   "source": [
    "pd.Series(ages)"
   ]
  },
  {
   "cell_type": "markdown",
   "id": "d5ad3609",
   "metadata": {},
   "source": [
    "# Key Ideas"
   ]
  },
  {
   "cell_type": "code",
   "execution_count": 24,
   "id": "10336baf",
   "metadata": {},
   "outputs": [],
   "source": [
    "q1 = {'Japan':43,'China':450,'India':210,'USA':300}\n",
    "q2 = {'Brazil':99,'China':500,'India':250,'USA':260}"
   ]
  },
  {
   "cell_type": "code",
   "execution_count": 25,
   "id": "52e69a19",
   "metadata": {},
   "outputs": [],
   "source": [
    "rev_q1 = pd.Series(q1)\n",
    "rev_q2 = pd.Series(q2)"
   ]
  },
  {
   "cell_type": "code",
   "execution_count": 26,
   "id": "7d7ff1b9",
   "metadata": {},
   "outputs": [
    {
     "data": {
      "text/plain": [
       "Japan     43\n",
       "China    450\n",
       "India    210\n",
       "USA      300\n",
       "dtype: int64"
      ]
     },
     "execution_count": 26,
     "metadata": {},
     "output_type": "execute_result"
    }
   ],
   "source": [
    "rev_q1"
   ]
  },
  {
   "cell_type": "code",
   "execution_count": 27,
   "id": "90596684",
   "metadata": {},
   "outputs": [
    {
     "data": {
      "text/plain": [
       "43"
      ]
     },
     "execution_count": 27,
     "metadata": {},
     "output_type": "execute_result"
    }
   ],
   "source": [
    "rev_q1['Japan']"
   ]
  },
  {
   "cell_type": "code",
   "execution_count": 28,
   "id": "5f5405a7",
   "metadata": {},
   "outputs": [
    {
     "name": "stderr",
     "output_type": "stream",
     "text": [
      "C:\\Users\\shrey\\AppData\\Local\\Temp\\ipykernel_20528\\2833669969.py:1: FutureWarning: Series.__getitem__ treating keys as positions is deprecated. In a future version, integer keys will always be treated as labels (consistent with DataFrame behavior). To access a value by position, use `ser.iloc[pos]`\n",
      "  rev_q1[0]\n"
     ]
    },
    {
     "data": {
      "text/plain": [
       "43"
      ]
     },
     "execution_count": 28,
     "metadata": {},
     "output_type": "execute_result"
    }
   ],
   "source": [
    "rev_q1[0]"
   ]
  },
  {
   "cell_type": "code",
   "execution_count": 29,
   "id": "9f7593fa",
   "metadata": {},
   "outputs": [
    {
     "data": {
      "text/plain": [
       "Index(['Japan', 'China', 'India', 'USA'], dtype='object')"
      ]
     },
     "execution_count": 29,
     "metadata": {},
     "output_type": "execute_result"
    }
   ],
   "source": [
    "rev_q1.keys()"
   ]
  },
  {
   "cell_type": "code",
   "execution_count": 30,
   "id": "212adffb",
   "metadata": {},
   "outputs": [
    {
     "data": {
      "text/plain": [
       "Japan     215\n",
       "China    2250\n",
       "India    1050\n",
       "USA      1500\n",
       "dtype: int64"
      ]
     },
     "execution_count": 30,
     "metadata": {},
     "output_type": "execute_result"
    }
   ],
   "source": [
    "#broadcasting operations\n",
    "rev_q1*5"
   ]
  },
  {
   "cell_type": "code",
   "execution_count": 31,
   "id": "2081ea3f",
   "metadata": {},
   "outputs": [
    {
     "data": {
      "text/plain": [
       "Brazil     1.98\n",
       "China     10.00\n",
       "India      5.00\n",
       "USA        5.20\n",
       "dtype: float64"
      ]
     },
     "execution_count": 31,
     "metadata": {},
     "output_type": "execute_result"
    }
   ],
   "source": [
    "rev_q2/50"
   ]
  },
  {
   "cell_type": "markdown",
   "id": "ace83025",
   "metadata": {},
   "source": [
    "# Operations between Series"
   ]
  },
  {
   "cell_type": "code",
   "execution_count": 32,
   "id": "6e2c9c91",
   "metadata": {},
   "outputs": [
    {
     "data": {
      "text/plain": [
       "Brazil      NaN\n",
       "China     950.0\n",
       "India     460.0\n",
       "Japan       NaN\n",
       "USA       560.0\n",
       "dtype: float64"
      ]
     },
     "execution_count": 32,
     "metadata": {},
     "output_type": "execute_result"
    }
   ],
   "source": [
    "rev_q1+rev_q2"
   ]
  },
  {
   "cell_type": "code",
   "execution_count": 35,
   "id": "9fa61caf",
   "metadata": {},
   "outputs": [
    {
     "data": {
      "text/plain": [
       "Brazil     99.0\n",
       "China     950.0\n",
       "India     460.0\n",
       "Japan      43.0\n",
       "USA       560.0\n",
       "dtype: float64"
      ]
     },
     "execution_count": 35,
     "metadata": {},
     "output_type": "execute_result"
    }
   ],
   "source": [
    "rev_q1.add(rev_q2,fill_value=0)"
   ]
  },
  {
   "cell_type": "code",
   "execution_count": null,
   "id": "676c2922",
   "metadata": {},
   "outputs": [],
   "source": []
  }
 ],
 "metadata": {
  "kernelspec": {
   "display_name": "Python 3 (ipykernel)",
   "language": "python",
   "name": "python3"
  },
  "language_info": {
   "codemirror_mode": {
    "name": "ipython",
    "version": 3
   },
   "file_extension": ".py",
   "mimetype": "text/x-python",
   "name": "python",
   "nbconvert_exporter": "python",
   "pygments_lexer": "ipython3",
   "version": "3.11.5"
  }
 },
 "nbformat": 4,
 "nbformat_minor": 5
}
