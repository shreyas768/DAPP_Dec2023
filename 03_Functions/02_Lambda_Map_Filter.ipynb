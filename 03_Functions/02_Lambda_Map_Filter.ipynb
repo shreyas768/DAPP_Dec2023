{
 "cells": [
  {
   "cell_type": "markdown",
   "id": "f08e00ab",
   "metadata": {},
   "source": [
    "## Map Functions"
   ]
  },
  {
   "cell_type": "code",
   "execution_count": 3,
   "id": "5538cd26",
   "metadata": {},
   "outputs": [],
   "source": [
    "def square1(num):\n",
    "    return num**2"
   ]
  },
  {
   "cell_type": "code",
   "execution_count": 2,
   "id": "b76e6992",
   "metadata": {},
   "outputs": [],
   "source": [
    "lst = [1,2,3,4,5]"
   ]
  },
  {
   "cell_type": "code",
   "execution_count": 6,
   "id": "489490b6",
   "metadata": {},
   "outputs": [
    {
     "data": {
      "text/plain": [
       "<map at 0x1e44d3539a0>"
      ]
     },
     "execution_count": 6,
     "metadata": {},
     "output_type": "execute_result"
    }
   ],
   "source": [
    "map(square1,lst)"
   ]
  },
  {
   "cell_type": "code",
   "execution_count": 5,
   "id": "7f33c340",
   "metadata": {},
   "outputs": [
    {
     "data": {
      "text/plain": [
       "[1, 4, 9, 16, 25]"
      ]
     },
     "execution_count": 5,
     "metadata": {},
     "output_type": "execute_result"
    }
   ],
   "source": [
    "list(map(square1,lst))"
   ]
  },
  {
   "cell_type": "code",
   "execution_count": 7,
   "id": "042296fd",
   "metadata": {},
   "outputs": [],
   "source": [
    "lst_n = ['Adam','Beckie','Catherine','Kelly','Dave','Sachin']\n",
    "\n",
    "def f1(strng):\n",
    "    if len(strng)%2 == 0:\n",
    "        return 'even'\n",
    "    else:\n",
    "        return strng[0]"
   ]
  },
  {
   "cell_type": "code",
   "execution_count": 9,
   "id": "b227c2f1",
   "metadata": {},
   "outputs": [
    {
     "data": {
      "text/plain": [
       "['even', 'even', 'C', 'K', 'even', 'even']"
      ]
     },
     "execution_count": 9,
     "metadata": {},
     "output_type": "execute_result"
    }
   ],
   "source": [
    "list(map(f1,lst_n))"
   ]
  },
  {
   "cell_type": "markdown",
   "id": "9bd2d367",
   "metadata": {},
   "source": [
    "# Filter function"
   ]
  },
  {
   "cell_type": "code",
   "execution_count": 18,
   "id": "7b0d9c5b",
   "metadata": {},
   "outputs": [],
   "source": [
    "def above_five(number):\n",
    "    return number > 5 "
   ]
  },
  {
   "cell_type": "code",
   "execution_count": 19,
   "id": "111972bb",
   "metadata": {},
   "outputs": [],
   "source": [
    "num =  [0,1,2,3,4,5,6,7,8,9]"
   ]
  },
  {
   "cell_type": "code",
   "execution_count": 20,
   "id": "d115b12b",
   "metadata": {},
   "outputs": [
    {
     "data": {
      "text/plain": [
       "<filter at 0x1e44d58f5b0>"
      ]
     },
     "execution_count": 20,
     "metadata": {},
     "output_type": "execute_result"
    }
   ],
   "source": [
    "filter(above_five,num)"
   ]
  },
  {
   "cell_type": "code",
   "execution_count": 21,
   "id": "e638fb88",
   "metadata": {},
   "outputs": [
    {
     "data": {
      "text/plain": [
       "[6, 7, 8, 9]"
      ]
     },
     "execution_count": 21,
     "metadata": {},
     "output_type": "execute_result"
    }
   ],
   "source": [
    "list(filter(above_five,num))"
   ]
  },
  {
   "cell_type": "markdown",
   "id": "00dca645",
   "metadata": {},
   "source": [
    "# Lambda Expressions"
   ]
  },
  {
   "cell_type": "code",
   "execution_count": 22,
   "id": "6e88b3ef",
   "metadata": {},
   "outputs": [],
   "source": [
    "def square(num):\n",
    "    res = num**2\n",
    "    return res"
   ]
  },
  {
   "cell_type": "code",
   "execution_count": 23,
   "id": "67455f18",
   "metadata": {},
   "outputs": [
    {
     "data": {
      "text/plain": [
       "4"
      ]
     },
     "execution_count": 23,
     "metadata": {},
     "output_type": "execute_result"
    }
   ],
   "source": [
    "square(2)"
   ]
  },
  {
   "cell_type": "markdown",
   "id": "f075fec4",
   "metadata": {},
   "source": [
    "##### Simplifying above function"
   ]
  },
  {
   "cell_type": "code",
   "execution_count": 24,
   "id": "c2c042d7",
   "metadata": {},
   "outputs": [],
   "source": [
    "def square(num):\n",
    "    return num**2"
   ]
  },
  {
   "cell_type": "code",
   "execution_count": 26,
   "id": "bc0b6849",
   "metadata": {},
   "outputs": [],
   "source": [
    "def square1(num): return num**2"
   ]
  },
  {
   "cell_type": "code",
   "execution_count": 27,
   "id": "9a341431",
   "metadata": {},
   "outputs": [
    {
     "data": {
      "text/plain": [
       "9"
      ]
     },
     "execution_count": 27,
     "metadata": {},
     "output_type": "execute_result"
    }
   ],
   "source": [
    "square1(3)"
   ]
  },
  {
   "cell_type": "code",
   "execution_count": 28,
   "id": "a1c061a2",
   "metadata": {},
   "outputs": [],
   "source": [
    "square2 = lambda num : num**2"
   ]
  },
  {
   "cell_type": "code",
   "execution_count": 29,
   "id": "c9a03c9f",
   "metadata": {},
   "outputs": [
    {
     "data": {
      "text/plain": [
       "49"
      ]
     },
     "execution_count": 29,
     "metadata": {},
     "output_type": "execute_result"
    }
   ],
   "source": [
    "square2(7)"
   ]
  },
  {
   "cell_type": "code",
   "execution_count": 32,
   "id": "c2e95043",
   "metadata": {},
   "outputs": [
    {
     "data": {
      "text/plain": [
       "[True, False, True, False, True, False, True, False, True, False]"
      ]
     },
     "execution_count": 32,
     "metadata": {},
     "output_type": "execute_result"
    }
   ],
   "source": [
    "list(map(lambda num1: num1%2 == 0, num))"
   ]
  },
  {
   "cell_type": "code",
   "execution_count": 33,
   "id": "a53210a5",
   "metadata": {},
   "outputs": [
    {
     "data": {
      "text/plain": [
       "[0, 2, 4, 6, 8]"
      ]
     },
     "execution_count": 33,
     "metadata": {},
     "output_type": "execute_result"
    }
   ],
   "source": [
    "list(filter(lambda num1: num1%2 == 0, num))"
   ]
  },
  {
   "cell_type": "code",
   "execution_count": 34,
   "id": "a2707c18",
   "metadata": {},
   "outputs": [],
   "source": [
    "s = ['Shreyas','RBPL','IITg']"
   ]
  },
  {
   "cell_type": "code",
   "execution_count": 35,
   "id": "b3b3ce15",
   "metadata": {},
   "outputs": [],
   "source": [
    "#['S','R','I']\n",
    "#['sayerhS','LPBR','gTII']"
   ]
  },
  {
   "cell_type": "code",
   "execution_count": 38,
   "id": "70c6b713",
   "metadata": {},
   "outputs": [
    {
     "data": {
      "text/plain": [
       "['S', 'R', 'I']"
      ]
     },
     "execution_count": 38,
     "metadata": {},
     "output_type": "execute_result"
    }
   ],
   "source": [
    "list(map(lambda h:h[0],s))"
   ]
  },
  {
   "cell_type": "code",
   "execution_count": 39,
   "id": "097330e1",
   "metadata": {},
   "outputs": [
    {
     "data": {
      "text/plain": [
       "['sayerhS', 'LPBR', 'gTII']"
      ]
     },
     "execution_count": 39,
     "metadata": {},
     "output_type": "execute_result"
    }
   ],
   "source": [
    "list(map(lambda h:h[::-1],s))"
   ]
  },
  {
   "cell_type": "code",
   "execution_count": null,
   "id": "038d255a",
   "metadata": {},
   "outputs": [],
   "source": []
  }
 ],
 "metadata": {
  "kernelspec": {
   "display_name": "Python 3 (ipykernel)",
   "language": "python",
   "name": "python3"
  },
  "language_info": {
   "codemirror_mode": {
    "name": "ipython",
    "version": 3
   },
   "file_extension": ".py",
   "mimetype": "text/x-python",
   "name": "python",
   "nbconvert_exporter": "python",
   "pygments_lexer": "ipython3",
   "version": "3.11.5"
  }
 },
 "nbformat": 4,
 "nbformat_minor": 5
}
