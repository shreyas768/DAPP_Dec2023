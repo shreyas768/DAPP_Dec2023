{
 "cells": [
  {
   "cell_type": "code",
   "execution_count": 1,
   "id": "62245ab7",
   "metadata": {},
   "outputs": [],
   "source": [
    "def say_hello():\n",
    "    print('hello')"
   ]
  },
  {
   "cell_type": "code",
   "execution_count": 2,
   "id": "aa0b11b6",
   "metadata": {},
   "outputs": [
    {
     "data": {
      "text/plain": [
       "<function __main__.say_hello()>"
      ]
     },
     "execution_count": 2,
     "metadata": {},
     "output_type": "execute_result"
    }
   ],
   "source": [
    "say_hello"
   ]
  },
  {
   "cell_type": "code",
   "execution_count": 3,
   "id": "08d543b9",
   "metadata": {},
   "outputs": [
    {
     "name": "stdout",
     "output_type": "stream",
     "text": [
      "hello\n"
     ]
    }
   ],
   "source": [
    "say_hello()"
   ]
  },
  {
   "cell_type": "code",
   "execution_count": 5,
   "id": "61de0f70",
   "metadata": {},
   "outputs": [],
   "source": [
    "def greet(name):\n",
    "    print(f'Hello {name}')"
   ]
  },
  {
   "cell_type": "code",
   "execution_count": 6,
   "id": "273d100b",
   "metadata": {},
   "outputs": [
    {
     "name": "stdout",
     "output_type": "stream",
     "text": [
      "Hello Shreyas\n"
     ]
    }
   ],
   "source": [
    "greet('Shreyas')"
   ]
  },
  {
   "cell_type": "markdown",
   "id": "18acd033",
   "metadata": {},
   "source": [
    "## Return keyword"
   ]
  },
  {
   "cell_type": "code",
   "execution_count": 7,
   "id": "b5ec47d5",
   "metadata": {},
   "outputs": [],
   "source": [
    "def add_nums(x,y):\n",
    "    return x+y"
   ]
  },
  {
   "cell_type": "code",
   "execution_count": 9,
   "id": "100421e0",
   "metadata": {},
   "outputs": [],
   "source": [
    "z = add_nums(78,54)"
   ]
  },
  {
   "cell_type": "code",
   "execution_count": 11,
   "id": "f2d83cef",
   "metadata": {},
   "outputs": [
    {
     "name": "stdout",
     "output_type": "stream",
     "text": [
      "132\n"
     ]
    }
   ],
   "source": [
    "print(z)"
   ]
  },
  {
   "cell_type": "code",
   "execution_count": 12,
   "id": "c17410f5",
   "metadata": {},
   "outputs": [
    {
     "data": {
      "text/plain": [
       "'onetwo'"
      ]
     },
     "execution_count": 12,
     "metadata": {},
     "output_type": "execute_result"
    }
   ],
   "source": [
    "add_nums('one','two')"
   ]
  },
  {
   "cell_type": "code",
   "execution_count": 13,
   "id": "079765f8",
   "metadata": {},
   "outputs": [
    {
     "name": "stdout",
     "output_type": "stream",
     "text": [
      "Hello Shreyas\n"
     ]
    }
   ],
   "source": [
    "n = greet('Shreyas')"
   ]
  },
  {
   "cell_type": "code",
   "execution_count": 14,
   "id": "fa2095b3",
   "metadata": {},
   "outputs": [
    {
     "data": {
      "text/plain": [
       "NoneType"
      ]
     },
     "execution_count": 14,
     "metadata": {},
     "output_type": "execute_result"
    }
   ],
   "source": [
    "type(n)"
   ]
  },
  {
   "cell_type": "code",
   "execution_count": 15,
   "id": "6705e9f2",
   "metadata": {},
   "outputs": [],
   "source": [
    "n"
   ]
  },
  {
   "cell_type": "code",
   "execution_count": 16,
   "id": "0b5595de",
   "metadata": {},
   "outputs": [],
   "source": [
    "def rt_both(a,b):\n",
    "    print(a+b)\n",
    "    return a+b"
   ]
  },
  {
   "cell_type": "code",
   "execution_count": 18,
   "id": "1a3a63d7",
   "metadata": {},
   "outputs": [
    {
     "name": "stdout",
     "output_type": "stream",
     "text": [
      "5\n"
     ]
    }
   ],
   "source": [
    "vr = rt_both(2,3)"
   ]
  },
  {
   "cell_type": "code",
   "execution_count": 19,
   "id": "39a0ca60",
   "metadata": {},
   "outputs": [
    {
     "data": {
      "text/plain": [
       "5"
      ]
     },
     "execution_count": 19,
     "metadata": {},
     "output_type": "execute_result"
    }
   ],
   "source": [
    "vr"
   ]
  },
  {
   "cell_type": "code",
   "execution_count": 21,
   "id": "e3173ac7",
   "metadata": {},
   "outputs": [],
   "source": [
    "def check_odd(number):\n",
    "    return number % 2 != 0 "
   ]
  },
  {
   "cell_type": "code",
   "execution_count": 22,
   "id": "be6a89e1",
   "metadata": {},
   "outputs": [
    {
     "data": {
      "text/plain": [
       "True"
      ]
     },
     "execution_count": 22,
     "metadata": {},
     "output_type": "execute_result"
    }
   ],
   "source": [
    "check_odd(21)"
   ]
  },
  {
   "cell_type": "code",
   "execution_count": 23,
   "id": "c13fe8bd",
   "metadata": {},
   "outputs": [],
   "source": [
    "def check_even_list(num_list):\n",
    "    for number in num_list:\n",
    "        if number%2 == 0:\n",
    "            return True\n",
    "        else:\n",
    "            pass"
   ]
  },
  {
   "cell_type": "code",
   "execution_count": 24,
   "id": "ad617454",
   "metadata": {},
   "outputs": [
    {
     "data": {
      "text/plain": [
       "True"
      ]
     },
     "execution_count": 24,
     "metadata": {},
     "output_type": "execute_result"
    }
   ],
   "source": [
    "check_even_list([1,2,3])"
   ]
  },
  {
   "cell_type": "code",
   "execution_count": 25,
   "id": "a9d7ff0b",
   "metadata": {},
   "outputs": [],
   "source": [
    "check_even_list([1,5,3])"
   ]
  },
  {
   "cell_type": "code",
   "execution_count": 28,
   "id": "3f0ddbba",
   "metadata": {},
   "outputs": [],
   "source": [
    "#MISTAKE\n",
    "\n",
    "def check_even_list(num_list):\n",
    "    for number in num_list:\n",
    "        if number%2 == 0:\n",
    "            return True\n",
    "        else:\n",
    "            return False\n",
    "        \n",
    "#this return false at the very first odd number\n",
    "#doesn't check the other numbers in the list"
   ]
  },
  {
   "cell_type": "code",
   "execution_count": 27,
   "id": "af9acbb2",
   "metadata": {},
   "outputs": [
    {
     "data": {
      "text/plain": [
       "False"
      ]
     },
     "execution_count": 27,
     "metadata": {},
     "output_type": "execute_result"
    }
   ],
   "source": [
    "check_even_list([1,2,3])"
   ]
  },
  {
   "cell_type": "code",
   "execution_count": 29,
   "id": "0fc889da",
   "metadata": {},
   "outputs": [],
   "source": [
    "def check_even_list(num_list):\n",
    "    for number in num_list:\n",
    "        if number%2 == 0:\n",
    "            return True\n",
    "        else:\n",
    "            pass\n",
    "    return False"
   ]
  },
  {
   "cell_type": "code",
   "execution_count": 30,
   "id": "4ca460eb",
   "metadata": {},
   "outputs": [
    {
     "data": {
      "text/plain": [
       "True"
      ]
     },
     "execution_count": 30,
     "metadata": {},
     "output_type": "execute_result"
    }
   ],
   "source": [
    "check_even_list([1,2,3,4])"
   ]
  },
  {
   "cell_type": "code",
   "execution_count": 31,
   "id": "b208fe7b",
   "metadata": {},
   "outputs": [
    {
     "data": {
      "text/plain": [
       "False"
      ]
     },
     "execution_count": 31,
     "metadata": {},
     "output_type": "execute_result"
    }
   ],
   "source": [
    "check_even_list([11,13,15,19])"
   ]
  },
  {
   "cell_type": "code",
   "execution_count": 32,
   "id": "17dc72ad",
   "metadata": {},
   "outputs": [],
   "source": [
    "def check_even_list(num_list):\n",
    "    even1 = []\n",
    "    for number in num_list:\n",
    "        if number%2 == 0:\n",
    "            even1.append(number)\n",
    "        else:\n",
    "            pass\n",
    "    return even1"
   ]
  },
  {
   "cell_type": "code",
   "execution_count": 33,
   "id": "b764c962",
   "metadata": {},
   "outputs": [
    {
     "data": {
      "text/plain": [
       "[2, 4, 6, 8]"
      ]
     },
     "execution_count": 33,
     "metadata": {},
     "output_type": "execute_result"
    }
   ],
   "source": [
    "check_even_list([1,2,4,5,6,7,8])"
   ]
  },
  {
   "cell_type": "code",
   "execution_count": 37,
   "id": "d20d370a",
   "metadata": {},
   "outputs": [],
   "source": [
    "comp = [('apple',1000),('google',2000),('microsoft',1500)]"
   ]
  },
  {
   "cell_type": "code",
   "execution_count": 38,
   "id": "0d8c995c",
   "metadata": {},
   "outputs": [],
   "source": [
    "def check_hrs(comp):\n",
    "    \n",
    "    current_max = 0\n",
    "    best_company = ''\n",
    "    \n",
    "    for c,h in comp:\n",
    "        if h>current_max:\n",
    "            current_max = h\n",
    "            best_company = c\n",
    "        else:\n",
    "            pass\n",
    "    return(best_company,current_max)"
   ]
  },
  {
   "cell_type": "code",
   "execution_count": 39,
   "id": "66ccc9f8",
   "metadata": {},
   "outputs": [
    {
     "data": {
      "text/plain": [
       "('google', 2000)"
      ]
     },
     "execution_count": 39,
     "metadata": {},
     "output_type": "execute_result"
    }
   ],
   "source": [
    "check_hrs(comp)"
   ]
  },
  {
   "cell_type": "code",
   "execution_count": null,
   "id": "34d967d6",
   "metadata": {},
   "outputs": [],
   "source": []
  }
 ],
 "metadata": {
  "kernelspec": {
   "display_name": "Python 3 (ipykernel)",
   "language": "python",
   "name": "python3"
  },
  "language_info": {
   "codemirror_mode": {
    "name": "ipython",
    "version": 3
   },
   "file_extension": ".py",
   "mimetype": "text/x-python",
   "name": "python",
   "nbconvert_exporter": "python",
   "pygments_lexer": "ipython3",
   "version": "3.11.5"
  }
 },
 "nbformat": 4,
 "nbformat_minor": 5
}
