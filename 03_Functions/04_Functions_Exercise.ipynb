{
 "cells": [
  {
   "cell_type": "markdown",
   "id": "e59176ab",
   "metadata": {},
   "source": [
    "create a function that counts how many no of times the word 'machine' occurs in a string"
   ]
  },
  {
   "cell_type": "code",
   "execution_count": 5,
   "id": "9c220e31",
   "metadata": {},
   "outputs": [],
   "source": [
    "def countMachine(st):\n",
    "    count = 0\n",
    "    for x in st.lower().split():\n",
    "        if x == 'machine':\n",
    "            count += 1\n",
    "    return count"
   ]
  },
  {
   "cell_type": "code",
   "execution_count": 7,
   "id": "aaf926d9",
   "metadata": {},
   "outputs": [
    {
     "data": {
      "text/plain": [
       "3"
      ]
     },
     "execution_count": 7,
     "metadata": {},
     "output_type": "execute_result"
    }
   ],
   "source": [
    "countMachine('Machine is awesome machine I like this machine')"
   ]
  },
  {
   "cell_type": "markdown",
   "id": "81196301",
   "metadata": {},
   "source": [
    "you are overspeeding. write a function to 3 results:\n",
    "    \n",
    "    1. if <60 : 'No ticket'\n",
    "    2. if 60 < s < 81 : 'Light Ticket'\n",
    "    3. if 80 < s : 'Heavy Ticket'\n",
    "        \n",
    "condition: if it is bday, your speed can be 5 points higher in all cases"
   ]
  },
  {
   "cell_type": "code",
   "execution_count": 10,
   "id": "3495977b",
   "metadata": {},
   "outputs": [],
   "source": [
    "def ticket_type(sp, br):\n",
    "    if br:\n",
    "        speed = sp - 5\n",
    "    else:\n",
    "        speed = sp\n",
    "    \n",
    "    if speed > 80:\n",
    "        return 'Big Ticket'\n",
    "    elif speed > 60:\n",
    "        return 'Light Ticket'\n",
    "    else:\n",
    "        return 'No Ticket'"
   ]
  },
  {
   "cell_type": "code",
   "execution_count": 11,
   "id": "d1f44867",
   "metadata": {},
   "outputs": [
    {
     "data": {
      "text/plain": [
       "'No Ticket'"
      ]
     },
     "execution_count": 11,
     "metadata": {},
     "output_type": "execute_result"
    }
   ],
   "source": [
    "ticket_type(65,True)"
   ]
  },
  {
   "cell_type": "code",
   "execution_count": null,
   "id": "f8dd2acf",
   "metadata": {},
   "outputs": [],
   "source": []
  }
 ],
 "metadata": {
  "kernelspec": {
   "display_name": "Python 3 (ipykernel)",
   "language": "python",
   "name": "python3"
  },
  "language_info": {
   "codemirror_mode": {
    "name": "ipython",
    "version": 3
   },
   "file_extension": ".py",
   "mimetype": "text/x-python",
   "name": "python",
   "nbconvert_exporter": "python",
   "pygments_lexer": "ipython3",
   "version": "3.11.5"
  }
 },
 "nbformat": 4,
 "nbformat_minor": 5
}
