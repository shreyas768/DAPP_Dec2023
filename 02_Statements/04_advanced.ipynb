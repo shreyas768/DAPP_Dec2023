{
 "cells": [
  {
   "cell_type": "markdown",
   "id": "bd104182",
   "metadata": {},
   "source": [
    "# Numbers"
   ]
  },
  {
   "cell_type": "code",
   "execution_count": 1,
   "id": "e7d11b8d",
   "metadata": {},
   "outputs": [
    {
     "data": {
      "text/plain": [
       "'0x22'"
      ]
     },
     "execution_count": 1,
     "metadata": {},
     "output_type": "execute_result"
    }
   ],
   "source": [
    "#hexadecimal\n",
    "\n",
    "hex(34)"
   ]
  },
  {
   "cell_type": "code",
   "execution_count": 2,
   "id": "2678da43",
   "metadata": {},
   "outputs": [
    {
     "data": {
      "text/plain": [
       "'0b10'"
      ]
     },
     "execution_count": 2,
     "metadata": {},
     "output_type": "execute_result"
    }
   ],
   "source": [
    "#binary\n",
    "bin(2)"
   ]
  },
  {
   "cell_type": "code",
   "execution_count": 3,
   "id": "3f23fbee",
   "metadata": {},
   "outputs": [
    {
     "data": {
      "text/plain": [
       "'0b101100010110010110000'"
      ]
     },
     "execution_count": 3,
     "metadata": {},
     "output_type": "execute_result"
    }
   ],
   "source": [
    "bin(1453232)"
   ]
  },
  {
   "cell_type": "code",
   "execution_count": 4,
   "id": "ba8d912d",
   "metadata": {},
   "outputs": [
    {
     "data": {
      "text/plain": [
       "'0b11'"
      ]
     },
     "execution_count": 4,
     "metadata": {},
     "output_type": "execute_result"
    }
   ],
   "source": [
    "bin(3)"
   ]
  },
  {
   "cell_type": "code",
   "execution_count": 5,
   "id": "f3283664",
   "metadata": {},
   "outputs": [
    {
     "data": {
      "text/plain": [
       "27"
      ]
     },
     "execution_count": 5,
     "metadata": {},
     "output_type": "execute_result"
    }
   ],
   "source": [
    "#Exponentials\n",
    "pow(3,3)"
   ]
  },
  {
   "cell_type": "code",
   "execution_count": 6,
   "id": "38e7c5ce",
   "metadata": {},
   "outputs": [
    {
     "data": {
      "text/plain": [
       "3.14"
      ]
     },
     "execution_count": 6,
     "metadata": {},
     "output_type": "execute_result"
    }
   ],
   "source": [
    "#absolute\n",
    "abs(-3.14)"
   ]
  },
  {
   "cell_type": "code",
   "execution_count": 7,
   "id": "38b3a648",
   "metadata": {},
   "outputs": [
    {
     "data": {
      "text/plain": [
       "400"
      ]
     },
     "execution_count": 7,
     "metadata": {},
     "output_type": "execute_result"
    }
   ],
   "source": [
    "#round\n",
    "round(389,-2)"
   ]
  },
  {
   "cell_type": "code",
   "execution_count": 9,
   "id": "0f48ba66",
   "metadata": {},
   "outputs": [
    {
     "data": {
      "text/plain": [
       "390"
      ]
     },
     "execution_count": 9,
     "metadata": {},
     "output_type": "execute_result"
    }
   ],
   "source": [
    "round(389,-1)"
   ]
  },
  {
   "cell_type": "code",
   "execution_count": 18,
   "id": "7369859c",
   "metadata": {},
   "outputs": [
    {
     "data": {
      "text/plain": [
       "1.762"
      ]
     },
     "execution_count": 18,
     "metadata": {},
     "output_type": "execute_result"
    }
   ],
   "source": [
    "round(17**(0.2),3)"
   ]
  },
  {
   "cell_type": "markdown",
   "id": "e4ed9889",
   "metadata": {},
   "source": [
    "# Strings"
   ]
  },
  {
   "cell_type": "code",
   "execution_count": 19,
   "id": "febe0804",
   "metadata": {},
   "outputs": [],
   "source": [
    "s = 'hello world'"
   ]
  },
  {
   "cell_type": "code",
   "execution_count": 20,
   "id": "dfd334f1",
   "metadata": {},
   "outputs": [
    {
     "data": {
      "text/plain": [
       "'Hello world'"
      ]
     },
     "execution_count": 20,
     "metadata": {},
     "output_type": "execute_result"
    }
   ],
   "source": [
    "s.capitalize()"
   ]
  },
  {
   "cell_type": "code",
   "execution_count": 21,
   "id": "407d3555",
   "metadata": {},
   "outputs": [
    {
     "data": {
      "text/plain": [
       "3"
      ]
     },
     "execution_count": 21,
     "metadata": {},
     "output_type": "execute_result"
    }
   ],
   "source": [
    "s.count('l') #gives number of occurences"
   ]
  },
  {
   "cell_type": "code",
   "execution_count": 23,
   "id": "e2697b62",
   "metadata": {},
   "outputs": [
    {
     "data": {
      "text/plain": [
       "6"
      ]
     },
     "execution_count": 23,
     "metadata": {},
     "output_type": "execute_result"
    }
   ],
   "source": [
    "s.find('wor')"
   ]
  },
  {
   "cell_type": "code",
   "execution_count": 24,
   "id": "1e75cdb7",
   "metadata": {},
   "outputs": [
    {
     "data": {
      "text/plain": [
       "True"
      ]
     },
     "execution_count": 24,
     "metadata": {},
     "output_type": "execute_result"
    }
   ],
   "source": [
    "s.islower()"
   ]
  },
  {
   "cell_type": "code",
   "execution_count": 25,
   "id": "0a5f54c1",
   "metadata": {},
   "outputs": [
    {
     "data": {
      "text/plain": [
       "False"
      ]
     },
     "execution_count": 25,
     "metadata": {},
     "output_type": "execute_result"
    }
   ],
   "source": [
    "s.isupper()"
   ]
  },
  {
   "cell_type": "code",
   "execution_count": 26,
   "id": "ca993284",
   "metadata": {},
   "outputs": [
    {
     "data": {
      "text/plain": [
       "False"
      ]
     },
     "execution_count": 26,
     "metadata": {},
     "output_type": "execute_result"
    }
   ],
   "source": [
    "s.endswith('o')"
   ]
  },
  {
   "cell_type": "code",
   "execution_count": 27,
   "id": "0887269e",
   "metadata": {},
   "outputs": [
    {
     "data": {
      "text/plain": [
       "['hello ', 'rld']"
      ]
     },
     "execution_count": 27,
     "metadata": {},
     "output_type": "execute_result"
    }
   ],
   "source": [
    "s.split('wo')"
   ]
  },
  {
   "cell_type": "code",
   "execution_count": 29,
   "id": "caf0d58c",
   "metadata": {},
   "outputs": [
    {
     "data": {
      "text/plain": [
       "('hel', 'lo w', 'orld')"
      ]
     },
     "execution_count": 29,
     "metadata": {},
     "output_type": "execute_result"
    }
   ],
   "source": [
    "s.partition('lo w')"
   ]
  },
  {
   "cell_type": "markdown",
   "id": "326d7783",
   "metadata": {},
   "source": [
    "# Sets"
   ]
  },
  {
   "cell_type": "code",
   "execution_count": 30,
   "id": "fcdd16a7",
   "metadata": {},
   "outputs": [],
   "source": [
    "s = set()"
   ]
  },
  {
   "cell_type": "code",
   "execution_count": 31,
   "id": "9bebb1c3",
   "metadata": {},
   "outputs": [],
   "source": [
    "s.add(1)"
   ]
  },
  {
   "cell_type": "code",
   "execution_count": 32,
   "id": "80302ded",
   "metadata": {},
   "outputs": [],
   "source": [
    "s.add(3)"
   ]
  },
  {
   "cell_type": "code",
   "execution_count": 33,
   "id": "0f7baa62",
   "metadata": {},
   "outputs": [
    {
     "data": {
      "text/plain": [
       "{1, 3}"
      ]
     },
     "execution_count": 33,
     "metadata": {},
     "output_type": "execute_result"
    }
   ],
   "source": [
    "s"
   ]
  },
  {
   "cell_type": "code",
   "execution_count": 34,
   "id": "1031251b",
   "metadata": {},
   "outputs": [],
   "source": [
    "s.clear()"
   ]
  },
  {
   "cell_type": "code",
   "execution_count": 35,
   "id": "6d8f2c3d",
   "metadata": {},
   "outputs": [
    {
     "data": {
      "text/plain": [
       "set()"
      ]
     },
     "execution_count": 35,
     "metadata": {},
     "output_type": "execute_result"
    }
   ],
   "source": [
    "s"
   ]
  },
  {
   "cell_type": "code",
   "execution_count": 36,
   "id": "b3fd95cb",
   "metadata": {},
   "outputs": [],
   "source": [
    "s = {1,2,3}"
   ]
  },
  {
   "cell_type": "code",
   "execution_count": 37,
   "id": "5649bdf7",
   "metadata": {},
   "outputs": [],
   "source": [
    "st = s.copy()"
   ]
  },
  {
   "cell_type": "code",
   "execution_count": 38,
   "id": "9444666f",
   "metadata": {},
   "outputs": [
    {
     "data": {
      "text/plain": [
       "{1, 2, 3}"
      ]
     },
     "execution_count": 38,
     "metadata": {},
     "output_type": "execute_result"
    }
   ],
   "source": [
    "st"
   ]
  },
  {
   "cell_type": "code",
   "execution_count": 39,
   "id": "207e8f52",
   "metadata": {},
   "outputs": [],
   "source": [
    "s.add(4)"
   ]
  },
  {
   "cell_type": "code",
   "execution_count": 40,
   "id": "c20ef054",
   "metadata": {},
   "outputs": [
    {
     "data": {
      "text/plain": [
       "{1, 2, 3, 4}"
      ]
     },
     "execution_count": 40,
     "metadata": {},
     "output_type": "execute_result"
    }
   ],
   "source": [
    "s"
   ]
  },
  {
   "cell_type": "code",
   "execution_count": 41,
   "id": "2e53cfad",
   "metadata": {},
   "outputs": [
    {
     "data": {
      "text/plain": [
       "{1, 2, 3}"
      ]
     },
     "execution_count": 41,
     "metadata": {},
     "output_type": "execute_result"
    }
   ],
   "source": [
    "st"
   ]
  },
  {
   "cell_type": "code",
   "execution_count": 42,
   "id": "9a42571f",
   "metadata": {},
   "outputs": [
    {
     "data": {
      "text/plain": [
       "{4}"
      ]
     },
     "execution_count": 42,
     "metadata": {},
     "output_type": "execute_result"
    }
   ],
   "source": [
    "s.difference(st)"
   ]
  },
  {
   "cell_type": "code",
   "execution_count": 43,
   "id": "316f3a8f",
   "metadata": {},
   "outputs": [
    {
     "data": {
      "text/plain": [
       "{1, 2, 3, 4}"
      ]
     },
     "execution_count": 43,
     "metadata": {},
     "output_type": "execute_result"
    }
   ],
   "source": [
    "s"
   ]
  },
  {
   "cell_type": "code",
   "execution_count": 44,
   "id": "a84f83a3",
   "metadata": {},
   "outputs": [
    {
     "data": {
      "text/plain": [
       "{1, 2, 3}"
      ]
     },
     "execution_count": 44,
     "metadata": {},
     "output_type": "execute_result"
    }
   ],
   "source": [
    "st"
   ]
  },
  {
   "cell_type": "code",
   "execution_count": 45,
   "id": "3986697e",
   "metadata": {},
   "outputs": [],
   "source": [
    "s.difference_update(st)"
   ]
  },
  {
   "cell_type": "code",
   "execution_count": 46,
   "id": "97bdfb15",
   "metadata": {},
   "outputs": [
    {
     "data": {
      "text/plain": [
       "{4}"
      ]
     },
     "execution_count": 46,
     "metadata": {},
     "output_type": "execute_result"
    }
   ],
   "source": [
    "s"
   ]
  },
  {
   "cell_type": "code",
   "execution_count": 47,
   "id": "f095b581",
   "metadata": {},
   "outputs": [
    {
     "data": {
      "text/plain": [
       "{1, 2, 3}"
      ]
     },
     "execution_count": 47,
     "metadata": {},
     "output_type": "execute_result"
    }
   ],
   "source": [
    "st"
   ]
  },
  {
   "cell_type": "code",
   "execution_count": 48,
   "id": "e113c3ce",
   "metadata": {},
   "outputs": [],
   "source": [
    "st.discard(2)"
   ]
  },
  {
   "cell_type": "code",
   "execution_count": 49,
   "id": "f13dff48",
   "metadata": {},
   "outputs": [
    {
     "data": {
      "text/plain": [
       "{1, 3}"
      ]
     },
     "execution_count": 49,
     "metadata": {},
     "output_type": "execute_result"
    }
   ],
   "source": [
    "st"
   ]
  },
  {
   "cell_type": "code",
   "execution_count": 50,
   "id": "c84a0f1c",
   "metadata": {},
   "outputs": [],
   "source": [
    "s1 = {1,2,3}\n",
    "s2 = {1,2,5}"
   ]
  },
  {
   "cell_type": "code",
   "execution_count": 51,
   "id": "54279f88",
   "metadata": {},
   "outputs": [
    {
     "data": {
      "text/plain": [
       "{1, 2}"
      ]
     },
     "execution_count": 51,
     "metadata": {},
     "output_type": "execute_result"
    }
   ],
   "source": [
    "s1.intersection(s2)"
   ]
  },
  {
   "cell_type": "code",
   "execution_count": 52,
   "id": "0adbd638",
   "metadata": {},
   "outputs": [],
   "source": [
    "s1.intersection_update(s2)"
   ]
  },
  {
   "cell_type": "code",
   "execution_count": 53,
   "id": "acc5ab28",
   "metadata": {},
   "outputs": [
    {
     "data": {
      "text/plain": [
       "{1, 2}"
      ]
     },
     "execution_count": 53,
     "metadata": {},
     "output_type": "execute_result"
    }
   ],
   "source": [
    "s1"
   ]
  },
  {
   "cell_type": "code",
   "execution_count": 54,
   "id": "913c04ea",
   "metadata": {},
   "outputs": [
    {
     "data": {
      "text/plain": [
       "{1, 2, 5}"
      ]
     },
     "execution_count": 54,
     "metadata": {},
     "output_type": "execute_result"
    }
   ],
   "source": [
    "s2"
   ]
  },
  {
   "cell_type": "code",
   "execution_count": 56,
   "id": "16a7b3e1",
   "metadata": {},
   "outputs": [],
   "source": [
    "s3 = {5}"
   ]
  },
  {
   "cell_type": "code",
   "execution_count": 57,
   "id": "c37380e9",
   "metadata": {},
   "outputs": [
    {
     "data": {
      "text/plain": [
       "True"
      ]
     },
     "execution_count": 57,
     "metadata": {},
     "output_type": "execute_result"
    }
   ],
   "source": [
    "s1.isdisjoint(s3)"
   ]
  },
  {
   "cell_type": "code",
   "execution_count": 58,
   "id": "c0e2e1ae",
   "metadata": {},
   "outputs": [
    {
     "data": {
      "text/plain": [
       "False"
      ]
     },
     "execution_count": 58,
     "metadata": {},
     "output_type": "execute_result"
    }
   ],
   "source": [
    "s1.isdisjoint(s2)"
   ]
  },
  {
   "cell_type": "code",
   "execution_count": 59,
   "id": "ee58bfed",
   "metadata": {},
   "outputs": [
    {
     "data": {
      "text/plain": [
       "True"
      ]
     },
     "execution_count": 59,
     "metadata": {},
     "output_type": "execute_result"
    }
   ],
   "source": [
    "s1.issubset(s2)"
   ]
  },
  {
   "cell_type": "code",
   "execution_count": 61,
   "id": "ad7d417d",
   "metadata": {},
   "outputs": [
    {
     "data": {
      "text/plain": [
       "False"
      ]
     },
     "execution_count": 61,
     "metadata": {},
     "output_type": "execute_result"
    }
   ],
   "source": [
    "s3.issubset(s1)"
   ]
  },
  {
   "cell_type": "code",
   "execution_count": 62,
   "id": "ffddf78c",
   "metadata": {},
   "outputs": [
    {
     "data": {
      "text/plain": [
       "True"
      ]
     },
     "execution_count": 62,
     "metadata": {},
     "output_type": "execute_result"
    }
   ],
   "source": [
    "s2.issuperset(s1)"
   ]
  },
  {
   "cell_type": "markdown",
   "id": "c88615af",
   "metadata": {},
   "source": [
    "# Lists"
   ]
  },
  {
   "cell_type": "code",
   "execution_count": 73,
   "id": "85959cee",
   "metadata": {},
   "outputs": [],
   "source": [
    "lst1 = [1,2,3,1]\n",
    "lst2 = [1,2,3,1]"
   ]
  },
  {
   "cell_type": "code",
   "execution_count": 66,
   "id": "fe32e49c",
   "metadata": {},
   "outputs": [
    {
     "data": {
      "text/plain": [
       "0"
      ]
     },
     "execution_count": 66,
     "metadata": {},
     "output_type": "execute_result"
    }
   ],
   "source": [
    "lst1.count(10)"
   ]
  },
  {
   "cell_type": "code",
   "execution_count": 67,
   "id": "9c1ec563",
   "metadata": {},
   "outputs": [
    {
     "data": {
      "text/plain": [
       "2"
      ]
     },
     "execution_count": 67,
     "metadata": {},
     "output_type": "execute_result"
    }
   ],
   "source": [
    "lst1.count(1)"
   ]
  },
  {
   "cell_type": "code",
   "execution_count": 74,
   "id": "74d6bfb8",
   "metadata": {},
   "outputs": [],
   "source": [
    "lst1.append([4,5])"
   ]
  },
  {
   "cell_type": "code",
   "execution_count": 75,
   "id": "a677e1d9",
   "metadata": {},
   "outputs": [
    {
     "data": {
      "text/plain": [
       "[1, 2, 3, 1, [4, 5]]"
      ]
     },
     "execution_count": 75,
     "metadata": {},
     "output_type": "execute_result"
    }
   ],
   "source": [
    "lst1"
   ]
  },
  {
   "cell_type": "code",
   "execution_count": 76,
   "id": "3fe2b3dd",
   "metadata": {},
   "outputs": [],
   "source": [
    "lst2.extend([4,5])"
   ]
  },
  {
   "cell_type": "code",
   "execution_count": 77,
   "id": "c585dc68",
   "metadata": {},
   "outputs": [
    {
     "data": {
      "text/plain": [
       "[1, 2, 3, 1, 4, 5]"
      ]
     },
     "execution_count": 77,
     "metadata": {},
     "output_type": "execute_result"
    }
   ],
   "source": [
    "lst2"
   ]
  },
  {
   "cell_type": "code",
   "execution_count": 78,
   "id": "a838e313",
   "metadata": {},
   "outputs": [
    {
     "data": {
      "text/plain": [
       "4"
      ]
     },
     "execution_count": 78,
     "metadata": {},
     "output_type": "execute_result"
    }
   ],
   "source": [
    "lst1.index([4,5])"
   ]
  },
  {
   "cell_type": "code",
   "execution_count": 82,
   "id": "8e24ab96",
   "metadata": {},
   "outputs": [
    {
     "data": {
      "text/plain": [
       "2"
      ]
     },
     "execution_count": 82,
     "metadata": {},
     "output_type": "execute_result"
    }
   ],
   "source": [
    "lst2.index(3)"
   ]
  },
  {
   "cell_type": "code",
   "execution_count": 86,
   "id": "3f1cacc7",
   "metadata": {},
   "outputs": [],
   "source": [
    "lst2.extend(list(range(7,12)))"
   ]
  },
  {
   "cell_type": "code",
   "execution_count": 87,
   "id": "7fab2047",
   "metadata": {},
   "outputs": [
    {
     "data": {
      "text/plain": [
       "[1, 2, 3, 1, 4, 5, 7, 8, 9, 10, 11]"
      ]
     },
     "execution_count": 87,
     "metadata": {},
     "output_type": "execute_result"
    }
   ],
   "source": [
    "lst2"
   ]
  },
  {
   "cell_type": "code",
   "execution_count": 88,
   "id": "21da484c",
   "metadata": {},
   "outputs": [
    {
     "data": {
      "text/plain": [
       "[1, 2, 3, 1, [4, 5]]"
      ]
     },
     "execution_count": 88,
     "metadata": {},
     "output_type": "execute_result"
    }
   ],
   "source": [
    "lst1"
   ]
  },
  {
   "cell_type": "code",
   "execution_count": 91,
   "id": "9af6509e",
   "metadata": {},
   "outputs": [],
   "source": [
    "lst1.insert(0,'this is inserted')"
   ]
  },
  {
   "cell_type": "code",
   "execution_count": 93,
   "id": "2535adac",
   "metadata": {},
   "outputs": [
    {
     "data": {
      "text/plain": [
       "['this is inserted', 1, 2, 3, 1, 'this is inserted', [4, 5]]"
      ]
     },
     "execution_count": 93,
     "metadata": {},
     "output_type": "execute_result"
    }
   ],
   "source": [
    "lst1"
   ]
  },
  {
   "cell_type": "code",
   "execution_count": 94,
   "id": "dd7854b8",
   "metadata": {},
   "outputs": [],
   "source": [
    "lst1.reverse()"
   ]
  },
  {
   "cell_type": "code",
   "execution_count": 95,
   "id": "e0787153",
   "metadata": {},
   "outputs": [
    {
     "data": {
      "text/plain": [
       "[[4, 5], 'this is inserted', 1, 3, 2, 1, 'this is inserted']"
      ]
     },
     "execution_count": 95,
     "metadata": {},
     "output_type": "execute_result"
    }
   ],
   "source": [
    "lst1"
   ]
  },
  {
   "cell_type": "code",
   "execution_count": 96,
   "id": "3880eef0",
   "metadata": {},
   "outputs": [
    {
     "data": {
      "text/plain": [
       "[1, 2, 3, 1, 4, 5, 7, 8, 9, 10, 11]"
      ]
     },
     "execution_count": 96,
     "metadata": {},
     "output_type": "execute_result"
    }
   ],
   "source": [
    "lst2"
   ]
  },
  {
   "cell_type": "code",
   "execution_count": 98,
   "id": "3fa12dde",
   "metadata": {},
   "outputs": [],
   "source": [
    "lst2.sort()"
   ]
  },
  {
   "cell_type": "code",
   "execution_count": 99,
   "id": "54ba6944",
   "metadata": {},
   "outputs": [
    {
     "data": {
      "text/plain": [
       "[1, 1, 2, 3, 4, 5, 7, 8, 9, 10, 11]"
      ]
     },
     "execution_count": 99,
     "metadata": {},
     "output_type": "execute_result"
    }
   ],
   "source": [
    "lst2"
   ]
  },
  {
   "cell_type": "code",
   "execution_count": 100,
   "id": "f8cec6c2",
   "metadata": {},
   "outputs": [],
   "source": [
    "lst2.sort(reverse=True)"
   ]
  },
  {
   "cell_type": "code",
   "execution_count": 101,
   "id": "3f25495f",
   "metadata": {},
   "outputs": [
    {
     "data": {
      "text/plain": [
       "[11, 10, 9, 8, 7, 5, 4, 3, 2, 1, 1]"
      ]
     },
     "execution_count": 101,
     "metadata": {},
     "output_type": "execute_result"
    }
   ],
   "source": [
    "lst2"
   ]
  },
  {
   "cell_type": "code",
   "execution_count": 102,
   "id": "8dfe1f35",
   "metadata": {},
   "outputs": [],
   "source": [
    "x = [1,2,3]"
   ]
  },
  {
   "cell_type": "code",
   "execution_count": 103,
   "id": "f3a496cf",
   "metadata": {},
   "outputs": [],
   "source": [
    "y = x.append(4)"
   ]
  },
  {
   "cell_type": "code",
   "execution_count": 105,
   "id": "ff3bb062",
   "metadata": {},
   "outputs": [
    {
     "data": {
      "text/plain": [
       "NoneType"
      ]
     },
     "execution_count": 105,
     "metadata": {},
     "output_type": "execute_result"
    }
   ],
   "source": [
    "type(y)"
   ]
  },
  {
   "cell_type": "code",
   "execution_count": 106,
   "id": "8b97f19f",
   "metadata": {},
   "outputs": [
    {
     "data": {
      "text/plain": [
       "[1, 2, 3, 4]"
      ]
     },
     "execution_count": 106,
     "metadata": {},
     "output_type": "execute_result"
    }
   ],
   "source": [
    "x"
   ]
  },
  {
   "cell_type": "markdown",
   "id": "83c00cac",
   "metadata": {},
   "source": [
    "# Useful Operator"
   ]
  },
  {
   "cell_type": "code",
   "execution_count": 109,
   "id": "ad59666e",
   "metadata": {},
   "outputs": [
    {
     "name": "stdout",
     "output_type": "stream",
     "text": [
      "At index 0 the letter is a\n",
      "At index 1 the letter is b\n",
      "At index 2 the letter is c\n",
      "At index 3 the letter is d\n",
      "At index 4 the letter is e\n"
     ]
    }
   ],
   "source": [
    "# Enumerate\n",
    "\n",
    "count = 0 \n",
    "\n",
    "for l in 'abcde':\n",
    "    print('At index {} the letter is {}'.format(count,l))\n",
    "    count += 1"
   ]
  },
  {
   "cell_type": "code",
   "execution_count": 110,
   "id": "80f717dc",
   "metadata": {},
   "outputs": [
    {
     "name": "stdout",
     "output_type": "stream",
     "text": [
      "At index 0 the letter is a\n",
      "At index 1 the letter is b\n",
      "At index 2 the letter is c\n",
      "At index 3 the letter is d\n",
      "At index 4 the letter is e\n"
     ]
    }
   ],
   "source": [
    "for i,l in enumerate('abcde'):\n",
    "    print('At index {} the letter is {}'.format(i,l))"
   ]
  },
  {
   "cell_type": "code",
   "execution_count": 112,
   "id": "8a4869f5",
   "metadata": {},
   "outputs": [
    {
     "data": {
      "text/plain": [
       "[(0, 'h'), (1, 'e'), (2, 'l'), (3, 'l'), (4, 'o')]"
      ]
     },
     "execution_count": 112,
     "metadata": {},
     "output_type": "execute_result"
    }
   ],
   "source": [
    "list(enumerate('hello'))"
   ]
  },
  {
   "cell_type": "code",
   "execution_count": 113,
   "id": "1e44b12a",
   "metadata": {},
   "outputs": [],
   "source": [
    "lsta = [1,2,3,4,5]\n",
    "lstb = ['a','b','c','d','e']"
   ]
  },
  {
   "cell_type": "code",
   "execution_count": 114,
   "id": "07c2c0ed",
   "metadata": {},
   "outputs": [
    {
     "data": {
      "text/plain": [
       "<zip at 0x24977340540>"
      ]
     },
     "execution_count": 114,
     "metadata": {},
     "output_type": "execute_result"
    }
   ],
   "source": [
    "zip(lsta,lstb)"
   ]
  },
  {
   "cell_type": "code",
   "execution_count": 115,
   "id": "5f7ddd81",
   "metadata": {},
   "outputs": [
    {
     "data": {
      "text/plain": [
       "[(1, 'a'), (2, 'b'), (3, 'c'), (4, 'd'), (5, 'e')]"
      ]
     },
     "execution_count": 115,
     "metadata": {},
     "output_type": "execute_result"
    }
   ],
   "source": [
    "list(zip(lsta,lstb))"
   ]
  },
  {
   "cell_type": "code",
   "execution_count": 116,
   "id": "be98fa3c",
   "metadata": {},
   "outputs": [
    {
     "name": "stdout",
     "output_type": "stream",
     "text": [
      "For this tuple, first item was 1 and second item was a\n",
      "For this tuple, first item was 2 and second item was b\n",
      "For this tuple, first item was 3 and second item was c\n",
      "For this tuple, first item was 4 and second item was d\n",
      "For this tuple, first item was 5 and second item was e\n"
     ]
    }
   ],
   "source": [
    "for x,y in zip(lsta,lstb):\n",
    "    print('For this tuple, first item was {} and second item was {}'.format(x,y))"
   ]
  },
  {
   "cell_type": "code",
   "execution_count": 117,
   "id": "347119f9",
   "metadata": {},
   "outputs": [
    {
     "data": {
      "text/plain": [
       "True"
      ]
     },
     "execution_count": 117,
     "metadata": {},
     "output_type": "execute_result"
    }
   ],
   "source": [
    "#in operator\n",
    "'a' in ['a','hi','welcome']"
   ]
  },
  {
   "cell_type": "code",
   "execution_count": 118,
   "id": "2dbad837",
   "metadata": {},
   "outputs": [
    {
     "data": {
      "text/plain": [
       "False"
      ]
     },
     "execution_count": 118,
     "metadata": {},
     "output_type": "execute_result"
    }
   ],
   "source": [
    "'a' in [1,2,3]"
   ]
  },
  {
   "cell_type": "code",
   "execution_count": 119,
   "id": "a0d5add1",
   "metadata": {},
   "outputs": [
    {
     "data": {
      "text/plain": [
       "False"
      ]
     },
     "execution_count": 119,
     "metadata": {},
     "output_type": "execute_result"
    }
   ],
   "source": [
    "#not in\n",
    "'a' not in ['a','hi','welcome']"
   ]
  },
  {
   "cell_type": "code",
   "execution_count": 120,
   "id": "abbd9000",
   "metadata": {},
   "outputs": [
    {
     "data": {
      "text/plain": [
       "True"
      ]
     },
     "execution_count": 120,
     "metadata": {},
     "output_type": "execute_result"
    }
   ],
   "source": [
    "'a' not in [1,2,3]"
   ]
  },
  {
   "cell_type": "code",
   "execution_count": 121,
   "id": "450663dd",
   "metadata": {},
   "outputs": [
    {
     "data": {
      "text/plain": [
       "[1, 2, 3, 4, 5]"
      ]
     },
     "execution_count": 121,
     "metadata": {},
     "output_type": "execute_result"
    }
   ],
   "source": [
    "lsta"
   ]
  },
  {
   "cell_type": "code",
   "execution_count": 122,
   "id": "f0e6e7a3",
   "metadata": {},
   "outputs": [
    {
     "data": {
      "text/plain": [
       "1"
      ]
     },
     "execution_count": 122,
     "metadata": {},
     "output_type": "execute_result"
    }
   ],
   "source": [
    "min(lsta)"
   ]
  },
  {
   "cell_type": "code",
   "execution_count": 123,
   "id": "d7f2ff03",
   "metadata": {},
   "outputs": [
    {
     "data": {
      "text/plain": [
       "5"
      ]
     },
     "execution_count": 123,
     "metadata": {},
     "output_type": "execute_result"
    }
   ],
   "source": [
    "max(lsta)"
   ]
  },
  {
   "cell_type": "markdown",
   "id": "0efe6798",
   "metadata": {},
   "source": [
    "# Random\n",
    "\n",
    "\n",
    "Built in library. "
   ]
  },
  {
   "cell_type": "code",
   "execution_count": 124,
   "id": "f464a98d",
   "metadata": {},
   "outputs": [],
   "source": [
    "from random import shuffle"
   ]
  },
  {
   "cell_type": "code",
   "execution_count": 131,
   "id": "9f0e42a0",
   "metadata": {},
   "outputs": [
    {
     "data": {
      "text/plain": [
       "[1, 11, 4, 9, 8, 1, 5, 7, 3, 10, 2]"
      ]
     },
     "execution_count": 131,
     "metadata": {},
     "output_type": "execute_result"
    }
   ],
   "source": [
    "lst2"
   ]
  },
  {
   "cell_type": "code",
   "execution_count": 132,
   "id": "b312083c",
   "metadata": {},
   "outputs": [
    {
     "data": {
      "text/plain": [
       "[1, 7, 4, 9, 11, 3, 5, 10, 8, 2, 1]"
      ]
     },
     "execution_count": 132,
     "metadata": {},
     "output_type": "execute_result"
    }
   ],
   "source": [
    "shuffle(lst2)\n",
    "lst2"
   ]
  },
  {
   "cell_type": "code",
   "execution_count": 133,
   "id": "57c8c425",
   "metadata": {},
   "outputs": [],
   "source": [
    "from random import randint"
   ]
  },
  {
   "cell_type": "code",
   "execution_count": 143,
   "id": "c2c29dd3",
   "metadata": {},
   "outputs": [
    {
     "data": {
      "text/plain": [
       "96"
      ]
     },
     "execution_count": 143,
     "metadata": {},
     "output_type": "execute_result"
    }
   ],
   "source": [
    "randint(0,100)  #returns random integer in range (a,b) including both end points"
   ]
  },
  {
   "cell_type": "markdown",
   "id": "d4d16dc1",
   "metadata": {},
   "source": [
    "# List comprehensions"
   ]
  },
  {
   "cell_type": "code",
   "execution_count": 145,
   "id": "7dbe5975",
   "metadata": {},
   "outputs": [
    {
     "data": {
      "text/plain": [
       "[0, 1, 4, 9, 16, 25, 36, 49, 64, 81, 100]"
      ]
     },
     "execution_count": 145,
     "metadata": {},
     "output_type": "execute_result"
    }
   ],
   "source": [
    "[x**2 for x in range(0,11)]"
   ]
  },
  {
   "cell_type": "code",
   "execution_count": 146,
   "id": "ad25543c",
   "metadata": {},
   "outputs": [],
   "source": [
    "# return even numubers in above list\n",
    "#conver celsius [0,10,20.1,34.9] to fahrenheit\n",
    "#create any nested list comprehensions"
   ]
  },
  {
   "cell_type": "code",
   "execution_count": 2,
   "id": "64ab5058",
   "metadata": {},
   "outputs": [
    {
     "name": "stdout",
     "output_type": "stream",
     "text": [
      "[0, 2, 4, 6, 8, 10]\n"
     ]
    }
   ],
   "source": [
    "y = [i for i in list(range(0,11)) if i%2 == 0]\n",
    "print(y)"
   ]
  },
  {
   "cell_type": "code",
   "execution_count": 3,
   "id": "26b0edf7",
   "metadata": {},
   "outputs": [
    {
     "name": "stdout",
     "output_type": "stream",
     "text": [
      "0 degree centigrade is equal to 32.0 degrees farenheit\n",
      "10 degree centigrade is equal to 50.0 degrees farenheit\n",
      "20.1 degree centigrade is equal to 68.18 degrees farenheit\n",
      "34.9 degree centigrade is equal to 94.82 degrees farenheit\n"
     ]
    }
   ],
   "source": [
    "C= [0,10,20.1,34.9] \n",
    "for X in C:\n",
    "        f= (X*1.8)+32\n",
    "        print('{} degree centigrade is equal to {} degrees farenheit'.format(X,f))"
   ]
  },
  {
   "cell_type": "code",
   "execution_count": 4,
   "id": "ac835e43",
   "metadata": {},
   "outputs": [
    {
     "data": {
      "text/plain": [
       "[32.0, 50.0, 68.18, 94.82]"
      ]
     },
     "execution_count": 4,
     "metadata": {},
     "output_type": "execute_result"
    }
   ],
   "source": [
    "cel = [0,10,20.1,34.9]\n",
    "[(1.8*i+32) for i in cel]"
   ]
  },
  {
   "cell_type": "code",
   "execution_count": 9,
   "id": "d735b891",
   "metadata": {},
   "outputs": [],
   "source": [
    "aa = [str(z) for z in [y/2 for y in [x**2 for x in range(0,5)]]]"
   ]
  },
  {
   "cell_type": "code",
   "execution_count": 10,
   "id": "0b72552e",
   "metadata": {},
   "outputs": [
    {
     "data": {
      "text/plain": [
       "['0.0', '0.5', '2.0', '4.5', '8.0']"
      ]
     },
     "execution_count": 10,
     "metadata": {},
     "output_type": "execute_result"
    }
   ],
   "source": [
    "aa"
   ]
  },
  {
   "cell_type": "code",
   "execution_count": null,
   "id": "d49e77b2",
   "metadata": {},
   "outputs": [],
   "source": []
  }
 ],
 "metadata": {
  "kernelspec": {
   "display_name": "Python 3 (ipykernel)",
   "language": "python",
   "name": "python3"
  },
  "language_info": {
   "codemirror_mode": {
    "name": "ipython",
    "version": 3
   },
   "file_extension": ".py",
   "mimetype": "text/x-python",
   "name": "python",
   "nbconvert_exporter": "python",
   "pygments_lexer": "ipython3",
   "version": "3.11.5"
  }
 },
 "nbformat": 4,
 "nbformat_minor": 5
}
