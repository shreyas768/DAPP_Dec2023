{
 "cells": [
  {
   "cell_type": "code",
   "execution_count": 1,
   "id": "8c55a683",
   "metadata": {},
   "outputs": [
    {
     "name": "stdout",
     "output_type": "stream",
     "text": [
      "It was true\n"
     ]
    }
   ],
   "source": [
    "if True:\n",
    "    print('It was true')"
   ]
  },
  {
   "cell_type": "code",
   "execution_count": 2,
   "id": "1f975c79",
   "metadata": {},
   "outputs": [
    {
     "name": "stdout",
     "output_type": "stream",
     "text": [
      "x was true\n"
     ]
    }
   ],
   "source": [
    "x = True\n",
    "if x:\n",
    "    print('x was true')"
   ]
  },
  {
   "cell_type": "code",
   "execution_count": 3,
   "id": "23bb872f",
   "metadata": {},
   "outputs": [
    {
     "name": "stdout",
     "output_type": "stream",
     "text": [
      "this was a result of else statement\n"
     ]
    }
   ],
   "source": [
    "x = False\n",
    "\n",
    "if x:\n",
    "    print('x was true')\n",
    "else:\n",
    "    print('this was a result of else statement')"
   ]
  },
  {
   "cell_type": "code",
   "execution_count": 4,
   "id": "2831a9ad",
   "metadata": {},
   "outputs": [
    {
     "name": "stdout",
     "output_type": "stream",
     "text": [
      "x is greater than y\n"
     ]
    }
   ],
   "source": [
    "x = 12\n",
    "y = 100**0.15\n",
    "\n",
    "if x<y:\n",
    "    print('x is less than y')\n",
    "else:\n",
    "    print('x is greater than y')"
   ]
  },
  {
   "cell_type": "code",
   "execution_count": 7,
   "id": "314e83de",
   "metadata": {},
   "outputs": [
    {
     "name": "stdout",
     "output_type": "stream",
     "text": [
      "Enter your location: 2\n",
      "Where are you?\n"
     ]
    }
   ],
   "source": [
    "loc = str(input('Enter your location: '))\n",
    "\n",
    "if loc == 'Auto Shop':\n",
    "    print('This is a auto shop')\n",
    "elif loc == 'Bank':\n",
    "    print('Welcome to the Bank')\n",
    "else:\n",
    "    print('Where are you?')"
   ]
  },
  {
   "cell_type": "code",
   "execution_count": 13,
   "id": "fa58ba5b",
   "metadata": {},
   "outputs": [
    {
     "name": "stdout",
     "output_type": "stream",
     "text": [
      "Enter your nameksajdlk\n",
      "Sorry you dont belong here\n"
     ]
    }
   ],
   "source": [
    "loc=input('Enter your name')\n",
    "if loc=='David':\n",
    "    print('This is David')\n",
    "elif loc=='Matt':\n",
    "    print('This is Matt')\n",
    "elif loc=='Brad':\n",
    "    print('This is Brad')\n",
    "else:\n",
    "    print('Sorry you dont belong here')"
   ]
  },
  {
   "cell_type": "code",
   "execution_count": null,
   "id": "68992e75",
   "metadata": {},
   "outputs": [],
   "source": []
  }
 ],
 "metadata": {
  "kernelspec": {
   "display_name": "Python 3 (ipykernel)",
   "language": "python",
   "name": "python3"
  },
  "language_info": {
   "codemirror_mode": {
    "name": "ipython",
    "version": 3
   },
   "file_extension": ".py",
   "mimetype": "text/x-python",
   "name": "python",
   "nbconvert_exporter": "python",
   "pygments_lexer": "ipython3",
   "version": "3.11.5"
  }
 },
 "nbformat": 4,
 "nbformat_minor": 5
}
