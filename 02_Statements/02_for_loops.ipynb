{
 "cells": [
  {
   "cell_type": "code",
   "execution_count": 1,
   "id": "f2e2ae7f",
   "metadata": {},
   "outputs": [],
   "source": [
    "#Example1\n",
    "\n",
    "lst1 = [1,2,3,4,5,6,7,8,9,10]"
   ]
  },
  {
   "cell_type": "code",
   "execution_count": 5,
   "id": "0fba14ff",
   "metadata": {},
   "outputs": [
    {
     "name": "stdout",
     "output_type": "stream",
     "text": [
      "0.5\n",
      "1.0\n",
      "1.5\n",
      "2.0\n",
      "2.5\n",
      "3.0\n",
      "3.5\n",
      "4.0\n",
      "4.5\n",
      "5.0\n"
     ]
    }
   ],
   "source": [
    "#get me half of lst1\n",
    "for number in lst1:\n",
    "    print(number/2)"
   ]
  },
  {
   "cell_type": "code",
   "execution_count": 6,
   "id": "59f06f1f",
   "metadata": {},
   "outputs": [
    {
     "name": "stdout",
     "output_type": "stream",
     "text": [
      "2\n",
      "4\n",
      "6\n",
      "8\n",
      "10\n"
     ]
    }
   ],
   "source": [
    "#print even number from list\n",
    "for number in lst1:\n",
    "    if number % 2 == 0:\n",
    "        print(number)"
   ]
  },
  {
   "cell_type": "code",
   "execution_count": 9,
   "id": "3b7210d7",
   "metadata": {},
   "outputs": [
    {
     "name": "stdout",
     "output_type": "stream",
     "text": [
      "1\n",
      "this is a even number\n",
      "3\n",
      "this is a even number\n",
      "5\n",
      "this is a even number\n",
      "7\n",
      "this is a even number\n",
      "9\n",
      "this is a even number\n"
     ]
    }
   ],
   "source": [
    "#print odd numbers and inplace of even numbers print 'this is a even number'\n",
    "\n",
    "for number in lst1:\n",
    "    if number % 2 == 0:\n",
    "        print('this is a even number')\n",
    "    else:\n",
    "        print(number)"
   ]
  },
  {
   "cell_type": "code",
   "execution_count": 11,
   "id": "e9fc1ca2",
   "metadata": {},
   "outputs": [
    {
     "data": {
      "text/plain": [
       "[1, 2, 3, 4, 5, 6, 7, 8, 9, 10]"
      ]
     },
     "execution_count": 11,
     "metadata": {},
     "output_type": "execute_result"
    }
   ],
   "source": [
    "lst1"
   ]
  },
  {
   "cell_type": "code",
   "execution_count": 13,
   "id": "94c1450b",
   "metadata": {},
   "outputs": [
    {
     "name": "stdout",
     "output_type": "stream",
     "text": [
      "55\n"
     ]
    }
   ],
   "source": [
    "sum = 0 \n",
    "\n",
    "for num in lst1:\n",
    "    sum += num\n",
    "print(sum)"
   ]
  },
  {
   "cell_type": "code",
   "execution_count": 14,
   "id": "52e849a8",
   "metadata": {},
   "outputs": [
    {
     "name": "stdout",
     "output_type": "stream",
     "text": [
      "t\n",
      "h\n",
      "i\n",
      "s\n",
      " \n",
      "i\n",
      "s\n",
      " \n",
      "a\n",
      " \n",
      "s\n",
      "t\n",
      "r\n",
      "i\n",
      "n\n",
      "g\n"
     ]
    }
   ],
   "source": [
    "for x in 'this is a string':\n",
    "    print(x)"
   ]
  },
  {
   "cell_type": "code",
   "execution_count": 16,
   "id": "00712759",
   "metadata": {},
   "outputs": [
    {
     "name": "stdout",
     "output_type": "stream",
     "text": [
      "1\n",
      "4\n",
      "9\n",
      "16\n"
     ]
    }
   ],
   "source": [
    "for x in (1,2,3,4):\n",
    "    print(x**2)"
   ]
  },
  {
   "cell_type": "markdown",
   "id": "1f6ced05",
   "metadata": {},
   "source": [
    "## Tuple Unpacking"
   ]
  },
  {
   "cell_type": "code",
   "execution_count": 17,
   "id": "4142418a",
   "metadata": {},
   "outputs": [],
   "source": [
    "lst2 = [(1,2),(3,4),(5,6),(7,8)]"
   ]
  },
  {
   "cell_type": "code",
   "execution_count": 18,
   "id": "d2a29a98",
   "metadata": {},
   "outputs": [
    {
     "name": "stdout",
     "output_type": "stream",
     "text": [
      "(1, 2)\n",
      "(3, 4)\n",
      "(5, 6)\n",
      "(7, 8)\n"
     ]
    }
   ],
   "source": [
    "for tup in lst2:\n",
    "    print(tup)"
   ]
  },
  {
   "cell_type": "code",
   "execution_count": 22,
   "id": "bdb5be0d",
   "metadata": {},
   "outputs": [
    {
     "name": "stdout",
     "output_type": "stream",
     "text": [
      "1 2\n",
      "3 4\n",
      "5 6\n",
      "7 8\n"
     ]
    }
   ],
   "source": [
    "for (tup1,tup2) in lst2:\n",
    "    print(tup1,tup2)"
   ]
  },
  {
   "cell_type": "code",
   "execution_count": 26,
   "id": "1a44f8e4",
   "metadata": {},
   "outputs": [
    {
     "name": "stdout",
     "output_type": "stream",
     "text": [
      "[3, 7, 11, 15]\n"
     ]
    }
   ],
   "source": [
    "lst3 = []\n",
    "\n",
    "for x,y in lst2:\n",
    "    lst3.append(x+y)\n",
    "print(lst3)"
   ]
  },
  {
   "cell_type": "code",
   "execution_count": 27,
   "id": "66d43bfd",
   "metadata": {},
   "outputs": [],
   "source": [
    "d = {'k1':1,'k2':11,'k3':111}"
   ]
  },
  {
   "cell_type": "code",
   "execution_count": 29,
   "id": "d1eb0840",
   "metadata": {},
   "outputs": [
    {
     "name": "stdout",
     "output_type": "stream",
     "text": [
      "k1\n",
      "k2\n",
      "k3\n"
     ]
    }
   ],
   "source": [
    "for x in d:\n",
    "    print(x) #we got only keys"
   ]
  },
  {
   "cell_type": "code",
   "execution_count": 30,
   "id": "2ba2aeb1",
   "metadata": {},
   "outputs": [
    {
     "data": {
      "text/plain": [
       "dict_items([('k1', 1), ('k2', 11), ('k3', 111)])"
      ]
     },
     "execution_count": 30,
     "metadata": {},
     "output_type": "execute_result"
    }
   ],
   "source": [
    "d.items()"
   ]
  },
  {
   "cell_type": "code",
   "execution_count": 31,
   "id": "4f28c02a",
   "metadata": {},
   "outputs": [
    {
     "name": "stdout",
     "output_type": "stream",
     "text": [
      "k1\n",
      "1\n",
      "k2\n",
      "11\n",
      "k3\n",
      "111\n"
     ]
    }
   ],
   "source": [
    "#Dictionary Unpacking\n",
    "\n",
    "for (x,y) in d.items():\n",
    "    print(x)\n",
    "    print(y)"
   ]
  },
  {
   "cell_type": "code",
   "execution_count": 32,
   "id": "0d9b9203",
   "metadata": {},
   "outputs": [
    {
     "name": "stdout",
     "output_type": "stream",
     "text": [
      "123\n"
     ]
    }
   ],
   "source": [
    "sum=0\n",
    "for (x,y) in d.items():\n",
    "    sum=sum+y\n",
    "print(sum)"
   ]
  },
  {
   "cell_type": "code",
   "execution_count": 33,
   "id": "0884805f",
   "metadata": {},
   "outputs": [
    {
     "name": "stdout",
     "output_type": "stream",
     "text": [
      "123\n"
     ]
    }
   ],
   "source": [
    "sum =0\n",
    "for x in d:\n",
    "    sum += d[x]\n",
    "    \n",
    "print(sum)"
   ]
  },
  {
   "cell_type": "code",
   "execution_count": 34,
   "id": "33d10252",
   "metadata": {},
   "outputs": [
    {
     "data": {
      "text/plain": [
       "dict_values([1, 11, 111])"
      ]
     },
     "execution_count": 34,
     "metadata": {},
     "output_type": "execute_result"
    }
   ],
   "source": [
    "d.values()"
   ]
  },
  {
   "cell_type": "code",
   "execution_count": 35,
   "id": "b4495ce6",
   "metadata": {},
   "outputs": [
    {
     "name": "stdout",
     "output_type": "stream",
     "text": [
      "123\n"
     ]
    }
   ],
   "source": [
    "sum = 0 \n",
    "\n",
    "for x in d.values():\n",
    "    sum = sum + x\n",
    "    \n",
    "print(sum)"
   ]
  },
  {
   "cell_type": "code",
   "execution_count": 36,
   "id": "27f2c9a1",
   "metadata": {},
   "outputs": [],
   "source": [
    "st = 'Print only the words that start with t in this string'"
   ]
  },
  {
   "cell_type": "code",
   "execution_count": 38,
   "id": "c913c96c",
   "metadata": {},
   "outputs": [
    {
     "data": {
      "text/plain": [
       "['Print',\n",
       " 'only',\n",
       " 'the',\n",
       " 'words',\n",
       " 'that',\n",
       " 'start',\n",
       " 'with',\n",
       " 't',\n",
       " 'in',\n",
       " 'this',\n",
       " 'string']"
      ]
     },
     "execution_count": 38,
     "metadata": {},
     "output_type": "execute_result"
    }
   ],
   "source": [
    "st.split()"
   ]
  },
  {
   "cell_type": "code",
   "execution_count": 37,
   "id": "f37454d3",
   "metadata": {},
   "outputs": [
    {
     "name": "stdout",
     "output_type": "stream",
     "text": [
      "the\n",
      "that\n",
      "t\n",
      "this\n"
     ]
    }
   ],
   "source": [
    "for word in st.split():\n",
    "    if word[0] == 't':\n",
    "        print(word)"
   ]
  },
  {
   "cell_type": "markdown",
   "id": "4ea44267",
   "metadata": {},
   "source": [
    "write a program that prints the integers from 1 to 100. But for multiple of 4 print 'Hello RBPL', for multiple of 8 print 'Hello Shreyas' and for multiple of both 4 and 8 print '8th January 2024'"
   ]
  },
  {
   "cell_type": "code",
   "execution_count": 5,
   "id": "66717516",
   "metadata": {},
   "outputs": [
    {
     "name": "stdout",
     "output_type": "stream",
     "text": [
      "1\n",
      "2\n",
      "3\n",
      "Hello RBPL\n",
      "5\n",
      "6\n",
      "7\n",
      "8th January 2024\n",
      "9\n",
      "10\n",
      "11\n",
      "Hello RBPL\n",
      "13\n",
      "14\n",
      "15\n",
      "8th January 2024\n",
      "17\n",
      "18\n",
      "19\n",
      "Hello RBPL\n",
      "21\n",
      "22\n",
      "23\n",
      "8th January 2024\n",
      "25\n",
      "26\n",
      "27\n",
      "Hello RBPL\n",
      "29\n",
      "30\n",
      "31\n",
      "8th January 2024\n",
      "33\n",
      "34\n",
      "35\n",
      "Hello RBPL\n",
      "37\n",
      "38\n",
      "39\n",
      "8th January 2024\n",
      "41\n",
      "42\n",
      "43\n",
      "Hello RBPL\n",
      "45\n",
      "46\n",
      "47\n",
      "8th January 2024\n",
      "49\n",
      "50\n",
      "51\n",
      "Hello RBPL\n",
      "53\n",
      "54\n",
      "55\n",
      "8th January 2024\n",
      "57\n",
      "58\n",
      "59\n",
      "Hello RBPL\n",
      "61\n",
      "62\n",
      "63\n",
      "8th January 2024\n",
      "65\n",
      "66\n",
      "67\n",
      "Hello RBPL\n",
      "69\n",
      "70\n",
      "71\n",
      "8th January 2024\n",
      "73\n",
      "74\n",
      "75\n",
      "Hello RBPL\n",
      "77\n",
      "78\n",
      "79\n",
      "8th January 2024\n",
      "81\n",
      "82\n",
      "83\n",
      "Hello RBPL\n",
      "85\n",
      "86\n",
      "87\n",
      "8th January 2024\n",
      "89\n",
      "90\n",
      "91\n",
      "Hello RBPL\n",
      "93\n",
      "94\n",
      "95\n",
      "8th January 2024\n",
      "97\n",
      "98\n",
      "99\n",
      "Hello RBPL\n"
     ]
    }
   ],
   "source": [
    "for x in range(1,101):\n",
    "    if(x%4==0):\n",
    "        if(x%8==0):\n",
    "            print('8th January 2024')\n",
    "        else:\n",
    "            print('Hello RBPL')\n",
    "    elif(x%8==0):\n",
    "        if(x%4==0):\n",
    "            print('8th January 2024')\n",
    "        else:\n",
    "            print('Hello Shreyas')\n",
    "    else:\n",
    "        print(x)"
   ]
  },
  {
   "cell_type": "code",
   "execution_count": 2,
   "id": "2399d154",
   "metadata": {},
   "outputs": [
    {
     "name": "stdout",
     "output_type": "stream",
     "text": [
      "1\n",
      "2\n",
      "3\n",
      "Hello RBPL\n",
      "5\n",
      "6\n",
      "7\n",
      "8th January, 2024\n",
      "9\n",
      "10\n",
      "11\n",
      "Hello RBPL\n",
      "13\n",
      "14\n",
      "15\n",
      "8th January, 2024\n",
      "17\n",
      "18\n",
      "19\n",
      "Hello RBPL\n",
      "21\n",
      "22\n",
      "23\n",
      "8th January, 2024\n",
      "25\n",
      "26\n",
      "27\n",
      "Hello RBPL\n",
      "29\n",
      "30\n",
      "31\n",
      "8th January, 2024\n",
      "33\n",
      "34\n",
      "35\n",
      "Hello RBPL\n",
      "37\n",
      "38\n",
      "39\n",
      "8th January, 2024\n",
      "41\n",
      "42\n",
      "43\n",
      "Hello RBPL\n",
      "45\n",
      "46\n",
      "47\n",
      "8th January, 2024\n",
      "49\n",
      "50\n",
      "51\n",
      "Hello RBPL\n",
      "53\n",
      "54\n",
      "55\n",
      "8th January, 2024\n",
      "57\n",
      "58\n",
      "59\n",
      "Hello RBPL\n",
      "61\n",
      "62\n",
      "63\n",
      "8th January, 2024\n",
      "65\n",
      "66\n",
      "67\n",
      "Hello RBPL\n",
      "69\n",
      "70\n",
      "71\n",
      "8th January, 2024\n",
      "73\n",
      "74\n",
      "75\n",
      "Hello RBPL\n",
      "77\n",
      "78\n",
      "79\n",
      "8th January, 2024\n",
      "81\n",
      "82\n",
      "83\n",
      "Hello RBPL\n",
      "85\n",
      "86\n",
      "87\n",
      "8th January, 2024\n",
      "89\n",
      "90\n",
      "91\n",
      "Hello RBPL\n",
      "93\n",
      "94\n",
      "95\n",
      "8th January, 2024\n",
      "97\n",
      "98\n",
      "99\n",
      "Hello RBPL\n"
     ]
    }
   ],
   "source": [
    "for i in range(1,101):   \n",
    "    if (i%4==0 and i%8==0):\n",
    "         print(\"8th January, 2024\")  \n",
    "    elif(i%8==0):\n",
    "         print(\"Hello Shreyas\")\n",
    "    elif(i%4==0):\n",
    "         print(\"Hello RBPL\")\n",
    "    else:\n",
    "         print(i)"
   ]
  },
  {
   "cell_type": "code",
   "execution_count": 9,
   "id": "7019bcc6",
   "metadata": {},
   "outputs": [
    {
     "name": "stdout",
     "output_type": "stream",
     "text": [
      "1\n",
      "2\n",
      "3\n",
      "Hello RBPL\n",
      "5\n",
      "6\n",
      "7\n",
      "8th Jan 2024\n",
      "9\n",
      "10\n",
      "11\n",
      "Hello RBPL\n",
      "13\n",
      "14\n",
      "15\n",
      "8th Jan 2024\n",
      "17\n",
      "18\n",
      "19\n",
      "Hello RBPL\n",
      "21\n",
      "22\n",
      "23\n",
      "8th Jan 2024\n",
      "25\n",
      "26\n",
      "27\n",
      "Hello RBPL\n",
      "29\n",
      "30\n",
      "31\n",
      "8th Jan 2024\n",
      "33\n",
      "34\n",
      "35\n",
      "Hello RBPL\n",
      "37\n",
      "38\n",
      "39\n",
      "8th Jan 2024\n",
      "41\n",
      "42\n",
      "43\n",
      "Hello RBPL\n",
      "45\n",
      "46\n",
      "47\n",
      "8th Jan 2024\n",
      "49\n",
      "50\n",
      "51\n",
      "Hello RBPL\n",
      "53\n",
      "54\n",
      "55\n",
      "8th Jan 2024\n",
      "57\n",
      "58\n",
      "59\n",
      "Hello RBPL\n",
      "61\n",
      "62\n",
      "63\n",
      "8th Jan 2024\n",
      "65\n",
      "66\n",
      "67\n",
      "Hello RBPL\n",
      "69\n",
      "70\n",
      "71\n",
      "8th Jan 2024\n",
      "73\n",
      "74\n",
      "75\n",
      "Hello RBPL\n",
      "77\n",
      "78\n",
      "79\n",
      "8th Jan 2024\n",
      "81\n",
      "82\n",
      "83\n",
      "Hello RBPL\n",
      "85\n",
      "86\n",
      "87\n",
      "8th Jan 2024\n",
      "89\n",
      "90\n",
      "91\n",
      "Hello RBPL\n",
      "93\n",
      "94\n",
      "95\n",
      "8th Jan 2024\n",
      "97\n",
      "98\n",
      "99\n",
      "Hello RBPL\n"
     ]
    }
   ],
   "source": [
    "lst = []\n",
    "lst_4 = []\n",
    "lst_8 = []\n",
    "\n",
    "for i in range(1,101):\n",
    "    lst.append(i)\n",
    "    lst_4.append(4*i)\n",
    "    lst_8.append(8*i)\n",
    "    \n",
    "for x in range(1,101):\n",
    "    if((x in lst_4) and (x in lst_8)):\n",
    "        print(\"8th Jan 2024\")\n",
    "        \n",
    "    elif(x in lst_4):\n",
    "        print(\"Hello RBPL\")\n",
    "        \n",
    "    elif(x in lst_8):\n",
    "        print(\"Hello Shreyas\")\n",
    "        \n",
    "    else:\n",
    "        print(x)"
   ]
  },
  {
   "cell_type": "code",
   "execution_count": null,
   "id": "5f320a68",
   "metadata": {},
   "outputs": [],
   "source": []
  }
 ],
 "metadata": {
  "kernelspec": {
   "display_name": "Python 3 (ipykernel)",
   "language": "python",
   "name": "python3"
  },
  "language_info": {
   "codemirror_mode": {
    "name": "ipython",
    "version": 3
   },
   "file_extension": ".py",
   "mimetype": "text/x-python",
   "name": "python",
   "nbconvert_exporter": "python",
   "pygments_lexer": "ipython3",
   "version": "3.11.5"
  }
 },
 "nbformat": 4,
 "nbformat_minor": 5
}
