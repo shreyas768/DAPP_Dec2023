{
 "cells": [
  {
   "cell_type": "code",
   "execution_count": 3,
   "id": "950a7dd0",
   "metadata": {},
   "outputs": [
    {
     "name": "stdout",
     "output_type": "stream",
     "text": [
      "current value of x:  0\n",
      "x is still less than 10, so loop continues\n",
      "current value of x:  1\n",
      "x is still less than 10, so loop continues\n",
      "current value of x:  2\n",
      "x is still less than 10, so loop continues\n",
      "current value of x:  3\n",
      "x is still less than 10, so loop continues\n",
      "current value of x:  4\n",
      "x is still less than 10, so loop continues\n",
      "current value of x:  5\n",
      "x is still less than 10, so loop continues\n",
      "current value of x:  6\n",
      "x is still less than 10, so loop continues\n",
      "current value of x:  7\n",
      "x is still less than 10, so loop continues\n",
      "current value of x:  8\n",
      "x is still less than 10, so loop continues\n",
      "current value of x:  9\n",
      "x is still less than 10, so loop continues\n"
     ]
    }
   ],
   "source": [
    "x = 0 \n",
    "\n",
    "while x < 10:\n",
    "    print('current value of x: ',x)\n",
    "    print('x is still less than 10, so loop continues')\n",
    "    x = x+1"
   ]
  },
  {
   "cell_type": "code",
   "execution_count": 4,
   "id": "e35ff970",
   "metadata": {},
   "outputs": [
    {
     "name": "stdout",
     "output_type": "stream",
     "text": [
      "current value of x:  0\n",
      "x is still less than 10, so loop continues\n",
      "current value of x:  1\n",
      "x is still less than 10, so loop continues\n",
      "current value of x:  2\n",
      "x is still less than 10, so loop continues\n",
      "current value of x:  3\n",
      "x is still less than 10, so loop continues\n",
      "current value of x:  4\n",
      "x is still less than 10, so loop continues\n",
      "current value of x:  5\n",
      "x is still less than 10, so loop continues\n",
      "current value of x:  6\n",
      "x is still less than 10, so loop continues\n",
      "current value of x:  7\n",
      "x is still less than 10, so loop continues\n",
      "current value of x:  8\n",
      "x is still less than 10, so loop continues\n",
      "current value of x:  9\n",
      "x is still less than 10, so loop continues\n",
      "x is now equal to 10 so loop ends here\n"
     ]
    }
   ],
   "source": [
    "x = 0 \n",
    "\n",
    "while x < 10:\n",
    "    print('current value of x: ',x)\n",
    "    print('x is still less than 10, so loop continues')\n",
    "    x = x+1\n",
    "else:\n",
    "    print('x is now equal to 10 so loop ends here')"
   ]
  },
  {
   "cell_type": "markdown",
   "id": "c8e06969",
   "metadata": {},
   "source": [
    "## Break, Continue, Pass\n",
    "\n",
    "#### break: breaks out of current closest enclosing loop\n",
    "#### continue: goes to top of the closest enclosing loop\n",
    "#### pass: do nothing at all"
   ]
  },
  {
   "cell_type": "code",
   "execution_count": 5,
   "id": "b8d01283",
   "metadata": {},
   "outputs": [
    {
     "name": "stdout",
     "output_type": "stream",
     "text": [
      "current value of x:  0\n",
      "x is still less than 10, so loop continues\n",
      "continuing\n",
      "current value of x:  1\n",
      "x is still less than 10, so loop continues\n",
      "continuing\n",
      "current value of x:  2\n",
      "x is still less than 10, so loop continues\n",
      "x is now equal to 3\n",
      "current value of x:  3\n",
      "x is still less than 10, so loop continues\n",
      "continuing\n",
      "current value of x:  4\n",
      "x is still less than 10, so loop continues\n",
      "continuing\n",
      "current value of x:  5\n",
      "x is still less than 10, so loop continues\n",
      "continuing\n",
      "current value of x:  6\n",
      "x is still less than 10, so loop continues\n",
      "continuing\n",
      "current value of x:  7\n",
      "x is still less than 10, so loop continues\n",
      "continuing\n",
      "current value of x:  8\n",
      "x is still less than 10, so loop continues\n",
      "continuing\n",
      "current value of x:  9\n",
      "x is still less than 10, so loop continues\n",
      "continuing\n"
     ]
    }
   ],
   "source": [
    "x = 0 \n",
    "while x <10:\n",
    "    print('current value of x: ',x)\n",
    "    print('x is still less than 10, so loop continues')\n",
    "    x = x+1\n",
    "    if x == 3:\n",
    "        print('x is now equal to 3')\n",
    "    else:\n",
    "        print('continuing')\n",
    "        continue"
   ]
  },
  {
   "cell_type": "code",
   "execution_count": 6,
   "id": "fe7d9f81",
   "metadata": {},
   "outputs": [
    {
     "name": "stdout",
     "output_type": "stream",
     "text": [
      "current value of x:  0\n",
      "x is still less than 10, so loop continues\n",
      "continuing\n",
      "current value of x:  1\n",
      "x is still less than 10, so loop continues\n",
      "continuing\n",
      "current value of x:  2\n",
      "x is still less than 10, so loop continues\n",
      "x is now equal to 3. hence breaking the loop\n"
     ]
    }
   ],
   "source": [
    "x = 0 \n",
    "while x <10:\n",
    "    print('current value of x: ',x)\n",
    "    print('x is still less than 10, so loop continues')\n",
    "    x = x+1\n",
    "    if x == 3:\n",
    "        print('x is now equal to 3. hence breaking the loop')\n",
    "        break\n",
    "    else:\n",
    "        print('continuing')\n",
    "        continue"
   ]
  },
  {
   "cell_type": "code",
   "execution_count": 12,
   "id": "c78eb5c5",
   "metadata": {},
   "outputs": [
    {
     "data": {
      "text/plain": [
       "[0, 1, 2, 3, 4]"
      ]
     },
     "execution_count": 12,
     "metadata": {},
     "output_type": "execute_result"
    }
   ],
   "source": [
    "list(range(0,5))\n",
    "\n",
    "#while loop to perform sum of number from 1 to 500. break the while loop when sum becomes greater than 200"
   ]
  },
  {
   "cell_type": "code",
   "execution_count": 9,
   "id": "0c297daa",
   "metadata": {},
   "outputs": [],
   "source": [
    "#list(range(1,501))"
   ]
  },
  {
   "cell_type": "code",
   "execution_count": 16,
   "id": "2eb2f5f1",
   "metadata": {},
   "outputs": [
    {
     "name": "stdout",
     "output_type": "stream",
     "text": [
      "0\n",
      "1\n",
      "3\n",
      "6\n",
      "10\n",
      "15\n",
      "21\n",
      "28\n",
      "36\n",
      "45\n",
      "55\n",
      "66\n",
      "78\n",
      "91\n",
      "105\n",
      "120\n",
      "136\n",
      "153\n",
      "171\n",
      "190\n",
      "Sum exceeds 200\n"
     ]
    }
   ],
   "source": [
    "sum=0\n",
    "for x in range(1,501):\n",
    "    print(sum)\n",
    "    sum=sum+x\n",
    "    if sum>200:\n",
    "        print(\"Sum exceeds 200\")\n",
    "        break\n",
    "    "
   ]
  },
  {
   "cell_type": "code",
   "execution_count": null,
   "id": "5106cbd4",
   "metadata": {},
   "outputs": [],
   "source": []
  }
 ],
 "metadata": {
  "kernelspec": {
   "display_name": "Python 3 (ipykernel)",
   "language": "python",
   "name": "python3"
  },
  "language_info": {
   "codemirror_mode": {
    "name": "ipython",
    "version": 3
   },
   "file_extension": ".py",
   "mimetype": "text/x-python",
   "name": "python",
   "nbconvert_exporter": "python",
   "pygments_lexer": "ipython3",
   "version": "3.11.5"
  }
 },
 "nbformat": 4,
 "nbformat_minor": 5
}
